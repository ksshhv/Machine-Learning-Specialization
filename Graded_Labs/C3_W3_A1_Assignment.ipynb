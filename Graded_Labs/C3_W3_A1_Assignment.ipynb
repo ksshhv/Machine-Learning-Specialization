{
 "cells": [
  {
   "cell_type": "markdown",
   "metadata": {},
   "source": [
    "# Deep Q-Learning - Lunar Lander\n",
    "\n",
    "In this assignment, you will train an agent to land a lunar lander safely on a landing pad on the surface of the moon.\n",
    "\n",
    "\n",
    "# Outline\n",
    "- [ 1 - Import Packages <img align=\"Right\" src=\"./images/lunar_lander.gif\" width = 60% >](#1)\n",
    "- [ 2 - Hyperparameters](#2)\n",
    "- [ 3 - The Lunar Lander Environment](#3)\n",
    "  - [ 3.1 Action Space](#3.1)\n",
    "  - [ 3.2 Observation Space](#3.2)\n",
    "  - [ 3.3 Rewards](#3.3)\n",
    "  - [ 3.4 Episode Termination](#3.4)\n",
    "- [ 4 - Load the Environment](#4)\n",
    "- [ 5 - Interacting with the Gym Environment](#5)\n",
    "    - [ 5.1 Exploring the Environment's Dynamics](#5.1)\n",
    "- [ 6 - Deep Q-Learning](#6)\n",
    "  - [ 6.1 Target Network](#6.1)\n",
    "    - [ Exercise 1](#ex01)\n",
    "  - [ 6.2 Experience Replay](#6.2)\n",
    "- [ 7 - Deep Q-Learning Algorithm with Experience Replay](#7)\n",
    "  - [ Exercise 2](#ex02)\n",
    "- [ 8 - Update the Network Weights](#8)\n",
    "- [ 9 - Train the Agent](#9)\n",
    "- [ 10 - See the Trained Agent In Action](#10)\n",
    "- [ 11 - Congratulations!](#11)\n",
    "- [ 12 - References](#12)\n"
   ]
  },
  {
   "cell_type": "markdown",
   "metadata": {},
   "source": [
    "_**NOTE:** To prevent errors from the autograder, you are not allowed to edit or delete non-graded cells in this lab. Please also refrain from adding any new cells. \n",
    "**Once you have passed this assignment** and want to experiment with any of the non-graded code, you may follow the instructions at the bottom of this notebook._"
   ]
  },
  {
   "cell_type": "markdown",
   "metadata": {},
   "source": [
    "<a name=\"1\"></a>\n",
    "## 1 - Import Packages\n",
    "\n",
    "We'll make use of the following packages:\n",
    "- `numpy` is a package for scientific computing in python.\n",
    "- `deque` will be our data structure for our memory buffer.\n",
    "- `namedtuple` will be used to store the experience tuples.\n",
    "- The `gym` toolkit is a collection of environments that can be used to test reinforcement learning algorithms. We should note that in this notebook we are using `gym` version `0.24.0`.\n",
    "- `PIL.Image` and `pyvirtualdisplay` are needed to render the Lunar Lander environment.\n",
    "- We will use several modules from the `tensorflow.keras` framework for building deep learning models.\n",
    "- `utils` is a module that contains helper functions for this assignment. You do not need to modify the code in this file.\n",
    "\n",
    "Run the cell below to import all the necessary packages."
   ]
  },
  {
   "cell_type": "code",
   "execution_count": 1,
   "metadata": {
    "deletable": false,
    "editable": false,
    "id": "KYbOPKRtfQOr"
   },
   "outputs": [],
   "source": [
    "import time\n",
    "from collections import deque, namedtuple\n",
    "\n",
    "import gym\n",
    "import numpy as np\n",
    "import PIL.Image\n",
    "import tensorflow as tf\n",
    "import utils\n",
    "\n",
    "from pyvirtualdisplay import Display\n",
    "from tensorflow.keras import Sequential\n",
    "from tensorflow.keras.layers import Dense, Input\n",
    "from tensorflow.keras.losses import MSE\n",
    "from tensorflow.keras.optimizers import Adam"
   ]
  },
  {
   "cell_type": "code",
   "execution_count": 2,
   "metadata": {
    "deletable": false,
    "editable": false
   },
   "outputs": [],
   "source": [
    "# Set up a virtual display to render the Lunar Lander environment.\n",
    "Display(visible=0, size=(840, 480)).start();\n",
    "\n",
    "# Set the random seed for TensorFlow\n",
    "tf.random.set_seed(utils.SEED)"
   ]
  },
  {
   "cell_type": "markdown",
   "metadata": {},
   "source": [
    "<a name=\"2\"></a>\n",
    "## 2 - Hyperparameters\n",
    "\n",
    "Run the cell below to set the hyperparameters."
   ]
  },
  {
   "cell_type": "code",
   "execution_count": 3,
   "metadata": {
    "deletable": false,
    "editable": false
   },
   "outputs": [],
   "source": [
    "MEMORY_SIZE = 100_000     # size of memory buffer\n",
    "GAMMA = 0.995             # discount factor\n",
    "ALPHA = 1e-3              # learning rate  \n",
    "NUM_STEPS_FOR_UPDATE = 4  # perform a learning update every C time steps"
   ]
  },
  {
   "cell_type": "markdown",
   "metadata": {},
   "source": [
    "<a name=\"3\"></a>\n",
    "## 3 - The Lunar Lander Environment\n",
    "\n",
    "In this notebook we will be using [OpenAI's Gym Library](https://www.gymlibrary.dev/). The Gym library provides a wide variety of environments for reinforcement learning. To put it simply, an environment represents a problem or task to be solved. In this notebook, we will try to solve the Lunar Lander environment using reinforcement learning.\n",
    "\n",
    "The goal of the Lunar Lander environment is to land the lunar lander safely on the landing pad on the surface of the moon. The landing pad is designated by two flag poles and its center is at coordinates `(0,0)` but the lander is also allowed to land outside of the landing pad. The lander starts at the top center of the environment with a random initial force applied to its center of mass and has infinite fuel. The environment is considered solved if you get `200` points. \n",
    "\n",
    "<br>\n",
    "<br>\n",
    "<figure>\n",
    "  <img src = \"images/lunar_lander.gif\" width = 40%>\n",
    "      <figcaption style = \"text-align: center; font-style: italic\">Fig 1. Lunar Lander Environment.</figcaption>\n",
    "</figure>\n",
    "\n",
    "\n",
    "\n",
    "<a name=\"3.1\"></a>\n",
    "### 3.1 Action Space\n",
    "\n",
    "The agent has four discrete actions available:\n",
    "\n",
    "* Do nothing.\n",
    "* Fire right engine.\n",
    "* Fire main engine.\n",
    "* Fire left engine.\n",
    "\n",
    "Each action has a corresponding numerical value:\n",
    "\n",
    "```python\n",
    "Do nothing = 0\n",
    "Fire right engine = 1\n",
    "Fire main engine = 2\n",
    "Fire left engine = 3\n",
    "```\n",
    "\n",
    "<a name=\"3.2\"></a>\n",
    "### 3.2 Observation Space\n",
    "\n",
    "The agent's observation space consists of a state vector with 8 variables:\n",
    "\n",
    "* Its $(x,y)$ coordinates. The landing pad is always at coordinates $(0,0)$.\n",
    "* Its linear velocities $(\\dot x,\\dot y)$.\n",
    "* Its angle $\\theta$.\n",
    "* Its angular velocity $\\dot \\theta$.\n",
    "* Two booleans, $l$ and $r$, that represent whether each leg is in contact with the ground or not.\n",
    "\n",
    "<a name=\"3.3\"></a>\n",
    "### 3.3 Rewards\n",
    "\n",
    "After every step, a reward is granted. The total reward of an episode is the sum of the rewards for all the steps within that episode.\n",
    "\n",
    "For each step, the reward:\n",
    "- is increased/decreased the closer/further the lander is to the landing pad.\n",
    "- is increased/decreased the slower/faster the lander is moving.\n",
    "- is decreased the more the lander is tilted (angle not horizontal).\n",
    "- is increased by 10 points for each leg that is in contact with the ground.\n",
    "- is decreased by 0.03 points each frame a side engine is firing.\n",
    "- is decreased by 0.3 points each frame the main engine is firing.\n",
    "\n",
    "The episode receives an additional reward of -100 or +100 points for crashing or landing safely respectively.\n",
    "\n",
    "<a name=\"3.4\"></a>\n",
    "### 3.4 Episode Termination\n",
    "\n",
    "An episode ends (i.e the environment enters a terminal state) if:\n",
    "\n",
    "* The lunar lander crashes (i.e if the body of the lunar lander comes in contact with the surface of the moon).\n",
    "\n",
    "* The absolute value of the lander's $x$-coordinate is greater than 1 (i.e. it goes beyond the left or right border)\n",
    "\n",
    "You can check out the [Open AI Gym documentation](https://www.gymlibrary.dev/environments/box2d/lunar_lander/) for a full description of the environment. "
   ]
  },
  {
   "cell_type": "markdown",
   "metadata": {},
   "source": [
    "<a name=\"4\"></a>\n",
    "## 4 - Load the Environment\n",
    "\n",
    "We start by loading the `LunarLander-v2` environment from the `gym` library by using the `.make()` method. `LunarLander-v2` is the latest version of the Lunar Lander environment and you can read about its version history in the [Open AI Gym documentation](https://www.gymlibrary.dev/environments/box2d/lunar_lander/#version-history)."
   ]
  },
  {
   "cell_type": "code",
   "execution_count": 4,
   "metadata": {
    "deletable": false,
    "editable": false,
    "id": "ILVMYKewfR0n"
   },
   "outputs": [],
   "source": [
    "env = gym.make('LunarLander-v2')"
   ]
  },
  {
   "cell_type": "markdown",
   "metadata": {},
   "source": [
    "Once we load the environment we use the `.reset()` method to reset the environment to the initial state. The lander starts at the top center of the environment and we can render the first frame of the environment by using the `.render()` method."
   ]
  },
  {
   "cell_type": "code",
   "execution_count": 5,
   "metadata": {
    "deletable": false,
    "editable": false
   },
   "outputs": [
    {
     "data": {
      "image/png": "[encoded data removed]",
      "text/plain": [
       "<PIL.Image.Image image mode=RGB size=600x400 at 0x7AA9763F6DD0>"
      ]
     },
     "execution_count": 5,
     "metadata": {},
     "output_type": "execute_result"
    }
   ],
   "source": [
    "env.reset()\n",
    "PIL.Image.fromarray(env.render(mode='rgb_array'))"
   ]
  },
  {
   "cell_type": "markdown",
   "metadata": {},
   "source": [
    "In order to build our neural network later on we need to know the size of the state vector and the number of valid actions. We can get this information from our environment by using the `.observation_space.shape` and `action_space.n` methods, respectively."
   ]
  },
  {
   "cell_type": "code",
   "execution_count": 6,
   "metadata": {
    "deletable": false,
    "editable": false,
    "id": "x3fdqdG4CUu2"
   },
   "outputs": [
    {
     "name": "stdout",
     "output_type": "stream",
     "text": [
      "State Shape: (8,)\n",
      "Number of actions: 4\n"
     ]
    }
   ],
   "source": [
    "state_size = env.observation_space.shape\n",
    "num_actions = env.action_space.n\n",
    "\n",
    "print('State Shape:', state_size)\n",
    "print('Number of actions:', num_actions)"
   ]
  },
  {
   "cell_type": "markdown",
   "metadata": {},
   "source": [
    "<a name=\"5\"></a>\n",
    "## 5 - Interacting with the Gym Environment\n",
    "\n",
    "The Gym library implements the standard “agent-environment loop” formalism:\n",
    "\n",
    "<br>\n",
    "<center>\n",
    "<video src = \"./videos/rl_formalism.m4v\" width=\"840\" height=\"480\" controls autoplay loop poster=\"./images/rl_formalism.png\"> </video>\n",
    "<figcaption style = \"text-align:center; font-style:italic\">Fig 2. Agent-environment Loop Formalism.</figcaption>\n",
    "</center>\n",
    "<br>\n",
    "\n",
    "In the standard “agent-environment loop” formalism, an agent interacts with the environment in discrete time steps $t=0,1,2,...$. At each time step $t$, the agent uses a policy $\\pi$ to select an action $A_t$ based on its observation of the environment's state $S_t$. The agent receives a numerical reward $R_t$ and on the next time step, moves to a new state $S_{t+1}$.\n",
    "\n",
    "<a name=\"5.1\"></a>\n",
    "### 5.1 Exploring the Environment's Dynamics\n",
    "\n",
    "In Open AI's Gym environments, we use the `.step()` method to run a single time step of the environment's dynamics. In the version of `gym` that we are using the `.step()` method accepts an action and returns four values:\n",
    "\n",
    "* `observation` (**object**): an environment-specific object representing your observation of the environment. In the Lunar Lander environment this corresponds to a numpy array containing the positions and velocities of the lander as described in section [3.2 Observation Space](#3.2).\n",
    "\n",
    "\n",
    "* `reward` (**float**): amount of reward returned as a result of taking the given action. In the Lunar Lander environment this corresponds to a float of type `numpy.float64` as described in section [3.3 Rewards](#3.3).\n",
    "\n",
    "\n",
    "* `done` (**boolean**): When done is `True`, it indicates the episode has terminated and it’s time to reset the environment. \n",
    "\n",
    "\n",
    "* `info` (**dictionary**): diagnostic information useful for debugging. We won't be using this variable in this notebook but it is shown here for completeness.\n",
    "\n",
    "To begin an episode, we need to reset the environment to an initial state. We do this by using the `.reset()` method. "
   ]
  },
  {
   "cell_type": "code",
   "execution_count": 7,
   "metadata": {
    "deletable": false,
    "editable": false
   },
   "outputs": [],
   "source": [
    "# Reset the environment and get the initial state.\n",
    "current_state = env.reset()"
   ]
  },
  {
   "cell_type": "markdown",
   "metadata": {},
   "source": [
    "Once the environment is reset, the agent can start taking actions in the environment by using the `.step()` method. Note that the agent can only take one action per time step. \n",
    "\n",
    "In the cell below you can select different actions and see how the returned values change depending on the action taken. Remember that in this environment the agent has four discrete actions available and we specify them in code by using their corresponding numerical value:\n",
    "\n",
    "```python\n",
    "Do nothing = 0\n",
    "Fire right engine = 1\n",
    "Fire main engine = 2\n",
    "Fire left engine = 3\n",
    "```"
   ]
  },
  {
   "cell_type": "code",
   "execution_count": 9,
   "metadata": {
    "deletable": false
   },
   "outputs": [
    {
     "data": {
      "text/html": [
       "<style  type=\"text/css\" >\n",
       "    #T_beedb408_329f_11f0_ad57_0242ac120005 th {\n",
       "          border: 1px solid grey;\n",
       "          text-align: center;\n",
       "    }    #T_beedb408_329f_11f0_ad57_0242ac120005 tbody td {\n",
       "          border: 1px solid grey;\n",
       "          text-align: center;\n",
       "    }    #T_beedb408_329f_11f0_ad57_0242ac120005row0_col0 {\n",
       "            background-color :  grey;\n",
       "        }    #T_beedb408_329f_11f0_ad57_0242ac120005row1_col1 {\n",
       "            background-color :  grey;\n",
       "        }    #T_beedb408_329f_11f0_ad57_0242ac120005row1_col2 {\n",
       "            background-color :  grey;\n",
       "        }    #T_beedb408_329f_11f0_ad57_0242ac120005row1_col3 {\n",
       "            background-color :  grey;\n",
       "        }    #T_beedb408_329f_11f0_ad57_0242ac120005row1_col4 {\n",
       "            background-color :  grey;\n",
       "        }    #T_beedb408_329f_11f0_ad57_0242ac120005row1_col5 {\n",
       "            background-color :  grey;\n",
       "        }    #T_beedb408_329f_11f0_ad57_0242ac120005row1_col6 {\n",
       "            background-color :  grey;\n",
       "        }    #T_beedb408_329f_11f0_ad57_0242ac120005row1_col7 {\n",
       "            background-color :  grey;\n",
       "        }    #T_beedb408_329f_11f0_ad57_0242ac120005row1_col8 {\n",
       "            background-color :  grey;\n",
       "        }    #T_beedb408_329f_11f0_ad57_0242ac120005row1_col9 {\n",
       "            background-color :  grey;\n",
       "        }    #T_beedb408_329f_11f0_ad57_0242ac120005row1_col10 {\n",
       "            background-color :  grey;\n",
       "        }    #T_beedb408_329f_11f0_ad57_0242ac120005row1_col11 {\n",
       "            background-color :  grey;\n",
       "        }    #T_beedb408_329f_11f0_ad57_0242ac120005row2_col0 {\n",
       "            background-color :  grey;\n",
       "        }    #T_beedb408_329f_11f0_ad57_0242ac120005row3_col1 {\n",
       "            background-color :  grey;\n",
       "        }    #T_beedb408_329f_11f0_ad57_0242ac120005row3_col2 {\n",
       "            background-color :  grey;\n",
       "        }    #T_beedb408_329f_11f0_ad57_0242ac120005row3_col3 {\n",
       "            background-color :  grey;\n",
       "        }    #T_beedb408_329f_11f0_ad57_0242ac120005row3_col4 {\n",
       "            background-color :  grey;\n",
       "        }    #T_beedb408_329f_11f0_ad57_0242ac120005row3_col5 {\n",
       "            background-color :  grey;\n",
       "        }    #T_beedb408_329f_11f0_ad57_0242ac120005row3_col6 {\n",
       "            background-color :  grey;\n",
       "        }    #T_beedb408_329f_11f0_ad57_0242ac120005row3_col7 {\n",
       "            background-color :  grey;\n",
       "        }    #T_beedb408_329f_11f0_ad57_0242ac120005row3_col8 {\n",
       "            background-color :  grey;\n",
       "        }    #T_beedb408_329f_11f0_ad57_0242ac120005row3_col9 {\n",
       "            background-color :  grey;\n",
       "        }    #T_beedb408_329f_11f0_ad57_0242ac120005row3_col10 {\n",
       "            background-color :  grey;\n",
       "        }    #T_beedb408_329f_11f0_ad57_0242ac120005row3_col11 {\n",
       "            background-color :  grey;\n",
       "        }    #T_beedb408_329f_11f0_ad57_0242ac120005row4_col1 {\n",
       "            background-color :  grey;\n",
       "        }    #T_beedb408_329f_11f0_ad57_0242ac120005row4_col2 {\n",
       "            background-color :  grey;\n",
       "        }    #T_beedb408_329f_11f0_ad57_0242ac120005row4_col3 {\n",
       "            background-color :  grey;\n",
       "        }    #T_beedb408_329f_11f0_ad57_0242ac120005row4_col4 {\n",
       "            background-color :  grey;\n",
       "        }    #T_beedb408_329f_11f0_ad57_0242ac120005row4_col5 {\n",
       "            background-color :  grey;\n",
       "        }    #T_beedb408_329f_11f0_ad57_0242ac120005row4_col6 {\n",
       "            background-color :  grey;\n",
       "        }    #T_beedb408_329f_11f0_ad57_0242ac120005row4_col7 {\n",
       "            background-color :  grey;\n",
       "        }    #T_beedb408_329f_11f0_ad57_0242ac120005row4_col8 {\n",
       "            background-color :  grey;\n",
       "        }    #T_beedb408_329f_11f0_ad57_0242ac120005row4_col9 {\n",
       "            background-color :  grey;\n",
       "        }    #T_beedb408_329f_11f0_ad57_0242ac120005row4_col10 {\n",
       "            background-color :  grey;\n",
       "        }    #T_beedb408_329f_11f0_ad57_0242ac120005row4_col11 {\n",
       "            background-color :  grey;\n",
       "        }</style><table id=\"T_beedb408_329f_11f0_ad57_0242ac120005\" ><thead>    <tr>        <th class=\"blank level0\" ></th>        <th class=\"col_heading level0 col0\" ></th>        <th class=\"col_heading level0 col1\" colspan=8>State Vector</th>        <th class=\"col_heading level0 col9\" colspan=3>Derived from the State Vector (the closer to zero, the better)</th>    </tr>    <tr>        <th class=\"blank level1\" ></th>        <th class=\"col_heading level1 col0\" ></th>        <th class=\"col_heading level1 col1\" colspan=2>Coordinate</th>        <th class=\"col_heading level1 col3\" colspan=2>Velocity</th>        <th class=\"col_heading level1 col5\" colspan=2>Tilting</th>        <th class=\"col_heading level1 col7\" colspan=2>Ground contact</th>        <th class=\"col_heading level1 col9\" >Distance from landing pad</th>        <th class=\"col_heading level1 col10\" >Velocity</th>        <th class=\"col_heading level1 col11\" >Tilting Angle (absolute value)</th>    </tr>    <tr>        <th class=\"blank level2\" ></th>        <th class=\"col_heading level2 col0\" ></th>        <th class=\"col_heading level2 col1\" >X (Horizontal)</th>        <th class=\"col_heading level2 col2\" >Y (Vertical)</th>        <th class=\"col_heading level2 col3\" >X (Horizontal)</th>        <th class=\"col_heading level2 col4\" >Y (Vertical)</th>        <th class=\"col_heading level2 col5\" >Angle</th>        <th class=\"col_heading level2 col6\" >Angular Velocity</th>        <th class=\"col_heading level2 col7\" >Left Leg?</th>        <th class=\"col_heading level2 col8\" >Right Leg?</th>        <th class=\"col_heading level2 col9\" ></th>        <th class=\"col_heading level2 col10\" ></th>        <th class=\"col_heading level2 col11\" ></th>    </tr></thead><tbody>\n",
       "                <tr>\n",
       "                        <th id=\"T_beedb408_329f_11f0_ad57_0242ac120005level0_row0\" class=\"row_heading level0 row0\" >Current State</th>\n",
       "                        <td id=\"T_beedb408_329f_11f0_ad57_0242ac120005row0_col0\" class=\"data row0 col0\" ></td>\n",
       "                        <td id=\"T_beedb408_329f_11f0_ad57_0242ac120005row0_col1\" class=\"data row0 col1\" >0.003839</td>\n",
       "                        <td id=\"T_beedb408_329f_11f0_ad57_0242ac120005row0_col2\" class=\"data row0 col2\" >1.433103</td>\n",
       "                        <td id=\"T_beedb408_329f_11f0_ad57_0242ac120005row0_col3\" class=\"data row0 col3\" >0.194137</td>\n",
       "                        <td id=\"T_beedb408_329f_11f0_ad57_0242ac120005row0_col4\" class=\"data row0 col4\" >0.480094</td>\n",
       "                        <td id=\"T_beedb408_329f_11f0_ad57_0242ac120005row0_col5\" class=\"data row0 col5\" >-0.004393</td>\n",
       "                        <td id=\"T_beedb408_329f_11f0_ad57_0242ac120005row0_col6\" class=\"data row0 col6\" >-0.043519</td>\n",
       "                        <td id=\"T_beedb408_329f_11f0_ad57_0242ac120005row0_col7\" class=\"data row0 col7\" >False</td>\n",
       "                        <td id=\"T_beedb408_329f_11f0_ad57_0242ac120005row0_col8\" class=\"data row0 col8\" >False</td>\n",
       "                        <td id=\"T_beedb408_329f_11f0_ad57_0242ac120005row0_col9\" class=\"data row0 col9\" >1.433108</td>\n",
       "                        <td id=\"T_beedb408_329f_11f0_ad57_0242ac120005row0_col10\" class=\"data row0 col10\" >0.517860</td>\n",
       "                        <td id=\"T_beedb408_329f_11f0_ad57_0242ac120005row0_col11\" class=\"data row0 col11\" >0.004393</td>\n",
       "            </tr>\n",
       "            <tr>\n",
       "                        <th id=\"T_beedb408_329f_11f0_ad57_0242ac120005level0_row1\" class=\"row_heading level0 row1\" >Action</th>\n",
       "                        <td id=\"T_beedb408_329f_11f0_ad57_0242ac120005row1_col0\" class=\"data row1 col0\" >Do nothing</td>\n",
       "                        <td id=\"T_beedb408_329f_11f0_ad57_0242ac120005row1_col1\" class=\"data row1 col1\" ></td>\n",
       "                        <td id=\"T_beedb408_329f_11f0_ad57_0242ac120005row1_col2\" class=\"data row1 col2\" ></td>\n",
       "                        <td id=\"T_beedb408_329f_11f0_ad57_0242ac120005row1_col3\" class=\"data row1 col3\" ></td>\n",
       "                        <td id=\"T_beedb408_329f_11f0_ad57_0242ac120005row1_col4\" class=\"data row1 col4\" ></td>\n",
       "                        <td id=\"T_beedb408_329f_11f0_ad57_0242ac120005row1_col5\" class=\"data row1 col5\" ></td>\n",
       "                        <td id=\"T_beedb408_329f_11f0_ad57_0242ac120005row1_col6\" class=\"data row1 col6\" ></td>\n",
       "                        <td id=\"T_beedb408_329f_11f0_ad57_0242ac120005row1_col7\" class=\"data row1 col7\" ></td>\n",
       "                        <td id=\"T_beedb408_329f_11f0_ad57_0242ac120005row1_col8\" class=\"data row1 col8\" ></td>\n",
       "                        <td id=\"T_beedb408_329f_11f0_ad57_0242ac120005row1_col9\" class=\"data row1 col9\" ></td>\n",
       "                        <td id=\"T_beedb408_329f_11f0_ad57_0242ac120005row1_col10\" class=\"data row1 col10\" ></td>\n",
       "                        <td id=\"T_beedb408_329f_11f0_ad57_0242ac120005row1_col11\" class=\"data row1 col11\" ></td>\n",
       "            </tr>\n",
       "            <tr>\n",
       "                        <th id=\"T_beedb408_329f_11f0_ad57_0242ac120005level0_row2\" class=\"row_heading level0 row2\" >Next State</th>\n",
       "                        <td id=\"T_beedb408_329f_11f0_ad57_0242ac120005row2_col0\" class=\"data row2 col0\" ></td>\n",
       "                        <td id=\"T_beedb408_329f_11f0_ad57_0242ac120005row2_col1\" class=\"data row2 col1\" >0.005758</td>\n",
       "                        <td id=\"T_beedb408_329f_11f0_ad57_0242ac120005row2_col2\" class=\"data row2 col2\" >1.443307</td>\n",
       "                        <td id=\"T_beedb408_329f_11f0_ad57_0242ac120005row2_col3\" class=\"data row2 col3\" >0.194144</td>\n",
       "                        <td id=\"T_beedb408_329f_11f0_ad57_0242ac120005row2_col4\" class=\"data row2 col4\" >0.453481</td>\n",
       "                        <td id=\"T_beedb408_329f_11f0_ad57_0242ac120005row2_col5\" class=\"data row2 col5\" >-0.006568</td>\n",
       "                        <td id=\"T_beedb408_329f_11f0_ad57_0242ac120005row2_col6\" class=\"data row2 col6\" >-0.043497</td>\n",
       "                        <td id=\"T_beedb408_329f_11f0_ad57_0242ac120005row2_col7\" class=\"data row2 col7\" >False</td>\n",
       "                        <td id=\"T_beedb408_329f_11f0_ad57_0242ac120005row2_col8\" class=\"data row2 col8\" >False</td>\n",
       "                        <td id=\"T_beedb408_329f_11f0_ad57_0242ac120005row2_col9\" class=\"data row2 col9\" >1.443318</td>\n",
       "                        <td id=\"T_beedb408_329f_11f0_ad57_0242ac120005row2_col10\" class=\"data row2 col10\" >0.493292</td>\n",
       "                        <td id=\"T_beedb408_329f_11f0_ad57_0242ac120005row2_col11\" class=\"data row2 col11\" >0.006568</td>\n",
       "            </tr>\n",
       "            <tr>\n",
       "                        <th id=\"T_beedb408_329f_11f0_ad57_0242ac120005level0_row3\" class=\"row_heading level0 row3\" >Reward</th>\n",
       "                        <td id=\"T_beedb408_329f_11f0_ad57_0242ac120005row3_col0\" class=\"data row3 col0\" >1.218346</td>\n",
       "                        <td id=\"T_beedb408_329f_11f0_ad57_0242ac120005row3_col1\" class=\"data row3 col1\" ></td>\n",
       "                        <td id=\"T_beedb408_329f_11f0_ad57_0242ac120005row3_col2\" class=\"data row3 col2\" ></td>\n",
       "                        <td id=\"T_beedb408_329f_11f0_ad57_0242ac120005row3_col3\" class=\"data row3 col3\" ></td>\n",
       "                        <td id=\"T_beedb408_329f_11f0_ad57_0242ac120005row3_col4\" class=\"data row3 col4\" ></td>\n",
       "                        <td id=\"T_beedb408_329f_11f0_ad57_0242ac120005row3_col5\" class=\"data row3 col5\" ></td>\n",
       "                        <td id=\"T_beedb408_329f_11f0_ad57_0242ac120005row3_col6\" class=\"data row3 col6\" ></td>\n",
       "                        <td id=\"T_beedb408_329f_11f0_ad57_0242ac120005row3_col7\" class=\"data row3 col7\" ></td>\n",
       "                        <td id=\"T_beedb408_329f_11f0_ad57_0242ac120005row3_col8\" class=\"data row3 col8\" ></td>\n",
       "                        <td id=\"T_beedb408_329f_11f0_ad57_0242ac120005row3_col9\" class=\"data row3 col9\" ></td>\n",
       "                        <td id=\"T_beedb408_329f_11f0_ad57_0242ac120005row3_col10\" class=\"data row3 col10\" ></td>\n",
       "                        <td id=\"T_beedb408_329f_11f0_ad57_0242ac120005row3_col11\" class=\"data row3 col11\" ></td>\n",
       "            </tr>\n",
       "            <tr>\n",
       "                        <th id=\"T_beedb408_329f_11f0_ad57_0242ac120005level0_row4\" class=\"row_heading level0 row4\" >Episode Terminated</th>\n",
       "                        <td id=\"T_beedb408_329f_11f0_ad57_0242ac120005row4_col0\" class=\"data row4 col0\" >False</td>\n",
       "                        <td id=\"T_beedb408_329f_11f0_ad57_0242ac120005row4_col1\" class=\"data row4 col1\" ></td>\n",
       "                        <td id=\"T_beedb408_329f_11f0_ad57_0242ac120005row4_col2\" class=\"data row4 col2\" ></td>\n",
       "                        <td id=\"T_beedb408_329f_11f0_ad57_0242ac120005row4_col3\" class=\"data row4 col3\" ></td>\n",
       "                        <td id=\"T_beedb408_329f_11f0_ad57_0242ac120005row4_col4\" class=\"data row4 col4\" ></td>\n",
       "                        <td id=\"T_beedb408_329f_11f0_ad57_0242ac120005row4_col5\" class=\"data row4 col5\" ></td>\n",
       "                        <td id=\"T_beedb408_329f_11f0_ad57_0242ac120005row4_col6\" class=\"data row4 col6\" ></td>\n",
       "                        <td id=\"T_beedb408_329f_11f0_ad57_0242ac120005row4_col7\" class=\"data row4 col7\" ></td>\n",
       "                        <td id=\"T_beedb408_329f_11f0_ad57_0242ac120005row4_col8\" class=\"data row4 col8\" ></td>\n",
       "                        <td id=\"T_beedb408_329f_11f0_ad57_0242ac120005row4_col9\" class=\"data row4 col9\" ></td>\n",
       "                        <td id=\"T_beedb408_329f_11f0_ad57_0242ac120005row4_col10\" class=\"data row4 col10\" ></td>\n",
       "                        <td id=\"T_beedb408_329f_11f0_ad57_0242ac120005row4_col11\" class=\"data row4 col11\" ></td>\n",
       "            </tr>\n",
       "    </tbody></table>"
      ],
      "text/plain": [
       "<pandas.io.formats.style.Styler at 0x7aaa2c593110>"
      ]
     },
     "metadata": {},
     "output_type": "display_data"
    }
   ],
   "source": [
    "# Select an action\n",
    "action = 0\n",
    "\n",
    "# Run a single time step of the environment's dynamics with the given action.\n",
    "next_state, reward, done, _ = env.step(action)\n",
    "\n",
    "# Display table with values.\n",
    "utils.display_table(current_state, action, next_state, reward, done)\n",
    "\n",
    "# Replace the `current_state` with the state after the action is taken\n",
    "current_state = next_state"
   ]
  },
  {
   "cell_type": "markdown",
   "metadata": {},
   "source": [
    "In practice, when we train the agent we use a loop to allow the agent to take many consecutive actions during an episode."
   ]
  },
  {
   "cell_type": "markdown",
   "metadata": {},
   "source": [
    "<a name=\"6\"></a>\n",
    "## 6 - Deep Q-Learning\n",
    "\n",
    "In cases where both the state and action space are discrete we can estimate the action-value function iteratively by using the Bellman equation:\n",
    "\n",
    "$$\n",
    "Q_{i+1}(s,a) = R + \\gamma \\max_{a'}Q_i(s',a')\n",
    "$$\n",
    "\n",
    "This iterative method converges to the optimal action-value function $Q^*(s,a)$ as $i\\to\\infty$. This means that the agent just needs to gradually explore the state-action space and keep updating the estimate of $Q(s,a)$ until it converges to the optimal action-value function $Q^*(s,a)$. However, in cases where the state space is continuous it becomes practically impossible to explore the entire state-action space. Consequently, this also makes it practically impossible to gradually estimate $Q(s,a)$ until it converges to $Q^*(s,a)$.\n",
    "\n",
    "In the Deep $Q$-Learning, we solve this problem by using a neural network to estimate the action-value function $Q(s,a)\\approx Q^*(s,a)$. We call this neural network a $Q$-Network and it can be trained by adjusting its weights at each iteration to minimize the mean-squared error in the Bellman equation.\n",
    "\n",
    "Unfortunately, using neural networks in reinforcement learning to estimate action-value functions has proven to be highly unstable. Luckily, there's a couple of techniques that can be employed to avoid instabilities. These techniques consist of using a ***Target Network*** and ***Experience Replay***. We will explore these two techniques in the following sections."
   ]
  },
  {
   "cell_type": "markdown",
   "metadata": {},
   "source": [
    "<a name=\"6.1\"></a>\n",
    "### 6.1 Target Network\n",
    "\n",
    "We can train the $Q$-Network by adjusting it's weights at each iteration to minimize the mean-squared error in the Bellman equation, where the target values are given by:\n",
    "\n",
    "$$\n",
    "y = R + \\gamma \\max_{a'}Q(s',a';w)\n",
    "$$\n",
    "\n",
    "where $w$ are the weights of the $Q$-Network. This means that we are adjusting the weights $w$ at each iteration to minimize the following error:\n",
    "\n",
    "$$\n",
    "\\overbrace{\\underbrace{R + \\gamma \\max_{a'}Q(s',a'; w)}_{\\rm {y~target}} - Q(s,a;w)}^{\\rm {Error}}\n",
    "$$\n",
    "\n",
    "Notice that this forms a problem because the $y$ target is changing on every iteration. Having a constantly moving target can lead to oscillations and instabilities. To avoid this, we can create\n",
    "a separate neural network for generating the $y$ targets. We call this separate neural network the **target $\\hat Q$-Network** and it will have the same architecture as the original $Q$-Network. By using the target $\\hat Q$-Network, the above error becomes:\n",
    "\n",
    "$$\n",
    "\\overbrace{\\underbrace{R + \\gamma \\max_{a'}\\hat{Q}(s',a'; w^-)}_{\\rm {y~target}} - Q(s,a;w)}^{\\rm {Error}}\n",
    "$$\n",
    "\n",
    "where $w^-$ and $w$ are the weights of the target $\\hat Q$-Network and $Q$-Network, respectively.\n",
    "\n",
    "In practice, we will use the following algorithm: every $C$ time steps we will use the $\\hat Q$-Network to generate the $y$ targets and update the weights of the target $\\hat Q$-Network using the weights of the $Q$-Network. We will update the weights $w^-$ of the the target $\\hat Q$-Network using a **soft update**. This means that we will update the weights $w^-$ using the following rule:\n",
    " \n",
    "$$\n",
    "w^-\\leftarrow \\tau w + (1 - \\tau) w^-\n",
    "$$\n",
    "\n",
    "where $\\tau\\ll 1$. By using the soft update, we are ensuring that the target values, $y$, change slowly, which greatly improves the stability of our learning algorithm."
   ]
  },
  {
   "cell_type": "markdown",
   "metadata": {},
   "source": [
    "<a name=\"ex01\"></a>\n",
    "### Exercise 1\n",
    "\n",
    "In this exercise you will create the $Q$ and target $\\hat Q$ networks and set the optimizer. Remember that the Deep $Q$-Network (DQN) is a neural network that approximates the action-value function $Q(s,a)\\approx Q^*(s,a)$. It does this by learning how to map states to $Q$ values.\n",
    "\n",
    "To solve the Lunar Lander environment, we are going to employ a DQN with the following architecture:\n",
    "\n",
    "* An `Input` layer that takes `state_size` as input.\n",
    "\n",
    "* A `Dense` layer with `64` units and a `relu` activation function.\n",
    "\n",
    "* A `Dense` layer with `64` units and a `relu` activation function.\n",
    "\n",
    "* A `Dense` layer with `num_actions` units and a `linear` activation function. This will be the output layer of our network.\n",
    "\n",
    "\n",
    "In the cell below you should create the $Q$-Network and the target $\\hat Q$-Network using the model architecture described above. Remember that both the $Q$-Network and the target $\\hat Q$-Network have the same architecture.\n",
    "\n",
    "Lastly, you should set `Adam` as the optimizer with a learning rate equal to `ALPHA`. Recall that `ALPHA` was defined in the [Hyperparameters](#2) section. We should note that for this exercise you should use the already imported packages:\n",
    "```python\n",
    "from tensorflow.keras.layers import Dense, Input\n",
    "from tensorflow.keras.optimizers import Adam\n",
    "```"
   ]
  },
  {
   "cell_type": "code",
   "execution_count": 10,
   "metadata": {
    "deletable": false
   },
   "outputs": [],
   "source": [
    "# UNQ_C1\n",
    "# GRADED CELL\n",
    "\n",
    "# Create the Q-Network\n",
    "q_network = Sequential([\n",
    "    ### START CODE HERE ### \n",
    "    Input(shape=state_size),                      \n",
    "    Dense(units=64, activation='relu'),            \n",
    "    Dense(units=64, activation='relu'),            \n",
    "    Dense(units=num_actions, activation='linear'),\n",
    "    ### END CODE HERE ### \n",
    "    ])\n",
    "\n",
    "# Create the target Q^-Network\n",
    "target_q_network = Sequential([\n",
    "    ### START CODE HERE ### \n",
    "    Input(shape=state_size),                       \n",
    "    Dense(units=64, activation='relu'),            \n",
    "    Dense(units=64, activation='relu'),            \n",
    "    Dense(units=num_actions, activation='linear'), \n",
    "    ### END CODE HERE ###\n",
    "    ])\n",
    "\n",
    "### START CODE HERE ### \n",
    "optimizer = Adam(learning_rate=ALPHA) \n",
    "### END CODE HERE ###"
   ]
  },
  {
   "cell_type": "code",
   "execution_count": 11,
   "metadata": {
    "deletable": false,
    "editable": false
   },
   "outputs": [
    {
     "name": "stdout",
     "output_type": "stream",
     "text": [
      "\u001b[92mAll tests passed!\n",
      "\u001b[92mAll tests passed!\n",
      "\u001b[92mAll tests passed!\n"
     ]
    }
   ],
   "source": [
    "# UNIT TEST\n",
    "from public_tests import *\n",
    "\n",
    "test_network(q_network)\n",
    "test_network(target_q_network)\n",
    "test_optimizer(optimizer, ALPHA) "
   ]
  },
  {
   "cell_type": "markdown",
   "metadata": {},
   "source": [
    "<details>\n",
    "  <summary><font size=\"3\" color=\"darkgreen\"><b>Click for hints</b></font></summary>\n",
    "    \n",
    "```python\n",
    "# Create the Q-Network\n",
    "q_network = Sequential([\n",
    "    Input(shape=state_size),                      \n",
    "    Dense(units=64, activation='relu'),            \n",
    "    Dense(units=64, activation='relu'),            \n",
    "    Dense(units=num_actions, activation='linear'),\n",
    "    ])\n",
    "\n",
    "# Create the target Q^-Network\n",
    "target_q_network = Sequential([\n",
    "    Input(shape=state_size),                       \n",
    "    Dense(units=64, activation='relu'),            \n",
    "    Dense(units=64, activation='relu'),            \n",
    "    Dense(units=num_actions, activation='linear'), \n",
    "    ])\n",
    "\n",
    "optimizer = Adam(learning_rate=ALPHA)                                  \n",
    "``` "
   ]
  },
  {
   "cell_type": "markdown",
   "metadata": {},
   "source": [
    "<a name=\"6.2\"></a>\n",
    "### 6.2 Experience Replay\n",
    "\n",
    "When an agent interacts with the environment, the states, actions, and rewards the agent experiences are sequential by nature. If the agent tries to learn from these consecutive experiences it can run into problems due to the strong correlations between them. To avoid this, we employ a technique known as **Experience Replay** to generate uncorrelated experiences for training our agent. Experience replay consists of storing the agent's experiences (i.e the states, actions, and rewards the agent receives) in a memory buffer and then sampling a random mini-batch of experiences from the buffer to do the learning. The experience tuples $(S_t, A_t, R_t, S_{t+1})$ will be added to the memory buffer at each time step as the agent interacts with the environment.\n",
    "\n",
    "For convenience, we will store the experiences as named tuples."
   ]
  },
  {
   "cell_type": "code",
   "execution_count": 12,
   "metadata": {
    "deletable": false,
    "editable": false
   },
   "outputs": [],
   "source": [
    "# Store experiences as named tuples\n",
    "experience = namedtuple(\"Experience\", field_names=[\"state\", \"action\", \"reward\", \"next_state\", \"done\"])"
   ]
  },
  {
   "cell_type": "markdown",
   "metadata": {},
   "source": [
    "By using experience replay we avoid problematic correlations, oscillations and instabilities. In addition, experience replay also allows the agent to potentially use the same experience in multiple weight updates, which increases data efficiency."
   ]
  },
  {
   "cell_type": "markdown",
   "metadata": {},
   "source": [
    "<a name=\"7\"></a>\n",
    "## 7 - Deep Q-Learning Algorithm with Experience Replay\n",
    "\n",
    "Now that we know all the techniques that we are going to use, we can put them together to arrive at the Deep Q-Learning Algorithm With Experience Replay.\n",
    "<br>\n",
    "<br>\n",
    "<figure>\n",
    "  <img src = \"images/deep_q_algorithm.png\" width = 90% style = \"border: thin silver solid; padding: 0px\">\n",
    "      <figcaption style = \"text-align: center; font-style: italic\">Fig 3. Deep Q-Learning with Experience Replay.</figcaption>\n",
    "</figure>"
   ]
  },
  {
   "cell_type": "markdown",
   "metadata": {},
   "source": [
    "<a name=\"ex02\"></a>\n",
    "### Exercise 2\n",
    "\n",
    "In this exercise you will implement line ***12*** of the algorithm outlined in *Fig 3* above and you will also compute the loss between the $y$ targets and the $Q(s,a)$ values. In the cell below, complete the `compute_loss` function by setting the $y$ targets equal to:\n",
    "\n",
    "$$\n",
    "\\begin{equation}\n",
    "    y_j =\n",
    "    \\begin{cases}\n",
    "      R_j & \\text{if episode terminates at step  } j+1\\\\\n",
    "      R_j + \\gamma \\max_{a'}\\hat{Q}(s_{j+1},a') & \\text{otherwise}\\\\\n",
    "    \\end{cases}       \n",
    "\\end{equation}\n",
    "$$\n",
    "\n",
    "Here are a couple of things to note:\n",
    "\n",
    "* The `compute_loss` function takes in a mini-batch of experience tuples. This mini-batch of experience tuples is unpacked to extract the `states`, `actions`, `rewards`, `next_states`, and `done_vals`. You should keep in mind that these variables are *TensorFlow Tensors* whose size will depend on the mini-batch size. For example, if the mini-batch size is `64` then both `rewards` and `done_vals` will be TensorFlow Tensors with `64` elements.\n",
    "\n",
    "\n",
    "* Using `if/else` statements to set the $y$ targets will not work when the variables are tensors with many elements. However, notice that you can use the `done_vals` to implement the above in a single line of code. To do this, recall that the `done` variable is a Boolean variable that takes the value `True` when an episode terminates at step $j+1$ and it is `False` otherwise. Taking into account that a Boolean value of `True` has the numerical value of `1` and a Boolean value of `False` has the numerical value of `0`, you can use the factor `(1 - done_vals)` to implement the above in a single line of code. Here's a hint: notice that `(1 - done_vals)` has a value of `0` when `done_vals` is `True` and a value of `1` when `done_vals` is `False`. \n",
    "\n",
    "Lastly, compute the loss by calculating the Mean-Squared Error (`MSE`) between the `y_targets` and the `q_values`. To calculate the mean-squared error you should use the already imported package `MSE`:\n",
    "```python\n",
    "from tensorflow.keras.losses import MSE\n",
    "```"
   ]
  },
  {
   "cell_type": "code",
   "execution_count": 15,
   "metadata": {
    "deletable": false
   },
   "outputs": [],
   "source": [
    "# UNQ_C2\n",
    "# GRADED FUNCTION: calculate_loss\n",
    "\n",
    "def compute_loss(experiences, gamma, q_network, target_q_network):\n",
    "    \"\"\" \n",
    "    Calculates the loss.\n",
    "    \n",
    "    Args:\n",
    "      experiences: (tuple) tuple of [\"state\", \"action\", \"reward\", \"next_state\", \"done\"] namedtuples\n",
    "      gamma: (float) The discount factor.\n",
    "      q_network: (tf.keras.Sequential) Keras model for predicting the q_values\n",
    "      target_q_network: (tf.keras.Sequential) Keras model for predicting the targets\n",
    "          \n",
    "    Returns:\n",
    "      loss: (TensorFlow Tensor(shape=(0,), dtype=int32)) the Mean-Squared Error between\n",
    "            the y targets and the Q(s,a) values.\n",
    "    \"\"\"\n",
    "\n",
    "    # Unpack the mini-batch of experience tuples\n",
    "    states, actions, rewards, next_states, done_vals = experiences\n",
    "    \n",
    "    # Compute max Q^(s,a)\n",
    "    max_qsa = tf.reduce_max(target_q_network(next_states), axis=-1)\n",
    "    \n",
    "    # Set y = R if episode terminates, otherwise set y = R + γ max Q^(s,a).\n",
    "    ### START CODE HERE ### \n",
    "    y_targets = rewards + (gamma * max_qsa * (1 - done_vals))\n",
    "    ### END CODE HERE ###\n",
    "    \n",
    "    # Get the q_values and reshape to match y_targets\n",
    "    q_values = q_network(states)\n",
    "    q_values = tf.gather_nd(q_values, tf.stack([tf.range(q_values.shape[0]),\n",
    "                                                tf.cast(actions, tf.int32)], axis=1))\n",
    "        \n",
    "    # Compute the loss\n",
    "    ### START CODE HERE ### \n",
    "    loss = MSE(y_targets, q_values)\n",
    "    ### END CODE HERE ### \n",
    "    \n",
    "    return loss"
   ]
  },
  {
   "cell_type": "code",
   "execution_count": 16,
   "metadata": {
    "deletable": false,
    "editable": false
   },
   "outputs": [
    {
     "name": "stdout",
     "output_type": "stream",
     "text": [
      "\u001b[92mAll tests passed!\n"
     ]
    }
   ],
   "source": [
    "# UNIT TEST    \n",
    "test_compute_loss(compute_loss)"
   ]
  },
  {
   "cell_type": "markdown",
   "metadata": {},
   "source": [
    "<details>\n",
    "  <summary><font size=\"3\" color=\"darkgreen\"><b>Click for hints</b></font></summary>\n",
    "    \n",
    "```python\n",
    "def compute_loss(experiences, gamma, q_network, target_q_network):\n",
    "    \"\"\" \n",
    "    Calculates the loss.\n",
    "    \n",
    "    Args:\n",
    "      experiences: (tuple) tuple of [\"state\", \"action\", \"reward\", \"next_state\", \"done\"] namedtuples\n",
    "      gamma: (float) The discount factor.\n",
    "      q_network: (tf.keras.Sequential) Keras model for predicting the q_values\n",
    "      target_q_network: (tf.keras.Sequential) Keras model for predicting the targets\n",
    "          \n",
    "    Returns:\n",
    "      loss: (TensorFlow Tensor(shape=(0,), dtype=int32)) the Mean-Squared Error between\n",
    "            the y targets and the Q(s,a) values.\n",
    "    \"\"\"\n",
    "\n",
    "    \n",
    "    # Unpack the mini-batch of experience tuples\n",
    "    states, actions, rewards, next_states, done_vals = experiences\n",
    "    \n",
    "    # Compute max Q^(s,a)\n",
    "    max_qsa = tf.reduce_max(target_q_network(next_states), axis=-1)\n",
    "    \n",
    "    # Set y = R if episode terminates, otherwise set y = R + γ max Q^(s,a).\n",
    "    y_targets = rewards + (gamma * max_qsa * (1 - done_vals))\n",
    "    \n",
    "    # Get the q_values\n",
    "    q_values = q_network(states)\n",
    "    q_values = tf.gather_nd(q_values, tf.stack([tf.range(q_values.shape[0]),\n",
    "                                                tf.cast(actions, tf.int32)], axis=1))\n",
    "    \n",
    "    # Calculate the loss\n",
    "    loss = MSE(y_targets, q_values)\n",
    "    \n",
    "    return loss\n",
    "\n",
    "``` \n",
    "    "
   ]
  },
  {
   "cell_type": "markdown",
   "metadata": {},
   "source": [
    "<a name=\"8\"></a>\n",
    "## 8 - Update the Network Weights\n",
    "\n",
    "We will use the `agent_learn` function below to implement lines ***12 -14*** of the algorithm outlined in [Fig 3](#7). The `agent_learn` function will update the weights of the $Q$ and target $\\hat Q$ networks using a custom training loop. Because we are using a custom training loop we need to retrieve the gradients via a `tf.GradientTape` instance, and then call `optimizer.apply_gradients()` to update the weights of our $Q$-Network. Note that we are also using the `@tf.function` decorator to increase performance. Without this decorator our training will take twice as long. If you would like to know more about how to increase performance with `@tf.function` take a look at the [TensorFlow documentation](https://www.tensorflow.org/guide/function).\n",
    "\n",
    "The last line of this function updates the weights of the target $\\hat Q$-Network using a [soft update](#6.1). If you want to know how this is implemented in code we encourage you to take a look at the `utils.update_target_network` function in the `utils` module."
   ]
  },
  {
   "cell_type": "code",
   "execution_count": 17,
   "metadata": {
    "deletable": false,
    "editable": false
   },
   "outputs": [],
   "source": [
    "@tf.function\n",
    "def agent_learn(experiences, gamma):\n",
    "    \"\"\"\n",
    "    Updates the weights of the Q networks.\n",
    "    \n",
    "    Args:\n",
    "      experiences: (tuple) tuple of [\"state\", \"action\", \"reward\", \"next_state\", \"done\"] namedtuples\n",
    "      gamma: (float) The discount factor.\n",
    "    \n",
    "    \"\"\"\n",
    "    \n",
    "    # Calculate the loss\n",
    "    with tf.GradientTape() as tape:\n",
    "        loss = compute_loss(experiences, gamma, q_network, target_q_network)\n",
    "\n",
    "    # Get the gradients of the loss with respect to the weights.\n",
    "    gradients = tape.gradient(loss, q_network.trainable_variables)\n",
    "    \n",
    "    # Update the weights of the q_network.\n",
    "    optimizer.apply_gradients(zip(gradients, q_network.trainable_variables))\n",
    "\n",
    "    # update the weights of target q_network\n",
    "    utils.update_target_network(q_network, target_q_network)"
   ]
  },
  {
   "cell_type": "markdown",
   "metadata": {},
   "source": [
    "<a name=\"9\"></a>\n",
    "## 9 - Train the Agent\n",
    "\n",
    "We are now ready to train our agent to solve the Lunar Lander environment. In the cell below we will implement the algorithm in [Fig 3](#7) line by line (please note that we have included the same algorithm below for easy reference. This will prevent you from scrolling up and down the notebook):\n",
    "\n",
    "* **Line 1**: We initialize the `memory_buffer` with a capacity of $N =$ `MEMORY_SIZE`. Notice that we are using a `deque` as the data structure for our `memory_buffer`.\n",
    "\n",
    "\n",
    "* **Line 2**: We skip this line since we already initialized the `q_network` in [Exercise 1](#ex01).\n",
    "\n",
    "\n",
    "* **Line 3**: We initialize the `target_q_network` by setting its weights to be equal to those of the `q_network`.\n",
    "\n",
    "\n",
    "* **Line 4**: We start the outer loop. Notice that we have set $M =$ `num_episodes = 2000`. This number is reasonable because the agent should be able to solve the Lunar Lander environment in less than `2000` episodes using this notebook's default parameters.\n",
    "\n",
    "\n",
    "* **Line 5**: We use the `.reset()` method to reset the environment to the initial state and get the initial state.\n",
    "\n",
    "\n",
    "* **Line 6**: We start the inner loop. Notice that we have set $T =$ `max_num_timesteps = 1000`. This means that the episode will automatically terminate if the episode hasn't terminated after `1000` time steps.\n",
    "\n",
    "\n",
    "* **Line 7**: The agent observes the current `state` and chooses an `action` using an $\\epsilon$-greedy policy. Our agent starts out using a value of $\\epsilon =$ `epsilon = 1` which yields an $\\epsilon$-greedy policy that is equivalent to the equiprobable random policy. This means that at the beginning of our training, the agent is just going to take random actions regardless of the observed `state`. As training progresses we will decrease the value of $\\epsilon$ slowly towards a minimum value using a given $\\epsilon$-decay rate. We want this minimum value to be close to zero because a value of $\\epsilon = 0$ will yield an $\\epsilon$-greedy policy that is equivalent to the greedy policy. This means that towards the end of training, the agent will lean towards selecting the `action` that it believes (based on its past experiences) will maximize $Q(s,a)$. We will set the minimum $\\epsilon$ value to be `0.01` and not exactly 0 because we always want to keep a little bit of exploration during training. If you want to know how this is implemented in code we encourage you to take a look at the `utils.get_action` function in the `utils` module.\n",
    "\n",
    "\n",
    "* **Line 8**: We use the `.step()` method to take the given `action` in the environment and get the `reward` and the `next_state`. \n",
    "\n",
    "\n",
    "* **Line 9**: We store the `experience(state, action, reward, next_state, done)` tuple in our `memory_buffer`. Notice that we also store the `done` variable so that we can keep track of when an episode terminates. This allowed us to set the $y$ targets in [Exercise 2](#ex02).\n",
    "\n",
    "\n",
    "* **Line 10**: We check if the conditions are met to perform a learning update. We do this by using our custom `utils.check_update_conditions` function. This function checks if $C =$ `NUM_STEPS_FOR_UPDATE = 4` time steps have occured and if our `memory_buffer` has enough experience tuples to fill a mini-batch. For example, if the mini-batch size is `64`, then our `memory_buffer` should have more than `64` experience tuples in order to pass the latter condition. If the conditions are met, then the `utils.check_update_conditions` function will return a value of `True`, otherwise it will return a value of `False`.\n",
    "\n",
    "\n",
    "* **Lines 11 - 14**: If the `update` variable is `True` then we perform a learning update. The learning update consists of sampling a random mini-batch of experience tuples from our `memory_buffer`, setting the $y$ targets, performing gradient descent, and updating the weights of the networks. We will use the `agent_learn` function we defined in [Section 8](#8) to perform the latter 3.\n",
    "\n",
    "\n",
    "* **Line 15**: At the end of each iteration of the inner loop we set `next_state` as our new `state` so that the loop can start again from this new state. In addition, we check if the episode has reached a terminal state (i.e we check if `done = True`). If a terminal state has been reached, then we break out of the inner loop.\n",
    "\n",
    "\n",
    "* **Line 16**: At the end of each iteration of the outer loop we update the value of $\\epsilon$, and check if the environment has been solved. We consider that the environment has been solved if the agent receives an average of `200` points in the last `100` episodes. If the environment has not been solved we continue the outer loop and start a new episode.\n",
    "\n",
    "Finally, we wanted to note that we have included some extra variables to keep track of the total number of points the agent received in each episode. This will help us determine if the agent has solved the environment and it will also allow us to see how our agent performed during training. We also use the `time` module to measure how long the training takes. \n",
    "\n",
    "<br>\n",
    "<br>\n",
    "<figure>\n",
    "  <img src = \"images/deep_q_algorithm.png\" width = 90% style = \"border: thin silver solid; padding: 0px\">\n",
    "      <figcaption style = \"text-align: center; font-style: italic\">Fig 4. Deep Q-Learning with Experience Replay.</figcaption>\n",
    "</figure>\n",
    "<br>\n",
    "\n",
    "**Note:** With this notebook's default parameters, the following cell takes between 10 to 15 minutes to run. "
   ]
  },
  {
   "cell_type": "code",
   "execution_count": 18,
   "metadata": {
    "deletable": false,
    "editable": false
   },
   "outputs": [
    {
     "name": "stdout",
     "output_type": "stream",
     "text": [
      "Episode 100 | Total point average of the last 100 episodes: -148.61\n",
      "Episode 200 | Total point average of the last 100 episodes: -116.40\n",
      "Episode 300 | Total point average of the last 100 episodes: -57.997\n",
      "Episode 400 | Total point average of the last 100 episodes: 2.8118\n",
      "Episode 500 | Total point average of the last 100 episodes: 83.31\n",
      "Episode 600 | Total point average of the last 100 episodes: 194.25\n",
      "Episode 700 | Total point average of the last 100 episodes: 194.56\n",
      "Episode 711 | Total point average of the last 100 episodes: 201.44\n",
      "\n",
      "Environment solved in 711 episodes!\n",
      "\n",
      "Total Runtime: 813.60 s (13.56 min)\n"
     ]
    }
   ],
   "source": [
    "start = time.time()\n",
    "\n",
    "num_episodes = 2000\n",
    "max_num_timesteps = 1000\n",
    "\n",
    "total_point_history = []\n",
    "\n",
    "num_p_av = 100    # number of total points to use for averaging\n",
    "epsilon = 1.0     # initial ε value for ε-greedy policy\n",
    "\n",
    "# Create a memory buffer D with capacity N\n",
    "memory_buffer = deque(maxlen=MEMORY_SIZE)\n",
    "\n",
    "# Set the target network weights equal to the Q-Network weights\n",
    "target_q_network.set_weights(q_network.get_weights())\n",
    "\n",
    "for i in range(num_episodes):\n",
    "    \n",
    "    # Reset the environment to the initial state and get the initial state\n",
    "    state = env.reset()\n",
    "    total_points = 0\n",
    "    \n",
    "    for t in range(max_num_timesteps):\n",
    "        \n",
    "        # From the current state S choose an action A using an ε-greedy policy\n",
    "        state_qn = np.expand_dims(state, axis=0)  # state needs to be the right shape for the q_network\n",
    "        q_values = q_network(state_qn)\n",
    "        action = utils.get_action(q_values, epsilon)\n",
    "        \n",
    "        # Take action A and receive reward R and the next state S'\n",
    "        next_state, reward, done, _ = env.step(action)\n",
    "        \n",
    "        # Store experience tuple (S,A,R,S') in the memory buffer.\n",
    "        # We store the done variable as well for convenience.\n",
    "        memory_buffer.append(experience(state, action, reward, next_state, done))\n",
    "        \n",
    "        # Only update the network every NUM_STEPS_FOR_UPDATE time steps.\n",
    "        update = utils.check_update_conditions(t, NUM_STEPS_FOR_UPDATE, memory_buffer)\n",
    "        \n",
    "        if update:\n",
    "            # Sample random mini-batch of experience tuples (S,A,R,S') from D\n",
    "            experiences = utils.get_experiences(memory_buffer)\n",
    "            \n",
    "            # Set the y targets, perform a gradient descent step,\n",
    "            # and update the network weights.\n",
    "            agent_learn(experiences, GAMMA)\n",
    "        \n",
    "        state = next_state.copy()\n",
    "        total_points += reward\n",
    "        \n",
    "        if done:\n",
    "            break\n",
    "            \n",
    "    total_point_history.append(total_points)\n",
    "    av_latest_points = np.mean(total_point_history[-num_p_av:])\n",
    "    \n",
    "    # Update the ε value\n",
    "    epsilon = utils.get_new_eps(epsilon)\n",
    "\n",
    "    print(f\"\\rEpisode {i+1} | Total point average of the last {num_p_av} episodes: {av_latest_points:.2f}\", end=\"\")\n",
    "\n",
    "    if (i+1) % num_p_av == 0:\n",
    "        print(f\"\\rEpisode {i+1} | Total point average of the last {num_p_av} episodes: {av_latest_points:.2f}\")\n",
    "\n",
    "    # We will consider that the environment is solved if we get an\n",
    "    # average of 200 points in the last 100 episodes.\n",
    "    if av_latest_points >= 200.0:\n",
    "        print(f\"\\n\\nEnvironment solved in {i+1} episodes!\")\n",
    "        q_network.save('lunar_lander_model.h5')\n",
    "        break\n",
    "        \n",
    "tot_time = time.time() - start\n",
    "\n",
    "print(f\"\\nTotal Runtime: {tot_time:.2f} s ({(tot_time/60):.2f} min)\")"
   ]
  },
  {
   "cell_type": "markdown",
   "metadata": {},
   "source": [
    "We can plot the total point history along with the moving average to see how our agent improved during training. If you want to know about the different plotting options available in the `utils.plot_history` function we encourage you to take a look at the `utils` module."
   ]
  },
  {
   "cell_type": "code",
   "execution_count": 19,
   "metadata": {
    "deletable": false,
    "editable": false,
    "id": "E_EUXxurfe8m",
    "scrolled": false
   },
   "outputs": [
    {
     "data": {
      "image/png": "[encoded data removed]",
      "text/plain": [
       "<Figure size 720x504 with 1 Axes>"
      ]
     },
     "metadata": {},
     "output_type": "display_data"
    }
   ],
   "source": [
    "# Plot the total point history along with the moving average\n",
    "utils.plot_history(total_point_history)"
   ]
  },
  {
   "cell_type": "markdown",
   "metadata": {
    "id": "c_xwgaX5MnYt"
   },
   "source": [
    "<a name=\"10\"></a>\n",
    "## 10 - See the Trained Agent In Action\n",
    "\n",
    "Now that we have trained our agent, we can see it in action. We will use the `utils.create_video` function to create a video of our agent interacting with the environment using the trained $Q$-Network. The `utils.create_video` function uses the `imageio` library to create the video. This library produces some warnings that can be distracting, so, to suppress these warnings we run the code below."
   ]
  },
  {
   "cell_type": "code",
   "execution_count": 20,
   "metadata": {
    "deletable": false,
    "editable": false
   },
   "outputs": [],
   "source": [
    "# Suppress warnings from imageio\n",
    "import logging\n",
    "logging.getLogger().setLevel(logging.ERROR)"
   ]
  },
  {
   "cell_type": "markdown",
   "metadata": {},
   "source": [
    "In the cell below we create a video of our agent interacting with the Lunar Lander environment using the trained `q_network`. The video is saved to the `videos` folder with the given `filename`. We use the `utils.embed_mp4` function to embed the video in the Jupyter Notebook so that we can see it here directly without having to download it.\n",
    "\n",
    "We should note that since the lunar lander starts with a random initial force applied to its center of mass, every time you run the cell below you will see a different video. If the agent was trained properly, it should be able to land the lunar lander in the landing pad every time, regardless of the initial force applied to its center of mass."
   ]
  },
  {
   "cell_type": "code",
   "execution_count": 23,
   "metadata": {
    "deletable": false,
    "editable": false,
    "id": "3Ttb_zLeJKiG"
   },
   "outputs": [
    {
     "data": {
      "text/html": [
       "\n",
       "    <video width=\"840\" height=\"480\" controls>\n",
       "    <source src=\"data:video/mp4;base64,AAAAIGZ0eXBpc29tAAACAGlzb21pc28yYXZjMW1wNDEAAAAIZnJlZQAA/CdtZGF0AAACrwYF//+r3EXpvebZSLeWLNgg2SPu73gyNjQgLSBjb3JlIDE1OSByMjk5MSAxNzcxYjU1IC0gSC4yNjQvTVBFRy00IEFWQyBjb2RlYyAtIENvcHlsZWZ0IDIwMDMtMjAxOSAtIGh0dHA6Ly93d3cudmlkZW9sYW4ub3JnL3gyNjQuaHRtbCAtIG9wdGlvbnM6IGNhYmFjPTEgcmVmPTMgZGVibG9jaz0xOjA6MCBhbmFseXNlPTB4MzoweDExMyBtZT1oZXggc3VibWU9NyBwc3k9MSBwc3lfcmQ9MS4wMDowLjAwIG1peGVkX3JlZj0xIG1lX3JhbmdlPTE2IGNocm9tYV9tZT0xIHRyZWxsaXM9MSA4eDhkY3Q9MSBjcW09MCBkZWFkem9uZT0yMSwxMSBmYXN0X3Bza2lwPTEgY2hyb21hX3FwX29mZnNldD0tMiB0aHJlYWRzPTEyIGxvb2thaGVhZF90aHJlYWRzPTIgc2xpY2VkX3RocmVhZHM9MCBucj0wIGRlY2ltYXRlPTEgaW50ZXJsYWNlZD0wIGJsdXJheV9jb21wYXQ9MCBjb25zdHJhaW5lZF9pbnRyYT0wIGJmcmFtZXM9MyBiX3B5cmFtaWQ9MiBiX2FkYXB0PTEgYl9iaWFzPTAgZGlyZWN0PTEgd2VpZ2h0Yj0xIG9wZW5fZ29wPTAgd2VpZ2h0cD0yIGtleWludD0yNTAga2V5aW50X21pbj0yNSBzY2VuZWN1dD00MCBpbnRyYV9yZWZyZXNoPTAgcmNfbG9va2FoZWFkPTQwIHJjPWNyZiBtYnRyZWU9MSBjcmY9MjMuMCBxY29tcD0wLjYwIHFwbWluPTAgcXBtYXg9NjkgcXBzdGVwPTQgaXBfcmF0aW89MS40MCBhcT0xOjEuMDAAgAAABzFliIQAN//+9vD+BTZWBFCXEc3onTMfvxW4ujQ3vdXIuJepjq4ODpyA7+88UJzwABw0NskcyLl1S+GMa7nbjPvwDsjfBn6Y1eXrtDxsQQasiHaaWgYWwPt7ro8mKX5fRETKZjKaJqpdUqdMIsyQsgEMuWk1iwFoCDddOzM+/YZwe4CDz7TVwpqLZJbMdK4+lt21LyrJ2GvHGiyRbK/WabumWlIOEfGJE96ls43/aFn3stEYOtObFGqIVueggjyvgxveqfZKHEqDTjy1NbSqiTix5laBjhwfP8AUGim9+pEo+qAzY6EzDAAAAwAAYQpLd/rGeOS1KXDhU5z/MnYAAEtA7UAwkAdwd4hwpxTSPkeLUbpdgQNUxmDXpbgAwMLj5Ice4pCS9yUCOQEJ5B9TDMTf+6Arlcg/G1pXdiAFb7w1VKu59rPLOxT/UCOql/ZJsEsJMCtwlSzX3iahieDKJsKP+RSoR+wpPcQedVx9oB9Imt8TDV7RXxDobA85aZGXQTxu/leC8d5df4RIxJvm47TRZoqmZ1BiKU4quCy/YKH5Na4EIYA4dTIqdVU+ZNkGUESWQ/Z7anYoxNIuunZRD3hq2Vr1Leu8C0KG4IBpUf2uPohtPZlTlGGL+fetdnHarOEiIaouZpBc3ax5HlTOTTd7FZ/NtqXBGvmmv0B9fu/2ACFmUYF5geVA5xUMbh99BQrGzIQOcaOpTDpVHBG2qi9N4zosrOClSxjRYBVE8oM5nFk/811hFKUscuvr3kA3T23cB9WOXZ3hd/rTWluek2UbfrY+fCk3TW+P0Ty34/5bI/o7FerJ7wNbBr10poIWg5cU6Z9ipVFQfxXRYna6oZFNIRa8GI+Gg9E0JBZRviluKLvWIiNuzy2e0NJEvuHNV4s0Mhtr5GlRGhmcGZSJ92FcpvCzx9aAH3lTu2LXI2xCSUb5vyU71FSjqhn9Amnffj/MALe3qqUHpmO3B2KfGFTY2lYDOxwS6B71tthPa05/HaiW9EHVzv9mWW9W5smO05fhwerX/WUzE4AkMAW/9wbTbgqx1KD5xb+3T2HGKVap9Sjhyt0ozJ7TvqNiObdJ67JiHW4k0bgWT8Kaf3TIOyBKifj/LTsK5yYH+Bs3n+9WHlZUSNxnK89W6Zz0fD0O4NJlUl7cWPOxS0iOm8jCduG6rkeAlmKLtQP23qIe/sabCdThcll2vtA50KFc8s7AmFApIJhu6X1Gc/Iw7kbjOsaNaoYdPQNki/SPtOvufhc2SC/6No0+rWBzQZXWGUFUf/khuwrIlOpjUpAA7ojdCpE9ihUpG7yRoVibaJI2z0NMv2GpuVXQW20Nv3HUvHzN1GyYrEmi+qE58mAdxyBbU3AN4kDTlxopH4ZcBzfFlZMVQasBE6q/+CzK8rAqtBxL8cwsDjXNWzTqU4sAosLY3VJhBbqCvlr+Q6NNcu3XLcTA2rcvJ4/DUpRgr83WMa1K2tyTLI3AT6j5+c67hK1t/52d/YXmsdX2I2RpNKtuSzev11tI9VgcNwj0CAzjGGu5wKtRxxnIkLASDbKKgRkF9OI+eFJBEpPCaa9gJrxgzRlUZ214yNfBBASYXc6a3eEMSEvfVNlz8F5qrx7HOPdii6fliXkrxjPx7eWDoVmHNtsSJ34zPhFAJiBEnbgO412aOq+XFRmVR1eRvzonvgadlxSEd6gxV4W7Sez8GUVBBoKQra/IrXvr7beqr8Wt5Oi+egZp/bPh741Gb4Mh5BpBZ9SiWcOhXaHSfvE5hRynCVMpdgvfeTuD8WItCZU6o6Fxsmc7Ih0Ktyw97XD3fBEzWwLjJpzE5reiTJe6AYhXUlsLKSakyAq+80gHSzR/WJbVD8Zw8v9LGj9zFszSlFD+BDjeZdE2gIdt9QZF6/dvTFAkBq+5/4rpY6vkY9YTCdJGvF8H8oyQvWzv9LhBvSUoirikusLouAaGmf74KCxHfmoG3AKKb5ulzW4h2Zyyi11aCTESZKRILoy0zK42EiHTmJEAAZP8YPPgJe7Rltcd/T7/lEmPGprq0uut8JsTRXnj+5sb5SUTCeQr/8W+tRhr/vuRWKG5h5N0jKZYwWZRQBgGu/qlnSjrh8QX+hp8HW8JovWJPg6vXJeMjIDqLBSWlEbYtICIGoyQU2occ2lu4nbzNamk9tWwRTCSdyd0mr/Z3+eCv9N8q4/nIqpGrQdiz3D4IcBtM2/K+jUDvRXKk4x3AAq9lhwOu2Z7KQ8FJm/Oya1JVf5zMrIEsdSxn5ea1fxm+dZOZ6fZ5xaOW++iny6GNpA60ezX6lg+heqEPA8OfKuSpNRkOYTWdy9oWIC3ucCHo2miEWmhUIu3lJlxYFB351VAAAHxkEf3odJP7nyN5O3PQa7aqYPD3tDtJ3TMMsysp1nxMk/MjBzw6w+4ggL18PaBVC811c2gz8h+R+e9oUxevs/iM1tBG7rKEfAANKA5YQAAARtBmiRsQ3/+p4984gGz188JLp/R7O6oaZ0E58+XpwTdFOfYkI4FHIKbyAxZcZ975kZHyK7JhCFs23Iv+xwBi/YBeD/9nwE51duqwyk1/+/WWLI/ekBSUedvV1HAXoJOFXTWwAegWHcf8N3xf3yZ9CW4La+yzLCKBe8BZcyt74xKC4WPSp9GgWmJ4xG0AZOGTGdU4XGqddqYK+w5tqc8rzNsVLk4FmqfZhuSZ2zrD5NmdONK/bqEWrHttmFrGy6c2u/Ixrxf1Oro0qHUnvf9ikcTPKbqEHdf4MuXTh4kc0nlGACHj7cjBOz+MtrdFDW9RcwTFC25XUHu/op94yUZYtUgFTn5g4L/V2K13eYvwrE5/YrJmECFJhoi8XJ4AAAASUGeQniFfws+/8TqV1oY3AgA30J8w08NDIb0KwIWANgyStmjwA/C0ZGI/u01tv0AAeimA1irGPKPSCkSUthTtZAQlfFjVuJDCHkAAAA8AZ5hdEJ/DEgneflKsh6AD8SLeIN9RdB17o3vegNOknABDgW5BLNXogtH9XlbE6ljq+jmALqvTsOpYcTMAAAANgGeY2pCfw0VtSmluhFEF2kEj0cAE65sT8yRfnt06fXy9+ABnB7dzRH3czhdWH6q00mE7IAO6QAAAI5BmmhJqEFomUwIb//+p4qDsPk0Ft643CAEtLYSMPTvqUwFzGSiRE1pXH9Cn9cospXPkw6uO+6ALbtxgTLwpiIcznYLcwrqYOAoly/2XAMAZ7PlOtcMq1+05zD6N28zsgQLCZYw+Ofi+ACU6A+yOzYLwSusWA59gPnVMLUbvUwzBpVhsf426R2AdqkxphmhAAAAM0GehkURLCv/CnbP26rKZ2l3dcwM2CPxjSWHP9EgBo02Lso1CAAA7dIE0pSF7AMfe4B0wQAAACYBnqV0Qn8MJrQ3LA3lAB87ArcfFjJriNSquwAAeW44O4Jp+u/swQAAABwBnqdqQn8MZ0kv0lPHW2CtMBqEAAAqvphsrEVYAAAAmUGarEmoQWyZTAhv//6nizZhYQAS42QAlIxHpKoW4+KDZhBfnN0HksGg2tpbwFotVj7zaPQkWzTUGxEgBatsStvLeq4cNWFGunfzDowAAMZN3u2qZbvPIV52VSqhTRyqp1rFEsHtQQls6jhMUAi6k50TpeERDbMl1Bls453zKmDoc53wyZDag0OGqcFSaIrRQvc72F+dYT3vpQAAAD9BnspFFSwr/wqS/eYAASB34zWj1mprQc027m9kFkyEG+qzYnggAYtVhsqhPeAvpZnY8/OKb/OwzcAHQQkyxgUAAAAkAZ7pdEJ/DH7WAeLEWqrV8MrFaAAE1wPvbPcePb1OaLJpdHgQAAAAPgGe62pCfwxN1c/JcrDlgIX+gAtbAFSlFqp8Ljv2WMdb5clA/EqOAAITKS/gA3gTIJSgy1GGmiNdZRoPPWtgAAAAoUGa8EmoQWyZTAhv//6nio7dXqHirqH29L6TkLIB9AAlbztWrl2/4y0TByhg1M//MaPaxYs9u3X1pViU1vnt2jdZPyMZhkP2VmZYqI/ifq0pVvZMP2OtqUrh6n1Nj3orc75Xz0Qihh3QAAAH9LFz2pQsATnO3mdtqVogQJmXV1rn9aRq9C1dGjJNomoVB5qAl0rS0Uiko9R3YJ9SM0qZS4QVAAAASEGfDkUVLCv/CnvCBgkU8AALEDNheh93eax1p0cXympQJ/vN8IwkACkGkstWHL1hAADJIVFtxUnSfW/SdyKm/ki8rHCKTLDGgQAAACwBny10Qn8MYTo88YAVgRt4aq0w0IySgX+Ix3ZrqEAAB2n7ULGKQZ8vACDUgQAAADkBny9qQn8MZ19ZaRAqABMvKKHRWB6SWTKmyoZDQUSD62KDwgABPq1ovtKlQNxR/llKYMOCSDqK4UEAAAC6QZs0SahBbJlMCG///qeLbp/y5bsJHoAE5INBnZLivrNzWerRLIgNEPvcX2VZvZUH5ePhSkJ7UxTRPXly7guFtjNt77nZ3JJvfdeGix5c2ESNjNUUoXc2wuj7SQktFewAxv9iNpZTBjctceCj8jRBFOtm6hlrdPqAAABnrotzfqhoC9t5KlLQFSLhwYAZ5h8nR06FUonvVY6Bluh0jPo3bVNAy0zsF5YGftIUkcUYKNDnmXnj2KgKiKmAAAAAWEGfUkUVLCv/CnxriVYcBm1OVb3AoJKT8JjQ+gBMs9X1A7vk5rvzbpZfiLo35lLyyO7jV+soS6TEU0Jy3/fVP4HmX3SFE/HB3tMAAL9DFjTeYcEo0eOMSMEAAAAxAZ9xdEJ/DFBLFVlBfryc3dgCCS+1JxvNGB+B4NxeR+zCqswABPkELQIC3caRFjPCkgAAADwBn3NqQn8McUclBHrhqFogNmQATjUWqUOpvSaewBaHY8lvXqf8Bc6YFD//zmNlI8VIWkAAEUigl0q8G4AAAADMQZt4SahBbJlMCG///qeIrHvXW+IfSQAqHlg/p6ZMSAXdRcypjbqaqhBAtKkMLaCignhZfy19LXDjTgAzbEuX2gIQvlJ+jBocieZ0jHFwOGELHsghVGh8X/1ucctaGP+tG6lR2jB1S5e6FUDEz5Lon3HbBGuAAABc4v43aV7PD4C/TVkymnNfbbp5fxtBSu2mKE93bbNFnuQ1OfWXEuRaniMDvlXca29921TO5Q9CF1+vcB+VS4gasIYxSi9/O+Jvj2kZWA8cmKJnnZTxAAAAY0GflkUVLCv/CVUeBkY0q1oAFyZlXO78JWjxOSsc78Nxh8vAx8tKSMObAUGBovRygzfYrc/XlazH1w9POpMB4lRRazRLxifupPvxBLiKRZUbP9+nTRqAAFp1PzX9CGTHqMgi4AAAAEIBn7V0Qn8KiBdOzh8qMlZsrP16M0uJGwmHI+tfATXo8AJquLOXG3StlTAiZV2j5Z6ZWBt/K3T4AAYGNTHuxDAJ7VkAAAA4AZ+3akJ/CySNvKbNvku+bq9vTFfugAAErNJzN59Cs5X1fQn2xYHo/KwAAedAI/Ylj5JaSjVoAysAAADDQZu8SahBbJlMCG///qe258pgCrEXM8VODEvlUY12OFTPvQ4r3N6GslZdVMfrP7cfBdR+Q5FI7MKPUseY4oNZjyOdUcTvohgY/uV2/EJkftHu1r0FAAADACPgDnZDGmAsaTe5eUXpf+x1kdRWQ2XarinCHVX3r6y0G+/i1LPGWriFukuTtPOj37tqlXX6LADE5xcv6yEXhb3/OSOyMtCvuBoJ0y5Hl4uAqPQdMN4me8BUI1VcDLlckiuEoLcT7dr2cFbAAAAAZ0Gf2kUVLCv/EVy2eDgEw0wH+20G0v8awquQ+S93Cv6ICsUch4jdvVlbgR/EvhhQguJx9gIvZSWCsobP7a1T+0wEV/w9RufyRKYaSVNSd8jq9l1zr8uGtAsNwABzqAGwEBZBVqyUQRcAAAAzAZ/5dEJ/Eaxot2u2AskMefMA1qZNzDCcmOFpPsEAHgddNvY1eCtwAE0gJUa/9ZI8szZgAAAASgGf+2pCfxQ8j+WkOT+knayaW5YnE8JT+XBJqeB31gYRbdLP93QRARDlWRPadACCYXLAPm/NTgAAM1Yf5d/liBFDrmXRU7/WY0t7AAABVUGb4EmoQWyZTAhv//6nt1860Wn+qwZQ+m3pagALaG33q/BRXHg9lSovNniiNba+PRH8eKLmDZ5PcU1lfrZf83FBTdNMVc6gc5nC1+TruPEhcohIedQVK9FYkh3X/yF4Me0dyHKx7uDNtNgAAEbRVK4B0q3Q4pb3s5PGzpt3faCbRING0R2oNaQMHhnaXW6jwJJM8/ahXZGWidOY6SkZcy+YZnuJO3JgaO4jyL3a0aFfIB0Vwt2j1H+OVbcA4fJqL7+CWoGNcZk2pf/iiSqatg2h2Q7b0/+RpAkrBsp8gtlSam7rVm5cdm8iNxkiKO8//iuJd1Z14ANcwI7m3UuCuVdxVadQ8gKXH5TS6hUYWg44gSm6ACT6kN/ocDchojJYTRS8wHA/8yuYxzk4MmHH8OuTxx42WgMX6xfbSIYwtokhwd1065th+IIl9GhR6G4FtvMoc8RdAAAAZEGeHkUVLCv/EUbaYBMM0zIxfsvkWHDMI3qkeZNf9NA8oxPWyYheLsOyDJ3wh3XETcdlk2bWAo1detsmpvVBdhedWGJ1ohXGqWnHRwQdKR6oAPv+ulbJZOYKFQIaqBqu1ky7tmQAAABRAZ49dEJ/FCh8cDAE6BYS5AGxEtLr6czlI/i9McmXsbcwEx1MQ165iJJeHiRM6nLUrOSBEcGxzVH4dHIAUSRt+V0gE18bYPSV7jhMeaDQoeuAAAAAVwGeP2pCfxfrDgEmdO0pGlt9Z54dK+Y2D/JRlmIcf/i7fLQDPYnqkvLE6C519JKDaI8vruYogSDFebzNIVEoGAD82l4ElPWR4c8VJp7wW1/z7gmYXEDegQAAARRBmiRJqEFsmUwIb//+p4dUJ/xEfohN4MLYIaO2NyFIXwDuCIy/FTq646CbAihC7b6QdhYT2ABrzX0E5xK4MKKgWICWuAhWUAoWSpF/duM4k6lKK4mLWlGtyb6+YJJP0f3/fG69cQdF15mvJps1TIFPT/Ys7eY1ypsvi/XzHl31o8toHHgD3cKHba3Pf8Jc5TMwPBqeVtee5lkpf/fPsM6Qk9NLjzQz+0JNwKqt0zDpqbwj7xA6xTAqARDH7k/lepE5CDC4PyM+L2T8QDC8si6l0qVk5KtxLhSvqvvGZjP+U6EWGaLzcd04USRQAWeK4cVkD+/Yf7h7Dr1zmT5PubF6FJXKa69PylMREHNFT9CDp/IDi2gAAACmQZ5CRRUsK/8IkVd6pa0aZjnSDf/iAGz7xnz0Iq3L2NzT6ppyCGKzA3lJ+AL4iuKShoNX4kCc93vEvZBqY+GVlDlbHbdEpIH78LR3IZk/v3tSn2mWv413KGXspdkE7Zq2iKVZbWHgYm3Wa15Bcp8vkb8nQRwS2MCR/w4G3+YvK54xomKLtVoGL25Co06cUqh1FnElB3b9DAamREOeGuM4QXTneM0IWQAAAD4BnmF0Qn8KNv9K8DhX32XGRfuGqfi1YcF0ZaUiKWO633FyR1zMWfGmp+WU+ovLzAkZwAdEyZg4Ad2bzPjh3QAAAIEBnmNqQn8KLFOQbHxulnYBInBE19DsgcHQNBG1vj3HbSADzCXqCoTxv1pmKGhLt/gyN1zL9kpkiD+AkLkT9bPCPZ0mDK8NtYVkBHTm+19ZHYUNXOYudc1Ngg/iE5jQqRaS4BLxXxj+ETFM4LnHDdPXpqUUa1zhHQO9g1cTt/sAg4EAAAFPQZpoSahBbJlMCG///qeEAgRv7/AskAtY/zApLR9oSYhwT9KQ0nXRBv7551IPzjMPc2kgWDlHzKMJimPMCcQ6yrBiopB8VR7lnvZJmoT5FvuDMteCUjQimbk8wPPOxaFCYol/XTut8fD+dBdzYVe4fhi3I885mID3DftM+kcdKjA1TwGofaIEes7UnxWVKrdNMt3uOr7Tunp9Sk3e6O+uXrDb0Te8dUquFG00JjJdM04J/xo+4eXe/Hx85xncaAj9MhTMoy7WEEtGFkQMovBtiMcro+NcSqtTg/kwd/xOW3/W28skfUnE1N4sgup759t/KOxk1q298Zqs7dKmvd96ioXCCOVSXXfGHcOBEqhSfARCJlO+6amWnuliW08v1rESBLOspbqMScGGvv1VA+KAAWQUDADmUYkie/t0Uyl/N91vQRCyl1VZ3BOIYt5QBbUAAADVQZ6GRRUsK/8Ba3VYQQDxC2DIhEwJ8FEn2OXwMbiQ2q1b7MVsTaBUwAPMvG46GjtWwzx8Ihs222cTCCbXVRLGtKCafLs3phWqiThIVU5Rd4DFmcNWyJyAeCZWgSWa26wZqzO4bSmCfV1ZqiDuwO+0n/aZupmbe4C3JPFoWsJuVdGmYM+1HZIYaEwZlyAUmLWca65mj1zVdgSjTtosepDnIMD286pDnMoREb68RLjnhP8PznfBGjI5bSGjsiPjy9EefqtDnxXdjYS/kQxwP2fTBac5eYYtAAAAmwGepXRCfwHOg/hYfxpRAwnDRbSph6O4r+cWdPX3/y/6QN+EVvgVcy9+MAhHb2E3wHEFRI4uY0Mkj+OWHMGHWCO9q/ZgGjNF4S8sm42WeOC69lROn2/Ff4FbYP0hAiceRE8nsILhSiX5tvAoVtwhiC5Ldrfp1G1Man+leVHZMvn//5tju6lD+jRzIYd+SfCPnuiwECA+JIsxsDFhAAAAzQGep2pCfwHOQwL3m2lKSBNkqXlUtmGCrAZB2REbMsAAJ1pQke+zKBnpzrbauS50P7WuC59USvk0w3MZq0RS/4CQtUEi0Ren8NHdVnrSGT5Vqo+NoA4NMNZsl1J63VUYrpSD8rJ0HdiRlXRzUSJoPz7k7bAxTaQU0oGy98wdHtYSVZHG7gQWuCa9urNANwTOpuNu/vmC1GgUNWKv+JaIwxTTmc8mfaa9MO+HV1kVPsgnni7kKHip3O/Jpl7hxFFR2TDXTYQW2qbVfU/4Ab0AAAFIQZqsSahBbJlMCGf//p4QB8bT0eiX5Zng7ib5rADjglg/czCtrX8GWdDOKMU9gM9rqL8zWdWKqYGrdvhk24Iz++WmyIUf/rs7gSjJUaJiUUyXzmrcWtxNqgTuVrqiwjazIKqEQmfELKWtjs+obIMCeD7L22xt7wwdJoE5SYlx4o6MGWNAUF5ofe9XOOYtM6g3D24WBtmc70c/sxz81NpR5aDXUHI8rUGRDYndpbohd07gWmjb0ZHrV9TVCWgjgu14NLyvz7K2sRlpBftEHbnFwLKyfnTVs4CUAxbo7uyzsw8K82qhDGIwP0VwQ4109POvS9AFuzROJe4r8Ep6Dh51Z41fvbWh5cf/Dwz2xIKbU+B2nb5J16svFiBJoQCBr1ytYk70i6lhoHXRtdd9eGljSFRZjhYSq7fBZaAVG+TDi9MSOzKsQABBwAAAANdBnspFFSwr/wFsaJyT+7+N48xQnKBjuHXw+dwSfm/LrWNtbQeMEyqigKLQAk0dA73NmMoENJCJjAs7wYq2c9PdfMWowcwFVHPzod2d/33q+zHtS1AdymwPO5Iw9x+ww+XcyKXjSoXMOV2b68/ZeAuDH2TT/mQgYI4ldXF9mQfEhA8hcF8ZXvTQFmBft0xZo44pqfoXd8s2VMIxH4HstIHs+Sev0nNN7SzE/fEcLtHddszuBHn7ae3rFDYMSSHSDXhc9+PL7OktfEiWcbPcjIzdGN8mkj/BdwAAAK4Bnul0Qn8BzdQXsE5916lcoCUQ8Ei7nrazsqyqNAmWooAPB9p7wHBpyamrK0G0vb3j6BIGDqryOYaJQJW8UceMIqOGKt95XrFreqsH47P2VBkBCD51cPNATRGOlwPgIQOFvEy2mXelpCi21fr5ftNzDkzFuWzmAGULEEqre4e3Rth76xzkrGsPeIEL8KF5pSUEXHzZoMkHvPa/lJwQaeT9xLBeMv8sXrjb2WHI13AAAADMAZ7rakJ/Aa540uOhqzqCcnwXlWOUJaXCpDBOquDMKgndKMqcwANZWdITnFUdwA3EduS5fc6C5Gg0Ir62lmmsDhtKKngLWBS/pj3P+51OR1wXPA6d//tzDKRSW0+hZtunso7cQnN0JJsHQNgPpzU2nJSRm1K2D0pUSr98HeCh8iYa1z4ZT6CvWocD49sn6ukwtBOY0F9ibeagCgvoRU+xA/zTalxwmfJuIz5jZ4oOF/XLmbrW/SLqOYfg9AmHEBfyfZZs0diN0eZsZ+OOAAABUUGa8EmoQWyZTAhf//6MsAKXzLkz3/XIpSx5mAii9chtEMOHU//Ztpc2qxOvZNgdJTKXA9vlOGJRDCYsFgUgAebOcD5/6ozlhzNa+H8DdHHmbn/FPu9k2T3EY2bSLKQc9rhJhwqNAYaLfOkDzsM/5go6QjLhJyMRIBCsXox3QY9LS0zubQJGDFldJRAtfs0UlWlHiFaUmSfBv5JWwvQmp1gEF0SS+c8dG/2zAcdgQCTscCDRxSitDPP0vRDAZCG++oAFgTaRhHCev5aTWT/pJn3FHKOKMBJ8IDkJjyied5ZiR2Thg5f9cDdMb6ishyY/gyCuPmc1yU6hjdd2r1gI76PWjcJTzSGeMVfwEeD9D4g51TG0/2lOXwxGL+u9M0BmYobuuGkEQPBy9U2dYvSq5D2GmBX7P8+jhCF4CZ31JvKuRb4EkTn3RAx11MVsatwgFpEAAAC9QZ8ORRUsK/8BUeTONzdAoVqHrJHQ5PpO00eMClHMlr0TlXwWoN7IhijBYM/fxHtWRU9Kzd6XsAdcLQvMLIJNyOfhh+Bvq0X7y3TcfD30ecGfoHS8xbQwyqOXjL+VKKiMOTbY6jnUchFGVcfPMdVHvs3hvsVPs8kTEjf78jM7OjSF/heCkOWYJV7bx2BqSuxbDrQuSQxa4oNjFPp/DBn9u+qCnpX6Ab9+xsNTI1orOx/CirHjxuyIs8GkGQOXAAAAoAGfLXRCfwGt85MugIt92tg3hjXx9+5vPBD2k9CTgc06oXjFGit5dK9gBLYlRRhNxGXbYpluUykrAtX6dR/5pGDlCj3xcX/cwoABp6+o8CPINeu2Nmwpckbbv2HFf1EP1c2//5mUaA25mCrnjY+v0lqHi6W1qA0yWjZNEstIPPLK9FuY/fvf7lIdN0nFCxXfUoL3TkSXnztA3byPDQwIA/0AAADqAZ8vakJ/Aa540vG++iaFeQfPvJe3bF2NJcNwmiJcSJBn46XCtdKJacbHBeBXAAtFTZZ5SuvxmDn57p7XEvaLtRycdeFNV6AGa2ykSbBH13e3y7EfOoKthX+Wk20iL6pZ6oFZ5A9cLxErrrknN5mGu254gDUgif/81DES7C0Z//bnZitI4HoqTwo6LmUcR9TSIQOo4KkpmmeFR3XNFbY98g1DDalP//j75KzBJ1GAENRai3hhJCkCyH7+OlVn5H8is1whwpQx+CKtNm6WNYvL3wsn3rGNqnQibjK2/pGAe4tQ368XWV1EeDugAAABREGbNEmoQWyZTAhv//6nhACj8y7TiPNqYZWaU0s1EQOjHP97sptwL7XRwkj/vZ3LH1rvShpHzhu4OJWDvwdoClP1vwEQIjcRRJHVGD7zyh+tqufRCySZadvBt9vy8q7kLA4ntQjWdEAmy9foHrjV46wsx8vtso57CNdQdyUlxA+Tw9V3qRTbtH+l8M+vsztXlZYTJvlu1ugbpXpj7iNNIAFQfzrkqhT6RG5fP5Hq0GpBFVgNhPoO3ll2ud+ESKxfJ/0NgKc+hoFuUWR85pf66KcmXB4DLOCNEA6kpC9oBb5CJ+OzCkEX0WWQdW2bBUTLRcD8llzegAVroyaxqJMCqYb1h8UhCHqeAwaaiT8IBQzF23QOzXv0tQ2rvNLXlYdP8dw9IANIBiX8U3FtYoj5aPdml4B+b1mSQ4vaOj6s31rQrwCbgAAAAKdBn1JFFSwr/wFR5M22baqCTgIAqLoLDdFaPTKAsyk6w8fYWZ95hSSHCeM9r7RLlhSuk3d4nsqYCO47STY2XXYbEM9nLdpzZIJY/OPgix/9vE/UdFOrYq5BVlAC0dMUiAeMTG1mJUcTiRvZn98kYzuPpVeRvLXSSAdHiWTEbqX78cgjNo1u0/YDzkqNdyJaphKHZD4MGhyg3HeZKb0WTzxRq42am7A+4QAAAMABn3F0Qn8BrfOQ8LYwe+gei+HkcbPWKAFhgtT6ZWYiG1FZWCcgKmbe9PGiEzt7DVtpXATKJgV+z92PLFBy+0kDexZKfTd2jPoNXwP96fjr+NhS9eCvmnXBD+wfxkIyUxwZyHLuHLOVquH1S4RKjF+fBT2Aw6oF3tdu/KOyklDWrnz8Ku7xWt4WJvV5+gm0Jo+Xr5ek0VgRwLX8QWzs/qAC30kFcxh+/YfCcqwHV0TScndLDiLObVBJX09Za8wAaEAAAACyAZ9zakJ/Aa54z9HOfISvQB7S1hDsZ/K+AQsq/CTKAC4FdMo77GPS2jBl9fNezZ5MEBHR1NvQbBZ7v/018pqd9r2YQrdbecewPNdOAFxJM1A9VFtsUI5RKPxd6yjBrctMl/JkZ6qEDKExyzeeB5eUBuw8ZP5esSsqAX3qsz/1ek/ZHEeOgY+1QLrLzZfzhC2OhWWRfssTgDm88ZxLMNUtaoUCdoQi+GdKzLjXIFhVGC2B0wAAAR9Bm3hJqEFsmUwIb//+p4QAPlr34SWgcAIU93tpTNbHbKXWEGp1rh3U9rNR4YL3QbmYNDPtRdkipaXOggXlEzzE1sIickJ3DHNMilXWn+UFxuyOWjqYW679BUMhHQOdc0SsnCiqGSoULHpfhJ1He/431uCr17F4/f8SBiyn/7tSb8gHb01MuFY783amAQUiQ+C8wYe+uJ9u652I6hyP7Ct+K6pZCOMOl5YK2Axqo4iIe6xCaoJ1dHM1n+RIFvDR0p5xCRNHAJsj/fJOIvM+SJGQbIEHLZVEf6v6tdiaBc/D9j/MYN2+vvXaGqxucywLd5o2SoHQNNLeuzKp5PFF06UpjQJd/VVexH+PR4USsgQjPwzAQNEx0pgLgyyJs6gBqQAAAM5Bn5ZFFSwr/wFR5MnNhsJB5xxoABsu7IqGncMUsBTxYqg7N+FL0FM19eq2o3zS2Gcs2Ni6pRhQjfW1+ZPcQcXA8g6tLtxK5omFypE2VYDVLCt126ntzGfXdK7VzUzPT4UwI3/p2Ss9BswgO8ZdKGibaPsWGKl+IAU3jAKI72oxyKKPt6/vBxPrMmTvCkw5SuX7xu5et3SD0B0eu8ChtmgsCwpQLNTVJ6w1QUEg2sZ4Iw5Kfyd05SRIdyQoJGMTiCW978hN+xFblw+OB6TBvQAAALcBn7V0Qn8BrfOP5AYPY1trBwDmUOkCaWQ6qhnABa5xjpeCdfx4YWJzGpPXHr0/pl402PyjRsUAZOg/plsgTXoxKAzPvtlIVB7aS932u4rOAKMMxj5mS78gJg6hCYubUUb4IJy960rVmnwasqdBv1Psb1A70NEQD5fneh2vXIFGTwjTRtuJ3KKO/YqijZ41nbEL5cGjckNB55ZR2t4lUOMNKpecexB5wIj5Nl1L1p5jxmxCCK8qQRcAAADLAZ+3akJ/Aa54z9HaWbHP8nI9oLymCCNr2WAraMB54ATqyAtMLLQWY9kRMTaDC8MEDXwBcEOCr0DiRHUSWWiJpSSn9ep9OLpHy4kddBeENAelAlE0mORB0eYnhoNBkUVG8pWWc1K/B19VfZ2L96sKPLJwgnwdhQp6dBz+JXBbDrZXoS0/5kI4gWoQw6eXclwSh5pcLOIZzzzgdiZR6STulra5uIbM19MLCY+OJMk6PsfJbdhAV6WLZQJZ8mh8aqIw0Yr64fAoOz0bAqcAAAE+QZu8SahBbJlMCG///qeEAJ903tRG4txI5xbkG7qB7p3rQfABsf8TZS6ekP33BNpuHRu7ocFBwLwJ4tEtQ+hBeEEjtVXWc8GE3f0oQw8N1tDuKQ8I4yEC6o26bLG6+Jt1PRep5MRC5D7aQ5AAMiIvY11xTkupvatT8XIhi2ncLUaC8W665ZLJBV54nkSaZoL9m2rrxcTMBDvwjm2O6LCboqp+zGMrEP8hCnUL0DVLAuafTUeNp9awwv3DKjkqr+VYIDkNUWF0NvvBqvJYAVODP+yJz4VnnzixBnK1ZMDyGmdBgDaDuHSHCxlzHkvtM9ohQBeZK5JT4bPX6mbH4GGVlzeFif94aZwh8kN2OPIGpFo30M8rkYpe753jjZ3UKZzlXFHM9urWwhbFEJc/7M89BdHVJPvEBb5pEPVIKAdMAAAAr0Gf2kUVLCf/Aa693ZnCKFt8iqJWOb4LXAQfJSypYmdAAjAXqgOOyUV4ujvfG+28Z2I0w/eXiJsS3cRAOy4LWfE4oG2wsjozz3sfQdmCi8epklGEyDdAptA/fEIugwIPChAwrdJLNItA6SGieRHOsn+BBUe7tcNqRLLXaXsArwpSHkHI68F9gNN1k9Jc+8PNGuZ11zqcg/BgSwQ+TXIxvFvoXP+fSUZaKGItNGuQdMEAAADgAZ/5dEJ/Aa3zfjg/D4pQmQARCIANuzYj2/J2OP9pkoQx+bQ59VQMr6wV3mJVWEnDPJjXCZ5rhdc3H0UIjk26qzwOy7nj+SiH6ddtk3ANO6BXRSxhHQJertGBw1lZIZBy6stRviPkdAAvU1Rvo9sv+vR2qBTZfVCf9amFSCQ7R5ARPUxDuoRhLpoYbE0pmRxq7ErKZXGfrCEQkSFhoNULozkQ2v96EL2mXxaKfK/3vn2xNCrBHmOHaBjURNPPCftSMjiJL+UyDDdrUxNBR3hPbwiVU00kZTCwQEaUaZBgJeAAAADDAZ/7akJ/Aa54vfMd8koJaGuJUw8AI0XkrOMoN6x6i1Tlb9G0SSaPaTno8CfljfIsHAWaOcRs+LBEGO3FlgSlpGJ0b9MvRHhV+H0VLNNtgLsfTpsJdRHupG4ZfREBQ5a5Gok+K6CAe76txXjHonnIhfYi2DHhkg7WndrdrseUV29JU4E4UClc4tvyFKIhz0FJuqUU/V1Djyjz8M2qPgIAnooCQYPExLZFTwMcBXXy+oJRAr6baCa4QuzO9CPwMU1XgGBBAAABRUGb4EmoQWyZTAhv//6nhAA8tsZkaZPMgDksMvZt8tkNyBiJMPE9xZFYeeBq4ruKCh7j1UeCtvzZnFLv6Dt5fCLvCeZ+IT+pOc7nxbArJoMAtjckwFUZ8Io9i3zWHbW2y10ASbBcXfxQQAqYlXZpZhrbsa6l/6PLiLMpZ0/9ew9Pob8zs0Hq7IR0vCg3miXXzNh0YYaawx80FG2Upw9nkiDTKZK0pjWYNBZXTK9EmpDhmQ6QT2xdmlWJpZP/rUHezUU/6fjjr60UV4R/NFvt7zDkEBAf4jSghTSNgFXmSn/7CNMKzSszgMYEOMOCfgBWXtD64qRocQyIYDOUniaXqAzV+PUF4GR8xWX7op3bq240RT4MoSgr8b8f1Y+nLw6deMDt8rdygMs8Q++lSQv9xsvJEbuS16yXYdYJySYQZAGIjQgVhB0AAAC/QZ4eRRUsK/8BUeTJuzj338OdXVCaXWBmla/Wuqa7rG9GpzSbGAfJAXDQcghC/xpY8/01TeGAnrki7U+QBeWoyzHTrvnEhL/h7Oo1B+RSBVIPUBDYUAyHQlX1IexRkHQubKV4z9oNAo5YLJDzYnqdARR4FT0v38hVnGE+sUOJ1HxJEDXtWKinJ7m2sgBsOD7GQvHP2Y9SEpIqHie90cAIa5FflpUnQzle/7TwNEV1khpjElHgryH9gFlBX0HCHrAAAACZAZ49dEJ/Aa3zffPAx9UAKjyensgC0k97WSU5rg/e1Y11MniKpHa8WAMxpy2yfpluK3EneEI/r6vapRt/7rwWmTBw3P4yzQCDn/bWW8cFpWfEEogkmvJwL5f5WwV+U+V+4GDCCqJwFM2WACWTnMpjQJ95qMS1AkHOLJutMDKbkThkwgqjCc+GGiHbVrspnCbq1EhvarhUBwLuAAAA3QGeP2pCfwGueL3vo0YnrGxgvrmWxwXGVwAtFO9owXhk1e3sB9McnYboCZpiXJwrhDVwBHxya/4v+7XTOGerg70G5i8XJjG7TTUAdvMWkPA4QrjA2nAaIZLcCmem3FzN7nHtAcT7eVRcdgxGzamf+CZnSzRPzYxGq2YnNQiT0ce9ipNahYf9KVMz8dZ6Jdxsuja8F1FWHMF/Wsnub/1yyiqI+iil0QcyNAW3EeVLooT95GkFL0KBzcxl+TUTDg+4Rsf8UGsIxF+DUPWgCDp6Ll8xDzwdgBi2Jd6ObAl5AAAAzkGaIkmoQWyZTBRMN//+p4QAPPr34Ghi8hGAQX/UKI3W7kLHOIG8/mGXgC6u+I6O63Zvtr+nPA4lLixJimREKMTlTlvQXxlhJZXCnQ/0a55DBjbhsB/eamUCjHm+++fZDAPwSy6NoAGglK9nmuizIuF/pKwwp50C/QmYpXnHULd/KZXxwyMaftpIxgm+qjn7jNVKu3jmWhFuHPAVraw5DNv3EfbIfD8CfOsjTaoPsdacmBFpXEqJ8HwJTjX7J3WSeWjOA42utoAR/OrlABNwAAAAxQGeQWpCfwGuvd15GlUCUJRFeoaI5NAEPFwPxwJMmoAbTwy03vHJzh94npc9TTjDQS1kkk9U9Upi3Dhf1den38+U722BDIWRrLSR/IGFxo+n7Mty/2BDwjHctHnCyPBbI3bKvy8Lh3KU/1/ikOlQSCRlJGaGAAr2xn/cFtmze3l7PO1d9YFTJAWlrw4qWoZ3hhhZr9kwdNZKCBP9QfHc3gx93TqTw5dTGm3++ftdEhlVCABFA4SM2fgbXARyNsg3rlWvEJmBAAAA2UGaRknhClJlMCGf/p4QAO5wnSLN5G6p8Q+2MWoAHjF2w3P8NFS6tCda51zAi4xBQWByELKJn83Bu34AlSr/Q6VvilGmaxszqSP1k0rH4TiIQSnot9pQ88V5rDFcTP2MZGlRFNtP+oIqVBAR/4VQZDewXlvuQPitty4LH7wPhbMD4cx4q5gMDJMPfn9mVNN/OWlKB1DUFYdiiaerU7ZfcEwaq1c2PFf+vl3nSTLChMXhXCeY1f+x5SYyZ5+uxbUaj/7t1OieafEe9QvupetOCSSmZD82ty1AAoIAAACPQZ5kRTRMK/8BUc2Kp/xmoyHYiuMTTR+zFv6YBzwAFA/UFWUALEaxSjMGCCf9/xCdohuRz2KMuTuM87wk99I1o0D79pAu/ERdb2R4YyM2pWSI4EPMuV6hq00s2jQUrI1wvSa1dGTbdg2hA7NgURmducMXMT3rjB/dfpHIQoOgS1Oxhr0n+uC+BzvIuUWcH5EAAACTAZ6DdEJ/Aa3zffA8bR+kiybWoAdI6URs8VRxWcqofPB6RBlkyLv0bN8EMclEqmjxSNhBUiYbFFE2FmtPrvHvkEqKb1Z+ImJEZ657KNG5x3/7h5Q2xmA6sWfrjarEV1BVzBQ2PWxGm0+pD8QebP99NDJvym1zzIMaD6BTjPvADlPatCeQat4ZUWPn5r0i37GNmxTRAAAAkAGehWpCfwGueL2uW+M42wUiQCsJlnoxXjzp1dvm/RWoAsPkO07pjw8SJnUO1ai7RQ23CLsfVacni0qRTaTcqHvXksgjrY5H7hJXF41navqenkWtEAudTS5cb2Qt1u6h9k8h074VzLzp+9UPSc8AN5CvxYajtT+BA7YwGCihi+jJfPZF2MfaVLM4PA/H9UBmQQAAANFBmopJqEFomUwIX//+jLAAW2vm5bgAAi30JLVTHToK9i+21DbQ1lMTyfiFCF3kxfde2AelshedOP7+Alch9AMKtYTCsBDiw7EqWwPI3wKv3W3cYuQDeS0vwKxfSH2uzmJuGdT5FFv67pu7ibYGSTwthkZuN94JUEb8/NC+toSivEHXFvW7DtulloJlWuM63KsVtYsMp66kAm5ri478srs80sKkXkiWUvoBdlqgDEaSDBjRNkLZbWGWKPJ3NSiv7qFaAmmI0h3Fvo9Uuw1nkACkgQAAAKhBnqhFESwr/wFR5MiJNbUbWV4ABdAGZn+NG5L+6zWbDhAiTjs0GjttbUtRoy755NDO1xvXD0COxNydf/QuvehzNGSuE3Q2uqPg1+GGuB6+N+KolVYL85aTae+Qu7MwoyBF5fuUmsfK4Qa8F7dMuK4rYUASzVXiV6AK7RtLTiMyF4JpEAwohg2lWB8R+cl/yeaw3nmhDUAAQZ4VQrY8lxZ0+WDAEZa0FTAAAACIAZ7HdEJ/Aa3zfVLwVwTKb+aGluP/gUeZgIyZE3dva8oZA3BpaxUAC2eRBaLp3T8ZmceG1I926jI5M1vUeYNNKKiqSELRt6wOAOzE3Oz0ZD43dFb0XItBjWBkq4CxnwzR8agZSDbCGziZCLlqN2cXQ+wkq/RhEMh9Y+Tebv59WgLwRje89ScEvAAAAGgBnslqQn8Brni9Ugb93H4SQ9GilD0wV2WZ7PbRdpzpL8uj9AfGdFOaADoE9iGS1tlXqDUXI95z21k1Y5qcPptPAMNwyzpvM1WT86jtnc0U268PC5B9ge+AMQoe5RsIxAqaMFVR7uQdcQAAAPNBms5JqEFsmUwIb//+p4QAF03lxb2yW6feqtwADZufRnzDmsM7vXy4ip4reCcwPYeqTkWiAqPCO7OCFnJXs4n1iRlzf1KXpL+IKHxk+w9H2lutmegtPjoK+EcGoTwFbjBt94neyi6OMp8KUCAn5+zNRvS0eWoUFHdQTLBdD9pJ3xwadlS18lpCElu1XWSqONsaXC52KlSe4IKDwAcrrD9GZ/nJ+T0eNtMHbaj8vU4m0hRsDbWbldcYrZwv+lNfTfCZE8a1bP1TLzK1cgwNAVfXDAEiTmqL5NenCyqwQuK5oYG30mHKRqWhYNseeju6HJugCXgAAACkQZ7sRRUsK/8BUeTIiVzh+yHKp0AJT4w2CgOyITIWA7C5SVbtzhpP5yPYbgZA/J560M8351VtJBFvPaAXoDAyzCba57Gnm3TKZBrU+fl0MJwfVUXR/tTPx7b6gsWzOviUyWYNAqibzjAuzOu1FVjbMVSLepwV9xG03bX0bLi/QVpMyy9Z9I2JTRwEX7zCTvgIyTzksfbhDnppjaxi8DNntB8og4AAAAB1AZ8LdEJ/Aa3zd8tgVylnlZn00IjX9683Hh/rbkOoAJ7bwAP3T4oj6JGp8YmcuC3dVM0nzcyZDGVvdUL3nnPGzF3KX2R/BVfDQhNKIOsQWHEGQEERb+4xJp47wkRSoSUv9Yj66/z53FjFql+QVV6rIZ/G0CthAAAAXQGfDWpCfwGueLfM5Lk6o/vircTPr/dUxN7F4XX7mQsX3DFOnscAGzQyr5hHnHaYYHbRejQFqPSRfqBC1uHySfjitTKhSvXN/5F3mioxqIw2SKrEVbMDdE6vZP+BAwAAANxBmxJJqEFsmUwIb//+p4QAF/4TzPI8hvWDD9Rbxw+FncWjZN+NTRLiQxSgQNpFflJkWWj4GVBYne5PeRg7U7eVRWk1G6SfaVMgvpfINo/CPOT69tu2ekzAEOsSXWxX4+Hjn4pTgh8PsInqV/8XKhlAjZlINKHNPR6X+YRvNri4T1Y4+MJ5zoHVvfe1MOT6KzFQgarRlzfqL5Uz+lBNiwv6DQwc4yQr+Kcq+LlUYVcALE0xgP1RBW+lEZeUHRQZaCLk1jX50xmK0BwQUnTMRkyY3mUnvUUONeUcAD5hAAAAlUGfMEUVLCv/AVHkyIj+LasEjw0p1cHAfju/KgdgAg6+p4LTYuyNe9WK3Z1xvkFOwmJy+O0UsX4DEMzh6P3jb4WUCgh6VnNSV1azm4TYj+61BMgLGPmf2FWljOrby3bzwLGFwxTKRQ3z12dPpKFQ21XjLvVW1XEJXXPebVPQ2DSBJ8xP6YsoZPYbzEBu6sGuAVAXigbMAAAAcgGfT3RCfwGt83fLVI4lecsSZWQtsn8pYPYvLRSQyTWCACbX94ILglujVddIbkC3zSMi42MeZw1VASXGQFj8iqCFaANJfyffRwUBREHerPBop3ATxMEs3rtOEcCeFvMF2WktGLSvnTkipG2Mqq3tUrgIuAAAAIABn1FqQn8Brni3qmmKrI1Ivgoelr2zK9QVaGzcsN1M4fgxdf2r4sTlrT8RABxW7eJjgdEigYQxJybA2oi8VZ46sLtt6anfEEeGSOsAbZ6Sgrp33H79Ltv5OGpN6CKJXvqQGpF7nQLiqcJt428ozJ0zx66LMOquDJyKowAMzqUBFwAAAQhBm1ZJqEFsmUwIb//+p4QAF15l2jm8oejDgH1dtlyFk0B8s8jzGoIALKDHo1XIZUiQKNzntP92voHGMZe9rKt9RXQeU01cO4hTS/fb20QGih6S2OgB/oBdhj9tMmgB40CWOefiFp+kpLFmCt9RN+6irDFb0uzZp5HXjTUlRfavdKFORlg9W5qCCY/y5FBvmAy7E1LQ3HbAC9ofiPozWuHBHF9YzqWL9vICgUNuvTQmEMqwt7nOEOot7Syzh429E7fRJkhh4AcmeqaW+JhSoGh4RnhNFhVc3vemPF9OlQLUTC6vFUQidqIQUBDFZiwbA5/FEn0jLVKn7HLgq6u8E7sxdZbTOmxgtoAAAACZQZ90RRUsK/8BUeTIfv5JZP+7K2LwhB1O6fx1nnODxDpb51RXKW+KAS+vROLf0WWC757AAuL+pl86ulN30EqBMe7461j7kdR6zvF+SV4NNMME9jVTCsdSd75uLEcwelWy3kf1XEc8JgWzO/6HBtiiZ/+5SDosf+pm5R+Zr7ywqqGun7NLuncGZOMLZ6pmAaR81+m7VDjZgBvQAAAAhwGfk3RCfwGt83efD1/bvnnGUVHxljWYo4xsAK/Yeh+/0Hz3uHwh4fGHOQVbGfjwFZrRz9vUHAGjJDIKzDOPucHZNNrIejlk5yPF7zTxwXQT1gwj4YqJ811hRu1ixbOSl/xPYGDI79A3N3jqB3Qvc941DGNQIH00YDuCU12jgHPcqcncm1ID5wAAAJgBn5VqQn8Brni3dOhtvrN/+HIPyH7ID4RvtsLJNFgBXcCMrxRYBtck5lSM/7rHlf+rv0m/a6Xbz1C9fyk21/1DZtyD1DlIkoWUaQ+FEm6bXSOwUqVc13/O+P+JEcLDc2IJpDHrdhe/WuP2MnT9p/NDN0QLBxvvTflLgt8n5nGjlT4v9xHGo6S9f5WKPZjXwUJEE1syK7KPSAAAAMJBm5pJqEFsmUwIb//+p4QACOj/YGE5RsILEdzYlQNWniMlAC1QBXmln5kX2SJzG9rnb7OR01atGS7gYIalOTbPLaEdoLCr/LrTcYoFnhOE52b6Wj4hN9IHxBJH7tdwKX3tDYM9+YgfbIGwrzN7AIdoW2X1nV6yxdt1cwi7SE0hHoby2wXbBRIgfWGQJmKBg6tlLrzzWgfI/aEhk8mWlep1FAjyiwSCsQnn33JC/iOO5///45hK60kLoZelBsuU/wbRbQAAAJBBn7hFFSwr/wFR5Mh19w7jk15+9BykiiDHxjPVH14YQXtEgGxKb6GwACd11KUNuol/z7fmSyJXPC7BVFBliB1NBJFobmLdnZjjUcDVAtklfdFtpaZ57H5L5zzwMikYIq2gMRaRi1x3Qq5fyrzxOIywzwt4A4awVuixvUAl6xjV1TwNfuae7aVBJx+ZIf42B3UAAACUAZ/XdEJ/Aa3zd3OybtThZCZu++ogBMoAxFMVPmMajG+Alt0SK8QgWxzSQ9grBew+4RNahoTiag4rsQ/zxGANGRA0AEVsuw5VviNAH2ACZ6kGqFMobeZvhYyxNoUQR2HH9Rt8uqhq1hAKBBh5XXfU7XNBVMbr0doWETqDWJQRvaU32/jqpVNEazi7dt/grKygowBLwAAAAJABn9lqQn8Brni3dOhuQRcR0szb6M5vsON8rGdd8b/+IAWDTHqiGxwAY+A3lqNgf0uU7ZANxwpgZCtLNQgonVPRwUj3lVxMncma9VDtvA2S2K9TawRkou6U3pMpcv61vO1MDIvKxduBVplFU/xDLZ22/ob16AqNu4Yiom3rCJBGB+ISU1w+T0OmN7BO8TzAxYEAAAD8QZveSahBbJlMCG///qeEAAj3Te0c3lEywyHLovA2E2DsHbWAaGAWRXIb+At2+UHIW6mULNxzzgwVQUuNBZGaWnaifkpautji8gkOWjzSsSNkpnpXjalPiD27jK6JKLE+GVeUs6o70pC/bAVO0Bx4HT3dEs36+qPX3wu5Gm5n4NPcq4T3diEbTe/vUD3xxGdFFet5RuovnrURdxFhPn6CwLgQ8qAKJ8wXEm6N853lHd6mTODG9EnvZrCevHD1nCpkyVGE44PWFgYrRBY+Qi6IdUlf6vnPpy5QI3oH+QdgDrp4MwG+KlI9rMjY39TM2bn6oHZ5DkKVnZ1flAPWAAAAjkGf/EUVLCv/AVHkyHX3DtnU0bhp+r1E4Ci2+HiyYswj0ABCPQGhl9Mdz8pq8hEFcSuNNwbxIaNkUsIjFzjqFYf6ImGglKfi53LR7HqLAxCbYmA/U+Hi9kAgAuxbxy88wmB7PhXTAsJOJrgLKfdOTxEzMVjgoBhK3wkHqs41PsLODYedGg2Fyky+J2LfAb0AAACdAZ4bdEJ/Aa3zd3OybY13TYV5TmVlAWQ1gANXAAafrjFSL76y0UJSnhRa8u1ctwLx/HQoFwmL/hdeQ8C5Fki5WkIt4bINPwPx0R8CIvtogmPhttVTXvftVA9UI/rtTW/j5nMXR5RQRlTQmmEr+MrPBJC72mkEzWMBvS/gQ6/t2+xNkITgKqqdhNxO39k/osh7I98FnHpbNVCDbs8DAwAAAJkBnh1qQn8Brni3dOhivrE1aIOFQr2SQAjw/10t9rwIKl4ci9OriJvGVxVlEKvK2O9SqgbW78VbOEKmBc1tJha8+meRIVAYTK8kgGJaTOlzSbwPevof/1lqjeIBXybaOdS6RcV2PWL7FxZh63MxkijPPNO0kruwj1PkksUInVOuFQ1mSVdEKpWSr1iJTns/6swq4Pzxyo0gaEAAAADSQZoCSahBbJlMCG///qeEAAh3Te1EW79g984/C4hwlngAGrZh/nY6ylMGmbzz58yFAXAvKnETk++a68UN823WXZ+DLX6eRi+Fz8jxRReyAkDuPyjF3ypRRF6wcZAm/QHcf/Q3nJ2LXtQLq5OAVpqME7GSzbbdxEXSgGPtv6jtlVzfpDRhc/8hRrvT9tV3t19jhgFPEiVwFziNm2OOMMDgxidkQHGhfHv3DdeM3WxeodetFJDyah8NB6hMn26GbIBY/QO30PX8AcTVaGDfMlsvtLiAAAAAikGeIEUVLCv/AVHkyHX3Byh3sZQ3K0ALJDxxCDx2Ez2hOejDEFLQwEM+7kcWV1MBf0hPwQJ1YAnGaTrEzLRUPykR/TMaBhIFdmM3w//Wyvr8ot0zMlNBpCFW9YFGNRputnOwzqruqJBU0WV8aeY7JudFAN5QQCelWwmDnB5RSJUo/K0n1SM4g2DAgQAAAH0Bnl90Qn8BrfN3c7Hy3AP483uN4svL3Yg4d5P2AAnF3EraPijv7tpFqbF+9+giZ2ETUZNm9iLPNtIBAsXDPg8MG/FsUejcEMhEzxliqESXX45f8Unod5TfO78KSm2vWQ9PYOuC3GCkpRPxpR/PxXW95fm3ixyuFSTvMADjgAAAAKkBnkFqQn8Brni3dOfybtRrXtH8y7qAnLoa36C5lVnYJgfABcQocNdbKViz/RkQ63wzjZNXPOF0ETOdqdSFFNo5Hb1DLfpFl7xSiJwqhpYZtCcJ0fvkozH5YzdYJEb7YbwF/uyuX9FbSaevoPyddKreM6NXLAXKx/2MVyvWQzyK9z6DrOQo2+6Auehj5YZy7OBYi4qAueCojHVT+8C1kGNfGn45xqj/xArZAAAA8EGaRkmoQWyZTAhv//6nhAADY8J5NnkqVuEAjH0h6abBBmNLoAug2MYsD+F2gaHTDFU8wzoyeTMlriXKTWdAalXlt/vxb28dfJ0NoYZmRNZ5aKmdD17mOe+jbptOXNQ1bvZIbIYEx6GWmHY1a7gHuodHu/BK5gHAWMkd1pX59+fyBKNlrML+TO8Eh18prS3j74uZ/mirHhCxdMWwL9dZM3Eb0XYRyD0aMiNqiXUi/h3a7vJ/bO4qcamBmOFm1ascoNdjPTV/M09ybpv6SVdFARzw5QqYsd9P31Tk8M+0QLNfQB0UfoTtnin9Y5WIRvKykgAAAKVBnmRFFSwr/wFR5Mh19wcs8l6LdZsoWXdLqKgf/2BTSwIFTZXzNKaPHmix6rFU6Q2OtmcU4ABD89dR5RIzyliuaqhA015QlYu+9wjC+4a1bqBE1t78xfZ9navOHxLu7LtUL9AOV7qbHpnFd8VwS+y52lfxtGnOEDdXYgQKlnbf1dWJv8o+jtBILxKJWtk22UmzsFfQVOdEyt9wBawMrETzZLtYjYEAAACjAZ6DdEJ/Aa3zd3Ox8qs48iADhciBNSF6jxbZy14WzBgFcKfbIP99dCwCC0zz7YFvenE7xEgg8ua4u0/tv+gQoEjcsNJWqsWWqUL7BNnHHBdGe/ms5+QGm1hfdHDjIgUC8zO396eiPljkjt78hHqEX4BW8AGfcbuO4rW0vpVvRa62e4KyLmD16sO8YrWCtRc1p0gsstCJvUMSBB9lK3WpiKIGVQAAAIEBnoVqQn8Brni3dOfyt5bCMMcEwpo1fz3IJpOZL2tcDMw+2+bxlypu+AATUijKMHKqNXpW/SiWf52f/7Wh+Sz7o3Ie0hEiC38V1tLalEr40KMmka1YxOF0WdnuIeizugkqD4F3uweTNpl88VMKwDQmnWQgr3ubfWPATBT3O1rAO6EAAADXQZqKSahBbJlMCG///qeEAANPwnmSxDrdhz2Pj593YgBMMdQUg/GGCtFyUnJ40hKltQfhmiscpOz5+ABvxMovSfmyrsutpnhAyHs8QhU+Q/onxoAIJsOUBJQZ4gKUvncjL9TjTCroFuWRuYZrkpbIIEtzzewaXAaoPfF2i4x6XNXYTOhunNaD82KBCvqZ7uyHXc2LWUWLysVrWUOtMd419HjthrqJw7vXMfAcajmtZF0yEm9Xe+dv2HAqFcsFrci+PbmW8CuSOhuK72OEHT/KPtVK1mgAMCEAAACjQZ6oRRUsK/8BUeTIdfcHFUzqem8yhDYgACxZZhFfwLI20ivEB3DR5ebrLd+45MY4uM+In4s8B1bqToaIKjtRwDDmsHDCMGYDjdGyoqbWIbYseBIq51rx//iGxp5sSFdIWUKodjsvx/4mEcIB5/3JOSNxdR6NaW/BhoKYYmOSEW3J4DcV/VhcyAMvOLcP0mvvO/CC8r/G5qSDYziIf22XAw3h6QAAAIwBnsd0Qn8BrfN3c7Hy0yEbYzun/CDFqxWVBMRFwTkA51hcvP3XEl3HcpgSTCmobo8ANzAnclUBtSBISmo4BtRF08XpRo6MZKWGH72xJ4gHNn+zox54GZBJibIlHaJWwyk0hHxS3xH02KSTF/9ypwH5i6bddtbxM03eYLZvHI3KLo40cynb1W/lxZACmgAAAJEBnslqQn8Brni3dOfyuUVhFS+Ukguzjv/cK9Z8/u7OlbYrqyMGj42DwVeK/Pz5YOmfXIAWuJyqOvhP123d0yYHfxdeAV4ASlnP2vfjU2jWSkRqk7rIrDNVaA1ou21QW/a884ECgJJZshl5tm6UlPspy7/ncejx+SPqXn7VDnaNnbCkP3Ea6MgysBi/wVhaANWBAAAA9UGazkmoQWyZTAhv//6nhAABRw7N9+2oN6dwzGBMREABx6GKzY9BTJE/+RdcMkJYftz0dFKGUxGZF21TNk73dBswtlr/j7iDRgn6EnHFbAVvRhFLyMXlvAtPzpvf2hljuSpbwJxnrgh9a3TWG8YAeV5qff1wkgkP0sx6g6Ly+GY0h1w8kngQq2bEjKEtBCSV1alI4zV8AMO6D4EhESjK1jn3oo6eTmuF0tCaCFeANz+TL4sr6LowLYyTkw5037eWsZhrwDL3nTgnfsT3XdNmeMDIUCkxSlieLR798nNA++528eASsebboW2EN1BaEscAY8kgkczAAAAAqkGe7EUVLCv/AVHkyHX3BuuENlFUylfbIWSa7jgxzr+nUAI7y8X7SI8gLxe0NXfu46N+ig6/E7bYf/MQG//Kb4uLz+xuwGj0Z/rSC1i2o36/nhS8MDJg/Ayuia0f4ycuyysqfEWXn19xeENHN1Qp2i3gnmQSfn3KakvmB8Qj0TPA0qvIRuQHpq4tf7qtSuX8mq8j5kLwFSSoaI+ngPXWFjUubrn+BVAzfA44AAAAkwGfC3RCfwGt83dzse6R+gw0EaK5sIpSlRDP7AUMyjV6gZxSyQNi5pVD1phGzIQXPOWj31oDf0DOPfHSPx/bIFJcHWBTXuKzNGMb3f6GsS26oFEeZuDgEXNwM2sZ8LT1X0S9JOjDN0i8baysVWwROJD7ddZTd36jyQuz9kbZ062ZLRNWLqYS2xtmDbfF4llaoOjNwQAAAIYBnw1qQn8Brni3dOfurO6ZBcSYCrGSg5yhwzvZ/9VmMzwFYATV6fALASAAp8vzvd77VogeE5r5uZqa64O5kqkbhAd88/fRz82AfvDJsXqzD5UrfLIfA4GI1ETaZNsAca0Rxbke2J4C3kCuQEsKlaObiHaF7x4toOgw/g3xxLF9sEdvZ/gCLwAAAPFBmxJJqEFsmUwIZ//+nhAABP+ZdHol+WdzFw0AFs9bGal2P2CLQ/sPTpe08T5JaqfG5ZGxZMoaBbnjKtLrBFaFyspYNLrzdUY948uBbihODk+BYAtqqjN4wN+IReG+Dsy05D5cb4JD5tIJwTIrWkZBj7m4qGqLdBAd0yWf72w5p07t3AhmId0kLOjt1d4umGPLdxmK5eOuuS+7++RqmVJoOSavUU3K9JlJJsX8rFMKPd0ZQvpbNLi40iL0Jurl+kohwpHH8zuuYmRY0o7WT9hs7N3I9j5Ww3+2SQPVXxrCh6svGaP9gfElH0xEtgCnJQEnAAAA9kGfMEUVLCv/AVHkyHX3BuuENsXoR3oQY5cgBoFd4ZTApKiOGtzTCELz7f12HWf9ui0vGQaFRWWSwj9kPpl8hkUkPEHpV6d84sHabeWlHCHlUP04614PPei9nt1c+6JuFvgXtB0Z7I72pgPgrVb5SLqDZvF8rEyQyWQc6XUP7R9mHO21X3mgNNRXZpjuFcwejwwM/t8ZSPLLKGqspBoVezOFZXkSu2KkPs1XtlDzqnusX+3dB4ZVaLBA7S4upkhhJ3Y09lxvxppawldyLuFeaJD0gcuUS7w9io8dJq4bEr3GqOl/BP0MjdVXgyYXdw+fazzgS0hVwAAAAMUBn090Qn8BrfN3c7Hukfm01dKwr0SQ05ANLOfRWAobebmpX0F8tnLf7HNI3i+u+sJy90fYl4jufHqVVS0czzZXvs8GlWfBQaFlzzgQaKx6XpIV9izD0NjaT1KbMgg07Tg1jtzr92uNWEY7HWYAmjF5R6u9xW0wkW7l9MsKGt1p7KwopRZoOB6bq9R99j+uI2lWPOPeLcfasEYE1Wt3goCL48SyccAdj9DW7+/4J4fBRbLfiU3rSxs3K+zIfpx9lqZKQCh8wAAAAJcBn1FqQn8Brni3dOfurO1QF1hipEAOkQ+bRNnKFSnMYMGc/ywlAUG8yAXGGVOle71IzxPKbib3Ab9Tb+x2LfND5+rmImsmlGawXJLAPKtzxV4E+cR9P/Efaxy55hPk71Y4BvW8QG8fLh93K6KYI0bg9PPTJ1e6pF0J03Ui6Kk1LlCheB0p5bRAP3jDSXWaRQujioyiooI3AAAA8UGbVkmoQWyZTAhf//6MsAACM/E5OeMo0ZAYnYv6zkCq1MYA5BzcYu9QcdW//rMelhNq4M8A9Na/QKR+45LLAeUAMBpd1rjxTPi2/1x2EAh7v416/Ux/HfFflHf60oEmu3SUFkLbYe4R8PBWl5KMYPSewGlAroOeMmnakkgm7n4kG19vNiDkLz2VvuI3ic5oGpTyZlSRdbk+FWV1ehRQYPz0FnTqi01uQz45OHAPQsE2O8NWVZAb+iY7V6K1SIu1175J11RKBM2Hmejf2hwyRhNTtaXAb9dfb7JksUYyEZoGBczAuX7XxDfX7HPMU5KKOfMAAACHQZ90RRUsK/8BUeTIdfcG64PvbFCzSnD3LAP4R9cdLBx9H6LQALMheKYNV1PrVp1lZK4YYXw2hhOHoQhoVh7WEcm7/vv2CnCVTW1Z0B+yFyM0uZyvpWK8EPUczpgVxsr1/ZuyZt/uxzmf/jj/G3kUK7R8nH5mnB0l9OMQ87rjVsX1zuF/hwPSAAAApQGfk3RCfwGt83dzse6R59ty3qloQ6ZKjz9RPdcABn3fsGdXa2n2e8jFGGc8YCpuf4U5lMVvAiopGaIxuQFBvr4KVIN7l8P/AlJ9zzC04Cy5TcUIkz3XjqAqttLJtqkvGpss3sfR+NkAt8f7KnJ9Kvn8zKxdosgDG/Ly4pJatBFLQTUMwe4XWBC8D/iF8hTZP6/V8Bph8m3XQZPoowX5i4LF43gEXQAAAIkBn5VqQn8Brni3dOfurOEZvXvNMPdVD/CI0R6Ihu2xr3Uznycu+eR+gQAeXA/d/SAc8pAo/YaybsYHgW/nJag74fnMtqHq4n4R9zeUCcYZcsE+NMeTysox7DeYvSjF48o8Bkyzed/vc9jGlPiCpvkvabmBEFgQ34UMhEskOUz96pRl4SPCfQBxwAAAAUVBm5pJqEFsmUwIT//98QAAEm6JtZjHMJqhOQ4F7PqAK0YYRL6sxDJivLPgc/HYgWrah342FbgBdASxww6ysRHEih5kZzSu5LtRJv2OtJbu6xOebmr0NWDHV1yZfHeutb2h7xZi+kRZXKA3I9Df4lLFCjntfEWbsQKbFaLfq9sbkL+nRO7fnz+EHLO1twnpHVibUpkDdaLatWad3dMULrPC1UHdGJ/h5WBoNpaQ1etxDhJCzKz1fsCtPm4Xtn31EIcTlgIpluKURl5XbMtHXBOYwNoCbQOOg9fad5/eAhjwGfhB61rcfwblFj60sr485F2lSejn6HX3gDiVwEwPr84HjTqIHvTN5KLkFWIpsfKgv9XYhtJ4GzHTu2Y+EdRuHbSH2vYjkGkYccBjbV1dhHsnpLyyVOaM7LQBDbU+gGbuOBuVQAXdAAAAh0GfuEUVLCv/AVHkyHX3BuuD6cxFv/mXHJBDWM9MgBHGMr6ppQYReUVInfW0j7h1zylFX80tolPIPVvlQdQe9U1HPyD43saJaIzyDgdPyKcTS7ERHxfv14RkEAFDC7V8tQoQeGY2Op7oqsv89fQ63YJD34jxKBoDjBtHoc+IcjMMmf3myZEhGwAAAJMBn9d0Qn8BrfN3c7HukeZ6yqps00fe+opMkSRyNGNX6vhKQAEs3zXr+Qx5B8nr3G0HOpLHJpU2D1J340ftVp3SXcTY5kGLlVVv6wAEBtlEz3PEysonN8WO0hgvsJNO7nn2bcdwuh9k8h08fCxtWwly0xPFamkifCYKBJ93/WFG9IlCkNE7DcLfy2DzSRCEgY1jgXEAAACfAZ/ZakJ/Aa54t3Tn7qzhFBLCIDVIKXg87iDp3zXgACW4iFRHpxb9BHMRE/yrTnce33DlX0qu59EYlkYyZGgpwtPWV4Q0P/bbX9FgnOpJSprJksRriBXzHjhciUCGHK5sByCXbXAwSnRfMiOgGZgFiDhXtXc56I7ebwOAY1nICGHoYGGSscUHtgYGLxCiP+QmB2AoqowLj8yb3AYjjwu5AAABFkGb3EmoQWyZTBRMK//+OEAAAtUrj+zYAak3fhPJcDiw13Ii4RKSvaOiNSCkgCKqf5toyLiuk87TdstnqQvtGtgVy/fys4jrAB8RlCpMBnZPrsYDmVvnb3etrBxWbMXcnt8MfCvG+zmtTGFm/unDYoiyDgRgknE/QOIgAZsfwNin7DfD65RhZrOD0Bsx6zFB3OusJ4f3Acj0ciPXujDsyiEuC8w34iE3dMpR0JvDW9stYRb6a9Vq9fwzVzKFrudW25iXxMDk9hxSBIN3LRXKJuKHoAZoyP06JE/2CMHGqr9NYxJ1BqGnUsFawVAZnn1L47AuyNhVV8QD7WWClT80jYPt0vv7lSNs31TbZUMaVK4dk8iQ/8q2AAAAjgGf+2pCfwGuvdrr+pLShil7IxyBnVQkJaSZogBM74yAjWuTxsS+eMQDtC5v1NQyb7WN1tn0Ub9hN7+m9Y+6DsT3tkz6SMBtqpiJg5/CRBEHWbnqXivd+l5ZPXx2jmxfoDPaHmvCyupEvH/szXjX5EkgQJ+jOXaVsPSe1TzbgaiTooRDvHOG1twtzRQ0gj8AAAEvQZvgSeEKUmUwIV/+OEAAAtn9LCBtnzRsEYNC3sxtruLW4p9gM++yKbviK8auJd4CK+AnmDOG0pCrszeaNl2btO8UtHkE7KXqijMtnbaxxoGhYIMI6R7Rw3IpnN1TPqFgN/Lb+JZ0+ePMUDU/gwyvWr3C78PFvx1jmwm9Sniu5qLipsniHLPewGVF4jTi8VDB7KO6BE59GdP17YFFX9UX4joHRooAzKgcrH8pRHxPqT/xpuxVOG8YaB790TiRIxvgyU0q0s9cXFoMYHeJxfiqAN3+b4qqvxRwTMVw2nof55g32wohhENaz3E8PUG5BNbZNLmTkRufKilzU4+mLhc9uIb25QVIrS27geG9QQRTd+RlEMi2dv4P5NzKg32kg4tdfr5jmEpG3LRhVSV063dBAAAAtEGeHkU0TCv/AVHNiYr1iLPJc5R3AHp852+fFBhTM6g3LaTGH2UNwE/DAuCJuDrKAEtGYIUuZfCJoYBMWDhn/ZYbOVNRXoUNyg4tCFQBSrsAZL2uL42abLpcvSP0O8VtfY6kTO7zJdVmbwK3XKkzI/bC36uEsyTO+n7oOcS0pUKp3LHMw5Qhz32FaNaUFS+ZIidYOEJbr1ss/NLRSf7y0efn/6rvPeNigOy1MaUlc8bwawGDegAAAJABnj10Qn8BrfN3c7Hukd/1UdNeccx19xTzGiv/VZClzgBO2g9andkTl7PZbt5bWMHNUDu1YUrigXOx/kXcLXTAK2SozlN4Nmaem0Q6qUTDg1Ierm97RIuQ/dg4tkkKQKXA/kcV6oFulefDMPzI1DdOggVWdE3XiIsEptPMjQy9RnEVDhFkVxfPLplLsrAgBWwAAACjAZ4/akJ/Aa54t3Tn7qzconXsfH1hkVhjdcXUjXn+OzADbVNqIXRVeOSBnsRBVp60nLKwQCF95E/WIzQ2HQGYUHp3TupgoFH449o2XzjGaa4bdcQ0gjxo+g9EP08oRyPTHFrL+BqY38148LXUs+jTfWTiB92e5leDx/IaHSAINI+vVXfF6zlZwScR26VyNfmyxRRCV/esIJtaCS7wt9HJssARcQAAAShBmiRJqEFomUwIV//+OEAAAsfJ9oRMpGQWypABeWitHbbQ94XXrTipKwrTD3gM7vdHR9eC30sWchoHPOBMs5NVJkh7k3n4Mw/HDLJknKlsAD/jdT6r6Ls9Bl16V0X6FJXozlxsALKJQ04EfX7n8ayI3gAlPfi5I3+65j587SAE+qcZMn5WH4PGT3FWWmV1wlQp0BStJAKKZ93Ho7X8GvG0ifN/BPGdX4aTW/vNdgQaVrF92bAHfe4A1VVhNJNNC8jaYwqqKeKcFQq9+ft/wnTAU9WWFMv/clHR14SXcrlvfs+jBwqgmpRC+MUNm5e68rDMUirtj4kF3OgXc630l6dGBLxI50ApAzCIypDCoLyTM+SQoGKuV3gqtKSoz2WahWdQrClLpuwJGAAAAMJBnkJFESwr/wFR5Mh19wbrg+SxA2IReSE6sL+Z+gsARMdfJdXR4HJsleXiMPqUK+p8IcObkdrZplif1sprWZEVN5/9FjkwBveT6eoalmyVq+EwhkJInn7i9C32CG1/EsOHM7hQFWxWeOZKmhroluulSZf11T2m6lhY1yZ0Z14QiA9ePJmnRDy2WegmEn9IvCG2u0xnvhpAOyWNcIjyEwg3v5AmOfqSkAZl2pKrcNreArwWgydTxUNHq5vuewdOQu0CLwAAAL4BnmF0Qn8BrfN3c7HukeAjWdYxXSIARkQ+bUco6BLUropMchWFln9FNiiu6XHSv/bdxM4M+3iGvhTaRDDQWHcnxor0wNQPqf7BJv8ReyybllXIqR+nujJb4DXMSGSFG6h16t0MJD27X/af2M7ZzBG7UoSTRhfFMPCeXNqRIoX2NKn3f+CeANvK1vSa+NQgJzSkWjPGUhnRNkqXW1SLY8HH8yuPEH5g8/Hp9PIw+SwyGMsdZWDOdtY0KaPzvB/gAAAAvgGeY2pCfwGueLd05+6s3KJqXnMoPgBHaXeaDZgQB17rsTzOQlwa2vMWl5CodiX0I5EyJD+HUJZZIpRcrnIBvKI4MINdmkRRoHCtmL/NpoYCuQE/yCavjUXGhUIIhsYERxVUoUnPTZ2Kr8pT7bKxuA78RL5sgCxaWBiPqVzHWNjMADwwCBCnRFpRRmJ4wonPweEMeHsfx31JO30GufS8VDqVaK5iB3EsE+9OYSYKNd2s2s3nwvWMP30xWUiAl4EAAAGCQZpoSahBbJlMCFf//jhAAAE9iT/Qywe9RZxPnclZ/tKMmn/KRCt3AiwdN3E7N8sQ15cc6fVbkaAp/Es3WkHjpCE7/NZH8M7x7/PRz1+zF4QjYCi2Xv6U1771Ba2HdC/qe+Gdkkuzwnf/XqmMhnKpdEuCYjOT0AiBHHnFFB4oPLv3yNuFXpI8Lg9V373n+HcMF+e9gUlAfrZ6jOsl9HJc+xf8n+nS0i4cpGHfHNkHzyDuO0UBEYMxFlThgXUbH9aTXBhdxYwBbFfRXpSIWyDqesbE6CMyWV76+DZPY6kG65GH6ptwzj1PU5ulOKdYBcc2hoeWOBHUO86AB2ZftVex4zGUQoW+2T1abcp6ERf9YyTh+rvFUMalPSL1OzxpDWhwabdmgtmY+AfWoN6C8kbEFA3D8ZnQnk78wRr8r3b83DvE9qrh5xQKSpC2O2vcdu9f98HZWFXksqp6EYOLjNZjZQtVgH/PRsLormmlHVr3Ncd48jHSYjduDztk0gbo2vM+f4EAAADrQZ6GRRUsK/8BUeTIdfcG64PksQNiQMMvpD7Bzo0dfADOEhA+4qvv61C6hqZDmDwrUW/1Ju+iZ7hFsDPvcjmMuf4ziBITB5uJLabeX8sm7KHI/3dVqi504ICh2mlsQGZlB8WtvDUojv/reRbwW9SPW7vWp9ML76pPCYybZTrvNSHtKCHsECauTikuZ89tOCNso8eqlor3AMi6AlDYCoxwtTELjfLJi2FA0RcLNPfHu2GrwwNM7BUEThN91+sWE0hdU68NVhb5Ih/JVd2vmLeggxWbhnagHdcDpNQ7U4emQd0G/rgnedL/XpD0gQAAAM8BnqV0Qn8BrfN3c7HukeAjdkeq/0Vpso8AQfRFQP/2voMqyjP9hW6N2dLrV6jeCrRhQJdoIiwaRF/83qvZUvcknePY6xQhOaR6X7ISooBAeGlWtc7splA6Fnv4TLRb0Do5TgZxUrYYGbPh76SU8uPNIFcq137jIy0R4kC2dIOuNjxLD4ecVo/IhTDwoEVdRdZ0radmf+4qKWy+GXej5xSAtYZQXV6DKnc/SfVGaGOPZtNItR1cPKbNyIwcPDUnyFbG+7MVmWjZXOKd4P08CDkAAACsAZ6nakJ/Aa54t3Tn7qzcompefTpgAVuEaZWI4poTDuriESayf1nPhBsZg4bUMomUeGfd1LIZfSx2TDX6bndOLIMNchXzFj//udZpIAoLkFnXT4u1ntNdJaKYJ7BV5q5dWZqFPuMmRxyhzyr5jueu/N9VHveEI1FEbaMAGoHHGRBcv0xzM1dQlesrMkqynrMoGB8buFWzk/e1J/NDskqXNTSkOu83jKqegJAKSAAAAU1BmqxJqEFsmUwIV//+OEAAAT/2t59/5SXkQD3hr3CmgCt+cKlesq3DmPff7qlJYs4tvo1u4mcyBZgriUzqjvPQXC4rRMKUuna9v0kzHmAuuU7tJ6s8tMZAHrECKy3fLk3cyS8rERqG/K41v4ZDr3vzTPW9ZyfA7IASfcxnMOKwcGUqvtL40HpeOGAkosB/zkWcoQGw/NKTM7nH+l1MwymFCLLYRdFIbQ+13x/T5NFx17gShx2nsENUqXPxUrh1WPpWDqfZcYWY0SK0jfmTcGCZG3oEcFEerEb7lSctiRCIv0ybxz0Wt+ovfHAT90zA5LSLIvPMcOuwTk3+4ScO7prU3KFfXMe4KAM7QRfV66cd8QLxb7ZyWYNkYoCW6ZnX5WRwGx7kW26wPOjbG5UUeVsRNYV+DNCw0n3/HFIDnuDlo0Nbi+nQQwOg20ituQcAAAC0QZ7KRRUsK/8BUeTIdfcG64PksQNiEX8qDdo5NtxBQAUG1Dvbj7zJKZ888NQu9SbmyJj9LSjIsmv4wG/zfSAhyQQhI35PtCcjNsdslVEyG9V2LbzLaS/zu2qoiXWqGvS4mkRZlnrOvfPzyyMMsFfH4s1n5tTH29A+Hf6b8i1OUqK8dvfjs8hW/4qQ4FAGgYq0mPlmLlouo4CLHw1FTWPkSy4XHnN2IcsFmNZvjetmBsSlWgdNAAAAwAGe6XRCfwGt83dzse6R4CNaWiNuI64c3C8p0UuhhNhmno7zABX0ncnvvuCDayqxWS9qEaAsAJuJ94vhdoLxhr22ZKxCjsUA3f+8IrYWmc1l3qHh4/nivYuzcHh9AhdIYfXjXXDLhPBwbjB8B0tWmkA86x0wZR6lNrLpL+2dURB3xu0ayZXwxr4KEgXe9D9ymfw/6FUrVlvn9Yvw/tsqjKMsDtAIQ+u3lv1k/4eKJK7yxCYxvBPqrmut9WTn4WCXgAAAANgBnutqQn8Brni3dOfurNyiag644bP724GLU2ACO0/xOaQBwtjS04TJzmtLGpqGn/AeDhoulHUdo3METpLAXKKVs3Qasi6rn8aQAVMN9PooIM3tVlAb8UAR9CP5uXRqEuxTP99DFOoIwjdVtZu20Z6x70ri1TlHWnNnezGEjlnBb59U24a6jRKsRHocbDjkSVMk2rF3zNeKZAgwGRI3jVDhR6+DsTXRgRVE6z7wK48Mrp7rVQhz6mjhtDzGx62Zq70MU6n5JfcRHmsIwB+dzTUQKj9VMkg/Id0AAAFWQZrwSahBbJlMCFf//jhAAADz7/0uO2mbEAKbU+8gi4xjAcnU98I0wq/P8vJEu3+GoNeYsunpHIh1PqdtIxUZwO9q7yYuRAtMm9D25SSDaX3f+Kg7RDlECOrSu9SzNxIQudgYAJYm62GuilY5QFgagtn7OvqecIryldeFK8CBcmRX8CzleUcCPLFuamM4fixqRU42LD+3gjZay4bHwMKFP2OSNznZZ60gFXbBoes7oZGxqUZCCG/cluFohN/zHUGjmwIjY7Denjs+SV9YwWaYxFG7snewaq13TI4pPZD7sP6+gF66F8z+qsVARKGaQrI5w4Lq3SEf96FFdTrZQRomGhD+sFKmnLoD0Vj8sVra3RGSzMKw2hO+9frzOOXvcWCGSXlJn/2WkHdwEpQBstnVR5TKdFn6cjjgUuIjw2Uab2Z0Pc+l9yWIVEFbVdhwc6h6KLv3JDaBAAAAxEGfDkUVLCv/AVHkyHX3BuuD5LEDYhEjmUocjW2gAEdRtzozQzjTmRNl0ByfbZEhqdl3a1mHj3SkMEVbYflADnLvPp+qOTdgMlunyJwhXdu8CtcRm4VIX2hp9J7VfugjIaqXEr1bk153nuqdlaHW2zXIJ4jntH8z4gMI5/J/NMCwQHz55q2TkRTlfNfNXw197LnAQT923nIR6eljfMgFjxjE96M74fax6fjgaCfkElk+jkUfJwXoEbXN90Dq13/JW37GBgUAAACxAZ8tdEJ/Aa3zd3Ox7pHgI1mNecdRbKAFbyY6BtER8tJMLWReDStkLwqbPMDyODTz0omdihSkigQWW2KLE/D2fRbsRe81RgYGWBuZ/7/xfyY7O6x0E7Pu+Gun7BtuOnaOo9S2kWDx35MWksZIKVw6oZ4f5sXK2J+FK+f1VyS5hNmi4/+MgIP1LgRO1lBjKyCrdUBJxqLHwiuuUJvoXx1TkmfWUr9WqyRIngl7kpOK1cMDAAAAvQGfL2pCfwGueLd05+6s3KJqDra5MXowyAAriSGqQY4Q82OlwD7loeRMt75L/FSf2s2BT8HWZ8A9Qc5qeSVDqR/ifcsx/rBU/ZErAiGI0t9IkssMGoJf4DddcJvnCOyLG/OExVlUnOxVgA+6Y4irPlgEvVNbdyRaUaGXRMdI5ekRUzFqHHciBttqqG0WLrDxtbO5W59+fpNTcfLUQ8YXX7KM3hZV1aOrMFjyS3TSbY1BrVDBjw9ntpbUjrQgYAAAASZBmzRJqEFsmUwIV//+OEAAAHPPCXa4BQBSInZRY8lM3COp3y9QP7iVgZWyukgUI1lJEdyBr0UFCdXWO5RQ4JGLKP5IRKk76zzQ3Gum6J669H6rGV+RrCM/UWP72uvwvry/P02G7lQREL9pBMdKo5qvdnwvQmVEdRhB0MeyXvrEbynN4lRvcRgct8tBValx0H/NhwR//+okKfh/c4bRTku3ify8VnGjTcM1gTpWYqtXHfkpcfLL0Wvo2I2yuwBSO5WgrZWxlR3WSPmMTxBEyroQjs0Aqq+1Vt4nIdW44c4isK+62N5wWHnZbJvw+z8RQHDwGfiTDWeZZCg5N7ZQjByYt4PLmsGhWDaJrUMizaU87+t8DEDjX1EgVuLnWcN4cDAfd9Gw/8wAAAD2QZ9SRRUsK/8BUeTIdfcG64PksQNiESOZSZ2QN5i4qyAexKMlvrzSuRIKr5kX5/uyCddleiDW3iWsVWPhCQz1anNMZDHIm729SFLtKGC90GIvdjTXwLE4c1dgos52vRW0grBZ4A2/hXAH+JrBD8VGdAjQJn0V8/XzMxpKsV38O4Flu9FFPAN5LxSmuh3pEgfARFDe2tGChdYshVNe4Q6F6r2kf0f7vM7zRmsvqIC48yecO98XZDXV9nsoNfJ/Y9pINJoBDCN/P7QBn2ehWaOo2TmogQbxFKV+UDU3JPGQhmmOa/atxN8zCVtjPfjT/SS4iHsOWJ0fAAAArgGfcXRCfwGt83dzse6R4CNZjXD0K1Cks9gZh7APAxSAAtUoNwsV+WzfEZ0QsBXIXQf19OgYJodEvdPnpOxTh7THpkVVtiN2WIEZ97Y/oF97iAMDJ081AyxBa4aSxbTY4YTyHWJPsuw06+3VFfxpIJLHUNsrTGyrz3HQXexRgrvL7AZRaQwn1zno5XzmpzmBFezWKjzhhxXYpvAzIPzb4nxmUtXkKH+zjQmtfYZNqAAAALMBn3NqQn8Brni3dOfurNyiag60eCKGZJol+AZSWwBTLIzYejf7YBow3xIwA21TZKPLTJklZTaq6Zgw/eRqfmEZfqREkMM/BRhE3pEi0oHi+mPD3nCiW02BTjGEoTgJ/a9HyNzVJjKV1/Zjdtq4hzHBIrKcqxykGwe/geYZPOIic5mk8Z09em1KEiB0n2NiRpGgwhQd93ISGUH6OlPmjsY/3pYZT5Qh8txU5Gv6UhCPLxTUgAAAASpBm3hJqEFsmUwIV//+OEAAAGn3/pbsptF80dADbVyTYNpEUfRAnxUWI5DQWLmYmjieiPgfoF8GgDbP9IVDjQxW1VGfN3KGheQu4RsQTS/YHFTrzmbP06zdsQxfIgxtrkSsqNo8o3EXtruUvxE3/FtdYYlExhcJ1i+aTWi3KpqN6HVhCO55edyoI/CWsMzHIJ9KpDJcr2sYqF5LLp4fGU93D1pj0yGEN3OdJRzD2ryGX/8E7yNYDise0NesAmrbNfiorEQgAawFgLfeXOk+whtr6ipQOOsvFY/4d1GNwpebJxujaWRp4EcQ5JGR4isoyFDJTp+YHtAeP4UI/C8Pc6sHVerGwbQwJNBFoVglPPOabHAJt2soP1knzz+IBN2jeiFbrssynIF+yApJAAAA0UGflkUVLCv/AVHkyHX3BuuD5LEDYhEjmUmQtAMGnrmy1lvnhACtas3kDT1eeVvtVv/G+iffbSNVTN3g55vPW+TyaIBazizIgIBvLZ1vZ/cb2i8mBIOBpCIAf0EX9JTlx136Pl7bLLSJwrLfuW1LpTfov4O60V+ja4/WLYz+u7B/QC6DUUBKDVU0Pu/7hIDW5Th4us6FqAmhhwrEnm6ZFPp/QIFz4ZROd6leKHlVzAk1XP859pWtKrWJGom9Cmnaf1K0kwPHUltM4VSjMRrZ4DugAAAAtgGftXRCfwGt83dzse6R4CNZjXDSXo6cDFrVZvFoh0lefexgAR11gOo9Ax2Cwexyc5WdOSa1571cdnw9GshIU7DELrLeBT75wFyIoAaBYBOOwrHe0h9WTnQNBS+Jadqva3RGb+yym2h9WMaGUptUBtt4tS0tYWbPmKoTjRlVpTK472aMEnuvOw9paXam/KpVf6lqngi+b+gRVfqJcN690vOKpTjDKc7RRN13EmfW9peR0WUtABHxAAAAxgGft2pCfwGueLd05+6s3KJqDrR4Iv8noWxjtrgu3+QAir3FpEqFxpE2+Was/aV7t1ktTGSNKM5UcmZO23vL/6cJ/FSmF1nRWxc8yCy35cNbUVv+Zl+bZSM01xbuYAZRsaQDX0luGJCk1R2vj1p9nx9EW5HVXJFAkSjn7kOmZLq5EPyzo5ceaaMU1ISPKvQC6prK0qA1q0/a5hyvTvid7ntmf9YOqthCcC1NRYxogK8SfTsLEylHcTocw5E9UlW37EC7yACLgQAAAUVBm7xJqEFsmUwIV//+OEAAACw9zTW+uzc3Q2TUBN5zSSbe7mg+rknsSUjU4P1h5N9cQTuhs+JEhCTNXM+BxMVrM9i1c4u1U7kjqd3aiC2vRuWCQWCATohIthPTzlWlKQLoXeyjevV903QdN3ml4zWr64EOS+thVGkEzupc16E8BdyjkdJCpkjDY3t2KEisN3jIECBgldOHNWo/H7BeR78Ivp0Cz231EFJ27IyB2d+lzDNm/8YsimplDzgA3sMvY+KqAfSk29yxd8Cmi3VLcr6437z4dkyHJigSH4SJ2JSR+MfiVNj44qNMlj5K41AU44Oiz20LCdRHQUoRn7NwyW6cmUjWTS7ubXslZk73qdnxmQHmSvnsI7HWmZ9Oi2kc0+bO2G83hMqDlpG/813WqkSsk+xvWbRo+TEWNi7+Jkb0SGsY1XIXAAAA50Gf2kUVLCv/AVHkyHX3BuuD5LEDYhEjmUmZ80Bvj1gCDzJ0dvqJ3jE9k6Lxtp0/ibZWqqzcxZd+jdjhobPxlUtDZoIqwRU2qIEyglzTCCFlo+M9AqQawueNUJVDe5XDe/Gft98848Vuukxax+VcFv+Dy/Hfb0m/4rxhzhN1JJ5rbStyBXhC8d9QWJTMrEQVbhgzGy8fz9bPpC7adY+QeXU9ae/J796DKYuo/4yXMrc2PJsm185obf3EGacrsHaApIPYqDx1d9wZda30KmeetH6Tf2caBE38wbReyTWRHuha04wt/IBlQQAAAJ8Bn/l0Qn8BrfN3c7HukeAjWY1w0k+l/yZeAKsi7vvweR1h+6QP349CmctdCg8gG2n1qaVlQuxz8heZH2dSh8uH+Sf0I2tUCMRRczhh3jsjtP0/cg9d4wgUUUDHHp+26PDqBrGES0YEC30inV4tlpdogvL/meehckROYyylLKkYXCQZz7CQRC3bU3YJQ/IHB7wiuWeqcuKTSAjI81TsYEAAAADUAZ/7akJ/Aa54t3Tn7qzcomoOtHgfU/D6AG6xMzJskXJGFelYnUqbepe+VwLe+3NQ0NHpbLmRYPErKP6Rsmw1LZg78oRH/kd3GimRYdFXOhfIAISnz3zDAOssF8k8L84ZCHdA36hxZ8QE+PQ9/BTupvAYRCNE9POphiI4xWp91hEUH+3J+sFyQLi4TV1AXEvdJuGoQYn13ivsImWl7/lLOjjki8Y1dTQvllg1qdygMHk64klQmjYtdI94GFxjbbi8FwwiYHjY4DbQoK7sDhlzEJcAd0EAAAE4QZvgSahBbJlMCF///oywAAALtlOgAOCqCnU+/jBPipq/h0tA5nhbvtnHiNMyqMplDpMBzz4DxmghpLnGw+lkHf4IwRR7SnXbGx0EFvXR7/qhniZ26GPGF7p9FWAKMze1odhQnAQNZ9/i1JRToNw48EU6WeUBJm4J/mk5iqMG8bkHLJVDXt6EPwLZd83Dom/4fG7hjcQUNj6gNtSLkhQgU8j2hdqtXVcwGPs80xDcM7jV8Csi6TyyZ4L2xZLmxXAVMxweWM1vBGLUx50iQUjijtXTKa+GZ3B+Je8Y4FBMaKAGVHqmgZU5ZJ8pBBr0XuNdJ+IxOyjUGjDqAiywTLBVPtLJHAPklaruHzlMnrF8wHT7aIkvKHA62FscJwEgSaHECSCqr1VPRhcFZbFI6n2raC0rCXxV+lvTAAAA2EGeHkUVLCv/AVHkyHX3BuuD5LEDYhEjmUmZ8z/Vgl3756AFWa6TzSn4NTTuod8AOvFzt7NuXP/EHyti2EG+p2MG148/X4/mnNZJSO5n58wAFI73HdM75xXCnpV30tfBFdsmdGIA+0UnJuugE3eH54Z1SBuk16yj6ngVd1Csq6WVKRWnzQjDN63V2lJFXhQsU7JrcBiGgYUrizhb9t6z1R3gZLRZvDCiDxp3OMgDgOF7gXc2npcOvJQMrnZB4g3Q7HtDZv34nsCBW8gfHbfyTmhYy8RpWWAwIAAAAOoBnj10Qn8BrfN3c7HukeAjWY1w0kzBj/y6YAaA9Yf7E4nhQNFYotaBi4lquZeqW0CFSzfbjOdNrmsSz8R0ac69zt6V5LRCK392sV7HNA/XrjHMFi2uiTug/pzwHxI74AsXAo6DZXvvGB9TrL2692660TOte0GrpoftZm9MQJ97A5WSkAm7JSUxIt11iqe28HnX48JD8YXnLOtMhxxHtiERD1HZYR4NoOGrvw097OyVLdf/lzAGbbppFhGf7GwwhsphEHTQFiPFQKK/6CuYTLVjKilHGrVtTK4jJdfJXbo6ZBNkNL/3/RAsAxYAAADLAZ4/akJ/Aa54t3Tn7qzcomoOtHgfPsoFcWJw6LgAcFi/gR5o9B//79kfUyqYu4YRcq1K3gMHYpuInRpz0yjAAZiC7P250X2XYh7D0uxHLuk/Axb6Um6ecn3mpR2tYYoVPInLVgBO6HtRlgRXVunPNtXbxamjVd6gHe1U918novG09gCXEDbdAGlGPJCPkfwPdsIifMMajacFsRwMAHxv2X9BCDuO2tZRXkRhVYJ2cZL2fPhDCKyVGCvtJDSxd7wTH56sbcdKSZKAqYEAAAEYQZokSahBbJlMCFf//jhAAAAtntb1l72PrfRgCMC30Jn6Hl8wBClKWGFgc5OyklBJbWkzYbn8pt+WIRhySMsFZqV3GKX5WhXjAhwmLAHEAblKoIeh2gAx0VbAYVse9cNB3qAfUkTMfvM6OxIakc/puffTbmCAONtcv/lwgALzRmupMec06XwnAfX1Ct9b8nF70egoTylmgO+Z33BMIA1pOoIC4XntZeIXOmlLwwyNJ3Tq7QfqLdbex5Upa2WiC6ZhQlD8Gz1vapuH2So50WocAIjH0RgZKZsABKY9ibr8NBjm7d4SdtU4dcH38gu51hUUFFG8NqYR695kaouVEtAH1mksLM9p9nV0VpIQelH98XU5JiUmFEq8QAAAALlBnkJFFSwr/wFR5Mh19wbrg+SxA2IRI5lJmfNA70kwAiKxbR58W6ybq3MdCi68gPlOeb9Oe79UyZHsTbwmH5Qy3PzAWwZqyxUFHEo5oSnC9TS5BYuW+KhQHq86iluyz6X21dClHdWZWoSc/U4Ii4AlUWxljlhOdlilnzcM5DeNuyd2GNKCQlBJmwWY16G6wiv31qpMoK+kB5AizL2jPKAJHln0jXL+cO1F8Os8DlP/UR2YUQyXhiA44QAAALYBnmF0Qn8BrfN3c7HukeAjWY1w0k/J1o4oApYOUBQ3lHH6v6NBh9mC9+uX4NZffQchdZRc0zUkLZLaTgfj27zB7PsSU7/BR4crSCFATv2gt3KCO/leHBsUOOTSncaTc1qHgBmL/TWRZ3+Ql7S281dgu1Er+wG3GEEG0OKBeMzlqkKq3eTp0yf+9L+hFpGFvfnC3qp62VomRvSwy8fasXU4wP/rLKfNgJWnTmciviJmH19egADUgAAAAK0BnmNqQn8Brni3dOfurNyiag60eB9STdsNgRX8+05Kk88XmUdmtZRe3ChfpPN1NMaWvACNVJ9HvVyMmLFlHNGQG//omM8FDn1Tuh5+/Ka5UwwUyhJSWn1zUNut+0FDpk50hlGzpIwB0EZefxZ0hOqFhlbtCaRQitrWbs878NiXae6agAjuHGvrgnVGaF60PA5L9MKGpZId99LcSN/OrSL8jKoXjTM2AASZbAA9oQAAAXxBmmhJqEFsmUwIX//+jLAAAAvG+Pgi7QAAtFoprIpUBMzl8M7VS+0jma+4eQ2W3LJGoBE0F8shkJZOZy9cU8uxVfvbRXdJljB1KKiuIz37OkWCcJLUpXBm1OQKB7JiBke9zvd2UmkTgQZmzltAFvSdabyqv4sC66Ez7ZuTTNyYRClj7UvzVbAqCArhvSxD9wn5sUG0tQtrWV+qvglSe4BbybXki2K/C/UTM9HPYhAxlcBOUumMTUhULrsuzpIiqwCkbMDp0TWgwS0gRUxOlGm6ppDxXn7vHVlZPmZF+/nwjaRsjbNz4LVP6cZehMmsEPX7tVtHErAzbGaebCiIaRxLbNfF1aSxoveseEI47nJ81TbE52r9jmQ2ZTlxEbLKTiVSofqj4AK8CZiv+AH5ePkRkHyJFmrlP4UVr4+1RvaezlL3Vm5nBD58MaEgFhlnzjaxskT8nE7DBxFQykpi45y8St22wUZ9vIoqwQt6IS4my3VtFLImtUY3QiZb0wAAANlBnoZFFSwr/wFR5Mh19wbrg+SxA2IRI5lJkLPgKXFQty+tcX6pj9g+9CPokJG2H2TMQRYNVBgABYnHdKNJxZCSkxOCxWu+7VdHl7R9Q2FfQqV3AKurqfg+6ypm3bQgdzHAIawOvNKansgMNL66xAjUnuzoUKe4GCTqD3YU1wrmAjKbieNvX6uIO5YtQQVtJLyg+gTTj6NqsT+WnS8P+ScMlVTuElCCFu6lJnheMw3+40x9PBaRzS6oo5f/hPh0mU3Iy78HVVSVBgCs1NH2StkdkVFpxltggQKLAAAA0AGepXRCfwGt83dzse6R4CNZjXDSTMF5uIrX9mQAcWPgQkv2u55VzwiAtOCwVvWO46RWtE6ezKoNxdzsk483CT3pWpedSbyEJYCIcXNFwsM7PpFWoYg/7tnnavl/K5bEHsaeA8QknFb+FkPUEOhfzB8s+cHx4YKofnsr/lny06XTbNILLb13sroGGmMZOZU9uyxQsAcmLihqMuuZx0j/pgMwjLP48RUoi9IIzMpiajkBEwDgr++6jM9lmwLh2oEq8JYa04FY47cMzrfT8HaiImEAAADQAZ6nakJ/Aa54t3Tn7qzcomoOtHgfPtxffAApsAZEFy09onTiRLxD099OYncumuJZkOpkDMVV+VvM4j5ujeqwBCE2gpCyuLxHvoOAS7IW0CwsRVPWizonaS5dPG7AjBG7RlcHjd3F+rPu7Rccms6u/EzLYDAUOO10MSeTuRwz8+EO6ohcetF6fvSBUzD/SZFEKV3br9q4K80OXrZXc4QFBlGACw7ohT9WzDdIGYe6EYG02ihHn1Wqo2SkslQe8Y2fud+oEAZmPDjeY9XmsZiBZQAAARhBmqxJqEFsmUwIX//+jLAAAAyjsyABxfq4wmplpRnxfo7T0pL1aEssUjSZlz+YUsE9uS3pRDf+EauRA7xW0Tldctduz9kR+clKwrJMU3k9tyC4NLSaqo+J0rnO2nS/Dze1a/d5Ezb/dCF0uONQ7TfFfjz0xYpfGc365oBEZS24fCQNl821hJWlFsfKhbJMGeSjti4b7mexC2lh05tnPNj1z2QWQzAuA3cqS+tUmv/OaqrbOPatuD8DNyR/UfNLUHYY9zABeAlV52HMkjnJUMg5sjw2XmrBq0pBrpwqx8R7t037HASb/pD+MYy0GB+fyiVEUpUDI7yqV8Q91SABJ3wEuFBLlpXWVZWAYpRPQO6mX+l7tg1qatG4AAAAukGeykUVLCv/AVHkyHX3BuuD5LEDYhEjmUmQs+Ec2clIDGgFTbjilwBrnMWMHMx1yEnqTN5Uo/gWLaObqOLy5EkNmOgWbS2EKjIwkUkDIrX+3n7qnXWA53VrzrvSIAeA8vK99CzgTWLDolEzsaajQhIdhZKvszq958BvpYsc8qPvGZ7ibod9jsAHb2aMjmlS9o5d26be5QjBkMeJ2V4sYap2UcLlhDJd77fBbz2neEAJ/1r1Ld4FXDBSQQAAANYBnul0Qn8BrfN3c7HukeAjWY1w0k+mtvgMGnpUM/iJxxA7P5a5H8TISKIkcalDpP5Vt+ECMZIDVJ3hXddGxjsfYgIKJF8LxsmON8MRyKGQXvpQFfgvzISW4xj68hJYVTOUt1kPUWlu2QNTYK3J2JHVhqKazzCMWMdEK6EaaaztCSRIKArGmwb3NV/FypCHBNNAJOjb0Irf9Xu4PSAgxJYDBVLzwGm3rOi3dAbwWA+YJf/NJWCw8Xst2xGjrt9FT1khrZBGUjE54xljylZFSHAIOu6IeD/AAAAA0wGe62pCfwGueLd05+6s3KJqDrR4H1nX5h4A5h0yL5cGJB82ESDznvv/aCXTMNxcOW0oNV4Eg5pob7rwBQVHHfiN5fp22QvcHwEhqU3aevv0DxGG021dNW6QdVOOdXKGFKzjUCdo16dvIgv8l3hn28Moz453C9Q7JUlxQUGRQEMtQiuGSEoN5+qR+XmSdWO+UWWyA76y8vINsJOI+LmNFppkb8SrJqoa5IKzJyALBet70uu/2FZVXUBgao+oynTFMeVlR6NG9nw8mnIBW6HavGD8GfAAAADzQZrwSahBbJlMCG///qeEAAADAzvsqU3X1g5h7zc7tfv1uP3mtdHB33tFOgww74wNijoHy0XLpIo3+2zREXO1T+sk04CvJqr2sYgcc1K4b/Hu0Yh9wk+UIfiz75pBdbBckOE5+GUNXu+SlJLYJ7WmXaCNvUZMcd0cgz/e7p00m8rgBw8YOgkYOnRogJa2sRdUSa+wNXsBKofkSfPvaB1nnSOB+M5pQII1YjDvp/7ggw2OCmU1IXp+E/mid5mXYN7nDPuCwDvVcvG9KgyRS4h0AOBJynqSOVREyp1v4PTvZlc7fFIPJQC3z4vOxV3OwyJSRjwhAAAA1UGfDkUVLCv/AVHkyHX3BuuD5LEDYhEjmUmQs+EjuK5ooH3CKbev5r7XTqeYBp/PoAU7/OHntcEfwNOiXoUr/Es8bGAP+nBxZWrZYAQyOcW2b1N8nDEHpmyB8/eDkrSUl/B7Ddgg73QKvm/X9ynJVafkUdNibCIPmc5DNBnbCZvkOgK/ajCmEm10I7JgdPE2nmHB8un5A9KK305R/qRZbZe9IHwLXR93tTfoheU2x4fiQc7W0PFnn9Q58uFfFoTaytVdVZtSnTwo+X0J4dg40/aK4oWhvQAAAK4Bny10Qn8BrfN3c7HukeAjWY1w0k/n/XOiazffnyiyPnZ7yCffGAAfp+uI0uNH+Er/8d7pda3TQ43u3PR2LTAMP7jdx3Fa24Nc1ErYQdEZ96Qscf66htuGcAaxAEfwh66Xy7Tsp0WiYLqhHfod5uMEJk2xylBzdm6XmYUDYWtCAsZ66O6/Bu1KNEmmOWbOCk5+Q6RDVYcufQVSqnw6dz/am8THLEfDf7r7r4AmCJkAAACiAZ8vakJ/Aa54t3Tn7qzcomoOtHgfLvXegiwkW1x94KvoAPIuitMyK2jzOaq5Ga8CUffM39YzBu6DogbN1CLx8p6CkZUEcxJSfHYi3FP1V63babWrsEv5cQZYIiDqvMFc0tOzyJluceDDrz6LXbvWV6hG4qECd3m35Sn8ztmKP+bISB2GzlRiShlHOjbI/FBnjj8oetae9ERxmEvvX1P6YFJAAAABBkGbNEmoQWyZTAhn//6eEAAAAwP2LnuACH3YXOB99y94nwvtUtmU10T6ITv2HLiqv2MLcNVPHZv/9lg6UMZIFoiDVglOthsLyvnI+XR47VDxpc2FnqPTdFnojS/oy2Fe85mCe9U8OpRqF0ysl/NPa02UZVSqAhZF5aSgV1lJiJjszChupWF6yHX691uLjwXLQXbUQ1LCjTo0ckfWDL/aKOeqqdsF0bUuJ6x22SQSpVFqL9TwYkNpSs0xe5r/6+BXETFZExtmRr+JwvtlDSoAkIlf1m9d5V5UI64OQ0PPklSGPpNpJuDl9Uc2WFXclF3Amvc53yQghMdsTD8XyZCl42umyjsP1SIAAADwQZ9SRRUsK/8BUeTIdfcG64PksQNiESOZSZCz2a8+xQyuHg5s+iAAnQJYixAhUvvCVe7eZst7Ck+MQgprCi/aQWx8MV+gOlbFsINAi7TZVj6EPndG78Hv4vGam0FkIa0O6W/i9eRwDl6C2a+FfkhHW4l5KOZDT6GtsNB4XTx0Pda61flhZNNqxj6hIX1f+Sfalg+rU0/AXnFYIYuWbhUDXMsEzH+MmdJv4wyolifMOkHFy3jJwksVi3CBg8iuuKVWZ5UIDDfszLlI2JZUiqlbng/Unkwfje9FFoZ6FdRYjMF7ulTU+PmMWBsilvDVKQYFAAAAtAGfcXRCfwGt83dzse6R4CNZjXDSTzvfrZgeojbdzKiTPOh0MhVFzEUZkGfAC0AxVC5ztKjeF4PhKXyBLmr/vcHc+D0OWT/kFGOoPB81Lwi63+46qfYIEj4DMLwu2/EeKwniee8x68/GaTzJvefj0NgGFULDh4Hh/TDzkwGWvXkm/yYX4Yc+vvrdj1WKjZs2an/TB9WqFG0urqW6k1Kao2KoTy0BMkuafwIuaENS3+RcgYDUgAAAAKgBn3NqQn8Brni3dOfurNyiag60eB8u9d6AzM7VDgguirnkydLR4oLPzEBNYA6Q3krPruoaxqx/xYV8lL+nMMOj2BR4oMAAxYR4ulSpEusT8BjdgivSMR/J9rUhgIweycgmk3bsCxDn/5u1EYitg3tW/xgA4kt53wdd3db1nBFoXAUXLsjZjYRNAp0/5cQjWguC+tFUI0gOCFOZyPLj5awqgT4ZsMAARcAAAAE8QZt4SahBbJlMCF///oywAAAMA7MgAj3i/hI1HI/1dGpmnNTFyerIsdRhR1pObjP8132aSRly8B1QBvtGxjhLM65rFBU9g4imAJ+mkw3zurOh18RIu902OVq+K2rFhqJDp94sCd9orQWfZGqWNdaoaUoqADFjHQEi1+LM2r0Kl+HiVemzAEQIsWCtkEOnQlTE24gMChonmU6WaBTCXjne+vk6PSH0zPtPMbJ4r3/wDPJbfpfu1R/hfTwBDIm2FAAZXmpFRDAI36TRGjBroVhcWgtfk2/k3UIkHVxGawrtYMrqf/mDR83MxWuVM116XJ6xhdvJTDqfevtYVPOYJwc/O1CNtQlw832sv1fVcOUGG3wq7utxm+MK4c5zIR3VM2B/Lv/J/gZMejMlUhRA3zNL+//4/zw6qStP0cCtgQAAAM5Bn5ZFFSwr/wFR5Mh19wbrg+SxA2IRI5lJkLPgeSJmaNcji8fZ2sWwA38iT7ylPfH8EwM+8n1oRjEloVR6s25+kAz/Jdp5Cs5qcAte78u1ZM+aQIKqPt1BtmKAuTXD0mGb6Y7fYSSe6GuAWcgFeofkfbGZa0xu6HW26nybl43gM4mZjQcmb709Kx7xR+GQXHPK/reB7bl2z2iRr7x2sWNV8CWaQkIjMkuJ7Gk9dEPAt7AFfJQn3EpYcJbUW6DzcymrBFMRTJPR2d7pgh4MWAAAALQBn7V0Qn8BrfN3c7HukeAjWY1w0k98FNE0n35gN9ACwy2fd1+M25G19PefuO0N/VfdvEW6IRtJeLS1bYrB4vQT+HHLn3IX8vtD5/LW9vys3PPCTaxztYNxE2CFXLNoCjf5TG4ktX51VvuXgqAw0mxsIaD2Uv0DWfqkTRYU6W5FX6QHtgo7V+Zuj/aAMM/kIz7JVqiJnj3zBPsMYyTi4RQznigAZsz+z1V5EFGCJqWLDhPOAa0AAAC+AZ+3akJ/Aa54t3Tn7qzcomoOtHgfR9WQkwAdI6T6PetbPECPVihMeGegpaxzBrYHUp6OqBdcljQBdasA/Vc2geAA+M6GuRI/WXWtZDBbZWGZPUgm8r0kQ5tn54FNUbiCjsk+2rG9BC+xg5Z1XC+VQQcv3lB877bvXUWYIosT0jccJdpwSH/4TjsLIgklOCST6TbKU2hj/q6vHs9jn01YSOdEblnJLU9B/UF+7PggynnbWNA8qTbpsCVNbAAkYQAAATpBm7xJqEFsmUwIb//+p4QAAAMDE+yn4Lja5Aa6PnCCtQAdcyLxpZ68C/Q9x7pfp2zlkDEThbfkGL/TLVGse13qG7K7qC4nSuWURDj81JPp17zokI5jVLNSOttOLZqGkr08yP6XwNBGo+I2MVE/L+dyzmdDWoPF/2Nya2iVFdGl9hwKxXUgDkWZjQ6VeLl2VryVHhYl0YtXkfoJrEwbtL4U8VZ1DhT6P6Lq38lUdg1P4XAtHMUFNrDPZMesgNZH+GzXGteY/Jyl402pcGsgaVMKHWF8PpSydV51MsP2fYSXSU60B8S9c9fcNZpG1sKXWe3UdlR8D8JEXMiOdJ+DL3fi62NSNXlzowfRaIvD6HOF2gkWwCaY3Efx89hszU8Cg3bewHM60NxuJUUcySWCdcNDVFej8uzcudjUgAAAAKBBn9pFFSwr/wFR5Mh19wbrg+SxA2IRI5lJkLPggVqS+CScp0PBDqOaiKt5QgBbfeVo5m+MU4mEM10c+VsH8aJWX9hQh84T5iiI6DGCL+d103pUtsinHKC+VBS3BroKr9VmMjiIWIJTnAZwtJJeaT5uXRY+vlxELKm8LXX6ISsho8AkBLfP6aBWHKlNb+j5zxyHdk1O/3svrPMQOh9ooCXhAAAAogGf+XRCfwGt83dzse6R4CNZjXDST6ChgAAz7xcWOfUAtUY1aAa8EiXzsi12gE9Jrr8qUs2P4ONM6PYNyIG1K25Z7pkDvrwjnzNQrJq/d+qDNVgJEY2puR1OH7qZ6sGoAB+JJErCFgoGKwpCeuWOmFsi56IkbWbjW2zofsKPM24GUuNRx604NOMugKSHcozfAylmfT9CGmLd1YEWMWxJI6MMaAAAAKwBn/tqQn8Brni3dOfurNyiag60eB8u9d6TwOXQ4oe0D4QAcHMrgfvOTAT+prrjV+SA2UHbCHIC2JMQ0yzeoxXjuH7ke55p77yhiEQAa+C6glaAXCO3RiXgm/NWqZRBNL7ckodfay8DApctM5ATppEJfFXearXz94PJa/5NY6gWHP/XrXKSvZ94i+Ikldw66E2P9N7TAnk1d8X0AglQPWn38tFqlWcQF+SZtAGXAAAA6EGb4EmoQWyZTAhv//6nhAAAAwEtM3uAFuY1bRsP20iYF/+KtPgbboBiyuY9TcUgHEiUwXtg5C7GInOKxZ3DhN4BGrZrCg47z7g2IxLG2vfQZX5I3fCg8wckvH4ugAxO2XagyVUN32k0/1pGsQkU50+CqkWd/AtZvQuAq6fQpEkaOAJJNf7b6ZJronD12BnmixQdS2zyouwASOzbJMY9NqRLQyuwZnNjjBhmtC9qtg+UpyvjkywxU5Nkqp6Nn7si86XOGI6Qb56wTobS0ltMX+/fPPQaqrl+doa9OUJ4XCbZLNo3crHmDukAAAC8QZ4eRRUsK/8BUeTIdfcG64PksQNiESOZSZCz2a8+x1W3zOmQ0VOIAIwLgzAfOfAksV5ezydrynfJlZZ1pXQfFqRxpeQH4tHDkPFPZVHQqznYchmVP/K2NfxN0aZQeKtwUxNIf/bN2fO+M2UFVPs/tt3i6SRMfd/isKk80rQhjdaAu3rGAVx+/61U5NFjSNytwyMESnx0uNKOgd22R4U/VXNkFxg/Pz9R2QKHuIsGClGyQ38P8c6Ke62QQ8AAAADGAZ49dEJ/Aa3zd3Ox7pHgI1mNcNJPO9+uHz1WK8AHA/a1lodNsUie2RcxjHDac50iX0MdeuXFSGAM1eoO6jArllWUisM4wi1rcVuW4bKZmEmWuZUjohOAkKLDVphBJepIC8/ZRUYdGj+3WNZI8eiPZA2eCAqzTr+wa3GN1H8ZBKuZ38Qq4n9z8aFHjX85IFDJe8F4lHl0kO5IiZuTywZXOHDl/n0PQKgNy8t2pIoILTTiWlt3nnRRr/XdOPCfs0VGEKvtoNSAAAAAwgGeP2pCfwGueLd05+6s3KJqDrR4Hy713rPdzugCbokod3EzwRE4T/w6YlZsX3e/G9yn2HnCwYsm8zGiIfoJ3VyockFL8h7BSpBnQLIBjcYSkv7AZdM+wV85kxkjf+LYWci3/aFc0FTSl6VvuzTPPTP9pJgblIjheZoqra1jSHjqKZ1iciHaQJmnV/XgbgZrtTBT7qRX10OZLIoTAzlDa4GraHayGoRtDZ3XTmi0vgSDJwRgwPFoCK3abIpS8xy2AQf5AAABK0GaJEmoQWyZTAhv//6nhAAAAwEu+Rpf9K4AEYMg0tSNEYsWUkSplej2UD1SYqOfplgAav/aPFX4v3h35YxvovyZurRgmpgHO59aCnQsutrCa22dnr+uERvwwkD505RGeZPILXKJDqmvU+RsmgP/K457L8r3tGcs8siy3CusI3hzrPjItVlfcCq3h8qnYpLoiJJYgsfmdKWjh4jwkY1jLergXtCLOI8oOC+t500+lsBM0ALwe0Xo3rx0I9GjANdPU6vVjUH4f3lIIlDxwLxZjE+OJnR0wIIESoqCwuJTroxaTdJS7xNMv9TWNG9qpIxniD3wuZVXKvyNRZ61xtqcO5rs6awa1VosH0/fQmNeOwZc51d/W8TJyg6XIGEKmOgYYz1cFzANe8fPDJWAAAAAvUGeQkUVLCv/AVHkyHX3BuuD5LEDYhEjmUmQs9mvPseQPwmV3e7KzWTECn5s3lVbAIR5wLWzot+5ai+EXnHSmB12XRjPl9Aw8mqAwHYTuCl9Y4wdVnWQcMl/i3XphBrjckvWyStsKEKikqKtDcFc0rJuGRYsvMjfor7wrElBIwUd7/9//tvwXGVbne1PNdmi8XGXqs6NyG8GsGX/DAZFELH4yBdjnewioRlUDckwZHjXPXF97tO4tQUbVSOIOQAAAMcBnmF0Qn8BrfN3c7HukeAjWY1w0k87368kpYr6eIgA2eozQNPSsDDiOXwi6MKWRtZ89ROQSoD0emO4IMvrKk9lYloMmaEZIHyhnE8653qPXUS/nDb1n1vAdKSsLE3qcbqnRT79PVn6Rmb5jz4xj9kqOI6v1GHXhVoBKlyjnnQqXe9HOn/rYt5+uPLd89UmPVtJZuDA62dylY1uj07//WXCodHxICz7TFffPvWnd0xb+Is5nK9SNK2npakMj7Joa9OKqmVEtwyoAAAAsQGeY2pCfwGueLd05+6s3KJqDrR4Hy713pPapaQAOATtFvYIP5jYKKnwbUNqVtxZXSk/Mo9NDzsQg2xbiCRHbddRffUROLx50TNUPHzxmutQuqjiiv50Vd2/3gFWjD3gjHm7ZztY3tJwz22AuJB4W2cAfS/Btfr5SkhJHL1LK+Veb7UjINzagG54Bes7Cu0fDttSTNs/bdDkcD543RaT3xcJZ0gQ5KLgylVtIRlNU6hxwQAAANRBmmhJqEFsmUwIb//+p4QAAAMBNTN7gBbmMrTdCZxcsoxnu2nwN4XdiIr54L3AEi0A2e9sK7lFZsn638BGIhCIRfa9ClKgt0NdnG2Fr6Rm8lr6B9qkAkqJLn1jGsWHlYdzX9aNdwbly7m6RPOzVG/Naj3KxMThmOvg+A9CiBX0PGmmkyiX47/0ZpZsp88hBAvfH7b4sVjQTNPNWO9T6RdgYdR0+xGZDx/GIdkm6rHwzc47DDGmj4GSo8CZviQcLqxm8K9a5tRTH71TtpFYcRKFN8Vf3QAAAKRBnoZFFSwr/wFR5Mh19wbrg+SxA2IRI5lJkLPZrz8AcY3Q+kzCjM/VqHLeBg//nwQAEeWVXmc8LgnsP/9MHM47SbtpsnXJYQLSndF6thRy0mszosflscV8RM5x9d8KcYbrzjJjIMC/Uxm1LsgY3OhO/FnvavGkkiK9tFRoujvKmlU9QqJWVSOT3CKubFjAAlVZSAMZwtr7/g4DD6guDg/MX44CVwAAAK0BnqV0Qn8BrfN3c7HukeAjWY1w0k8735lEeG0AIe1f64JlFx2JdtzZzuD9gyxyexF489n1ZODS37PvtZIKbgM5i3OVz9APUpQveaWa8yM/ZMdBSVo88EIMCN7CtAFG3k/H7rBYDSp6Zm/OIw5UvLvIvHbmWINAK10NHjjUBZpD+T274SOaZvf98m+sSgomzuXQax3t+6I+shBkCB/LV1MqdI0r3nj6rSAF42GA/wAAAMEBnqdqQn8Brni3dOfurNyiag60eB8u9dw5qYtlnwfMMALBOYHA6ukMiTsGmGRmsMwiCTtxhoh2tP00GRQdG0kT7X17Btiz41j0XF64q49wvlMwIV9qaeaa6Eb9ZJyI/4MPTOFVodASfU0/ihSJDZwRh7no+2EHirjwr0imKyKxO+G/pQkG9AsR6HxnYKcFAPAAWckaXxm7SuAmrp6TqusvEgEEaYaARdxcyLo4O8byEtpN2kW9PR/vJqV8JXoLbIP8AAAA30GarEmoQWyZTAhv//6nhAAAAwE2+RtPidAwA3QE9z7B4WASRAxqGpw6z7Nbmpf+WTXw0IPnC6Qop0c/SBtqDi3gpcT8/ojz4BnRnEUqaZcJYPgA9EktmT3COucphqg5YnXTOJfpVlqOYI5f5v+RyE0WlQ1zQTaeZzKIbnEKCDMRccfTlnO/kw/0++9g12H9maZfF3p9Ho1uIpigw1eUgfUSQlnpnp6Os6dWp5DvaDhW4tAgH/0PxJ+KDy5gvFjVSrUyVehSjSALsURmEi+72QeFud9Cy2hI1Oq4ulZ5JOAAAACiQZ7KRRUsK/8BUeTIdfcG64PksQNiESOZSZCz2a8+6+Vht9Ycld01WDUdBPHQBuiBNXPHVN8gCgqTpLFnZIyk1ak1IwbhCooLSTj6gz8+b4DW9fFADpzQR8MLw34UBVwEi+Hk6w16qhFj+CYTBvT+COzAApFVWHuyssHuaUVEV9OVh3G1WvH6B6zgFZiU4u6s/26/zXREXbJ94aeT+qF4iA2ZAAAAcQGe6XRCfwGt83dzse6R4CNZjXDSTzvfrfuWIF4XFXIbOyFPRgBXEszwt50IZ77NamEdAzzc4zVivIb9gvX1LWdCHTp2PNf+c0R/YCy48VmOAJB2dYe8bbPTXwRhYGg1mPAv9KzFPHHYqyTRu8azqhVQAAAAkAGe62pCfwGueLd05+6s3KJqDrR4Hy71rpPD0uEAHFa+brF+1iD0tnQoMoKyVjorMd/Ga8+82RmeR22z2Cb/TUk/bEWi0RPSHNf6sQIZAQx/dxR2zMlefiqxz6+qXRZiqzuoRdC2pZLUHhfLNuVOlODu9VZ4pWKGax0k78QZ+/cjepSFqPB0NHjtNANstj+OOAAAAQZBmvBJqEFsmUwIb//+p4QAAAMBNS+bgCt+gVQqMLnEv6Af/vzmeZp5gcfgmxuKILYZUG6z2fv9gzS/HnCftB6lZ2zTYu1PCCszqriJxsquteqJDo4zmCayEJ7lu/nsNvUIJHoFfe04n/V86j8nev9OXzMBh0yVkaKRzA2jnUbGzu4eVekw5RZrpx8FtpCvG4rSuEgbgwnFU9hlZyOnfToMVvTcUc67lsCHK/xik/0SFF/3A5FZqSYpHkUiZRY2/1weEZUk1kMs77UjBUxu4UyogNmlPMC/vR1Wk76XelkahueiBj2RoRahO+Q8EBr+7soje5hDoDe4a027AjmDisE2dgp+eDZhAAAArkGfDkUVLCv/AVHkyHX3BuuD5LEDYhEjmUmQs9mvPt2OZD/ZFoZ4oAIdsDk8yuxwQzKhGk+qOwxyOcu2E5/Zk8/oqdnaWjmhLmOXycpt8vmCIyqA1dAz/bPI++1Mo/NyaF/hschSF0FbKLVjVE1l5XGlAqDEMnAt2IIN/1ZYc6P4CSkYQoQgiIz8rq4bcQfTr9gKzjl8V+7+CfiwvJUCxwM5wD9WigVGJnocmwCBgQAAALcBny10Qn8BrfN3c7HukeAjWY1w0k87JsE+fs3ZFoOwgAQ7Cg5JTO948pK8+1l10BHTIHMqRtap/cubMlc1lfiPJ6+LikztmaveFzXKsKYuUoF0v2hcWVzoz0PgQTEd3kkwHLIBx7QWCczCcKvHUORbsuSWIf+VluwcVpfaRje1JBeD0v02hGURWItNEd/VleQlSHme4ME9d7ImukXxR2VIoSbRMjI343xGbp2BLi/wEivZq5b+RO0AAAC8AZ8vakJ/Aa54t3Tn7qzcomoOtHgfLomjlP/SAQquW4SJ60M65gVUTzPQ4s6dw3yAsOuH6Y1nIuzABLG6/k6/NmMyAxettR5ZRA0BqlZsWqRaI1cwvjgbjUOkqrzgVQrkZxqYoTAlCliMnYhQoGjRmBRb3HL0peZ3IxUrntuA/vwH/oakDipRIj4+7LzixE7aRlJ/kkm4qdqJhW59kNPacd1mIgQtSEnXbi4RBI5hHFlm1tIOXgSPOsfCYQ8AAAFMQZs0SahBbJlMCG///qeEAAADATb5GreFdh52NLnf5A3dvADseOQ+2AbSMSaLlWmAFyPGRN682LtejkFjmbKmW5v7I2Mxbwp0OztUmMyArMgvIH7anTLlR5l96B9uoRY7NimO9wq5jZDJwfuUtI75w1cxIDJEt4rCRE5gNtMm6eZtNtn0m+FDJEjKStehmIheiO/lmhnwqvPSUKHN6yuhu7p+piySdUZRPFb1Gq6tecLj1AZudvb89eAlOTV1oiI9zwuD4PVgQFBxN9/hBvUImzDHxBAmFCpGawB3TIgROU+YLDVBUDRMvxeGcB7S954F1hVUVgH4/a/Vhmg3Hm+epC1v+kgHfEMDVQQRnbHdQ4/4olibGPfS2M2vhlwFaS6vzNevcBbxR6BQD9Vq+e7Kgs58M/epu80AuC836qm2h7Pdtk+VW41vPLzWgpIAAACkQZ9SRRUsK/8BUeTIdfcG64PksQNiESOZSZCz1fxX3yWJ7JI4vWz2VV+/nP9VZchA8o0WM2T3PYMZjnsQ/fa3+1B5J7KTyz0aqNCopbzzy5+VVZk8TSOBKpGAjdfSY1+fCbxfxjESZaz9Gw5Y9oWIEOWveHTiP4NnPAl8mGzH4Sdjp9cocPVPaP1u7FJh3Gwham9BaIYyUJuiV+pJko5BcLqYEXEAAAClAZ9xdEJ/Aa3zd3Ox7pHgI1mNcNJOJV9kDDmgGr4+A17ZcfReNdFXRisgCva5nY85i8a3HqP3bRVi652mB7RsZmEYoFmQ+1hYG6UHiT4CK1ShBMKV9u7fwXVbgU6rVsZkKn5rS6ts96ZruRmBPLli1sT+hqhUtAsss9tHwrkrGLOy3YZyzkuc0ePaVz8m7Dwzkmgj2bBedAe/3XOJ85r/f3BLdw34AAAAcgGfc2pCfwGueLd05+6s3KJqDrR4HuVTw6pMDaBADbQwYw8mEjSEaj5+O369w17eA7fWsIrGAMQVUz30vsPqwl41pcx/dxrfvWoq0PWFmnwm4HTwdvUhAwsPsaZ/i6WBeJYsf/HVfWAL0xNIKipOHkFj1gAAAP9Bm3hJqEFsmUwIb//+p4QAAAMA/vCZ1On7pGvbYMK9aX3wxQdPS3StHmOKeAOif940CUdXXp0RmcoQU/6PPW4cYdngC1gKCU3dwrn/euw86bIu62Kbj3J/2zWmSeQQaaB6CJZilYj7PAgYzZ/4BWALouSEJFZks4YxYLJMNRa/9Ru8tViHzYR0c/vsyRUsmcz0EhAHdZVBungO58nP0MT3zdRxuZTYTw22inlcGBeAGSqUq58gR9GcQ+4+smsT5AjwqUys1gOaN/IIRYZsoVNmhgjXpoU/TqCAG2uOXEM5REyGDbT3aQ69w7hMPUOCZRqHclkHmR2vHP2l+DHBfMEAAACdQZ+WRRUsK/8BUeTIdfcG64PksQNiESOZSZCz1VfmAo8hRac/keEt/R2F490An7M0zWjvZIBT0DgBbM8fGOF/r9qMWMWz5cDeK8r8bEUCBPJeakmiNLLNixTgphgPa72L/TuOiKqcMJp8BFbWYRVyF8E6fMOW71FAeQjHT4DsTH2V/OUnzCTqbs07AfTkPmFaXjPP+enl/SRB91Af4AAAAG0Bn7V0Qn8BrfN3c7HukeAjWY1w0k34970h8L0Uum7thbLB7CV82ORim3EXD6YQzO6/W+HwY6rqADbVM88ra2yKqt392Ba3n6UfZj6lLXKxeuUkpuWv2dcMqNDe5VVQotUBMx2ghS3xAocMNGpBAAAAfAGft2pCfwGueLd05+6s3KJqDrR4Ht48W1Uz6jF2bCwKkaEQ7AAAuo0Cz7aDUdR9OfR+4fi4YGPPaB8VByjjrR3tNOL3RUXIQHCkbjbeSsyRtTa7Eha4WmoCHArmXu2TAHy9/+Q1zRAG07v0DhjOOergY7hO0imWIZRbGBEAAAEtQZu8SahBbJlMCG///qeEAAADAGT178iDADgBCCH6Liuy2blQCSa/Ze5o+0OlKjMBpMAiFKYl8UNI0CT9hiQGGYWARuuqE1t8k7jdZ0uMVfh095PhzE27Zn8zuxp5zhAQNeNIV64e1LximKjC9ct1PUm5IpNolXemA49f9dZacGno/oYXUYB77X7q88wan1UNDt7UQSEqzp1OEt6rKQzi/yCwPzs8BL4FcMXdhe/r2l6odjdB8Tj61VeTdOqoX6KtGmVa6y7I3YVqleuZAk77yuXFUhoIbstsIBgrRI9AANHNKmm8GFLqddSnr8opqPt3bZo3i1S1WXhHJhudaWwjcOyCtYU8P5uJeOJnZNSrET+oIJFoVhCvdF3NMnUwEuNjJQTrvJjTI4Xhtq1KGAAAALNBn9pFFSwr/wFR5Mh19wbrg+SxA2IRI5lJkLPVV+YCsKp8f+B4dYWBON5GuCyJe4UxcZ54AQh/8fiB820Vi5N2KH/NgKkWy1yFWn1naJqBBc15XbdfvJ/Fw1VvngAB7/7Q6rMyG39tMvlmDRbKuBub/KdoeOD8wjYJWxa3BJryxbDo3bvuyBGks+3kZ0mxdzmgI3RVSc4kOB8VNi5iprs/yBwMFXWLeylAT+S8jcJH3gAqYQAAAIEBn/l0Qn8BrfN3c7HukeAjWY1w0k34970wu/B98bRQTqAD8gx/2dk8yQ5zFvuLfLaU/MJvXj1FoYvoRswyyWUWOhsYctusNjvEE5diNdNd9m9wP0EYiR3u8w4914c57HlHw8ZN7WeoEcRZir/+4L1y/dwCkgTQmzY1Ghl9HBoAb0AAAAB6AZ/7akJ/Aa54t3Tn7qzcomoOtHge3jxbVjVZErNdKxEWiEjgKHpP8/90gBCmoYgBj0tm+ND0PY3tPvEEDzsDeda+v9e9rGyyhejIx6q1ufAip31DP36yio0dPEi5jcSr3YKSIiPWAeg9IBl4Zup76aVtCe/VTkM8gZ8AAAFrQZvgSahBbJlMCG///qeEAAADAG5jw6ABOr1CE731NHwg0dhPI8pftfWvCS22zC/eU5adrXDYfQ4MZciXceAhLNjsJpj2X2m8y9eUirh1CzI85eeySjtaIjPIVdgz9UnftCNYTnhSuJMx+iTnI2dCtewLauxV6TvQEl4ySoWEIC3TiqBSUOzsfuLR+GFqDvifNzjVNvRZbsGR4e4dYTnhTgUTnD0TAkYz9rTaqqXvzTkeFuHbHmqF4W68QWRbw8IJ6YyiUMDM6RdAZyy20TQKjK5TAp2V8VurKJmdfjsh1Ulcg59xDeCIiggnMH3/L+xGVtlyZhjVLiNJAHaaNNnOLaJmQ/tdXN6IcDyBzX+cXwohApKOGbXrf3tl1CHAOsUk94gbeP/jlB0hSBphq/xYroKs0FpGhBw4v4srmpAECwUXQJpppy70MSwd9VQvdANhOU9wJdpqfBYjNZ6vyR2k6dzC54tQeDFxedSdAAAA4UGeHkUVLCv/AVHkyHX3BuuD5LEDYhEjmUmQs9VX5gMCHFf/Zw4AVKh2fl2U0lcArR5BgfQgGNjmb+8DnIQO5qClnRR3GeC9NfEYkJ9Ad2dp6F3wmBoS9tPW9SiAsmYSx0eF073cGA/xVYa5xsw1Dyy22whGYeBQw3OAH0PTeQeo7fTgCaV3KUCnENCHF+9jK3Ot0fMUTWLOYt8T3VB9wZ3leZDixKXwI2HfbBlPrOsYrMwV1Mlb/ubeQEPwxeNfS689T94BokxJdiZ4LZSC8VoO2ZNAdy7AYuJlYWKG7IDugAAAAIsBnj10Qn8BrfN3c7HukeAjWY1w0k349708xCuKAAaKMBXVG7M4J49qL4G4ttsnehbPHSV1LHEjftuMDHGzL9qmqKd36b/1Uiq7BHpZ9ADmvSDXTx0NRy30tYpcAu6+dDdF9OQf4QZTD5ZBNOALkG4J03zMAkUifVQjTaYZjYb64mg/JL4FX2XacMWAAAAAyQGeP2pCfwGueLd05+6s3KJqDrR4Ht48W1wKnL8WEACfqPvqgI287FM14ycphi8NSI1Sdy6h8xA9RwtPOoWbuJ342b3LsbrBPudqn5blK6WfBnEXoK4/Kdo/h5qWZu9uA/GreIqnMrRcgGezChTyhLmuu6O9WmTsaFNITHTfugGMuY1RCnXcl/Sh30f/0uZ1mvGJQYkBNoEDKPCjIM3C9BgUscu0bur/TtkEIMNfvqAEJF7x0RG5XdBX3stC/NJAQWmsJkKHPuDegQAAAWhBmiRJqEFsmUwIb//+p4QAAAMAbv2VLaHD9dIqxAEeLcKaPfh9wiVzFNQzYbYG/GIlT0VJftx6Oaj3goBpkGJ2wIUKIqlscc4fnPFbuP2Z05MSB37pJm2XCiuRZTupc+mbTISVZ+hRnwSxIZosspl9jzLaCeW/lqhoXp4L0uJ9K1gnaMT11CT2HAbVIoNppf156M1nKR5qkPrbhvt1OmOhqPseWeviz9W+h6azCPUyKWQKRZ7iLI4xOBdPTbxHhulzQiampPf2BphJR81h9iZvcp9fQyg8HLsItE8HvmhF3PfZtcQqXpsNu7hNkma/cvJDfvyFviZYYe3Fc3Yb+01z5GHQlOWJeoZ1YcQNT+g+omjQRLqrFPf3ApaW4uyeZ/U1NoHS+oISerPJh7xk419fjWKyQ6GK0m2PUod+TLXEWnhMBR1/qzAjUzvCX4Sg+t+yGe8mcnNdD9WvwjAZolZXIL4eYTK9pqQAAADWQZ5CRRUsK/8BUeTIdfcG64PksQNiESOZSZCz1WXwLPIA8sB++kB4a9qDZmtdMYAiY4bVrr/a7XITp8us2duhhZc1Umm1EFPTu0n4ubCh9e9sLmMh5vj0/qvr0N5GmswlkcrUCgID2vS9MVEGkouy/JLysZExllGxpJgiDkyfw7W2q4MpFRjcJF+/hwXf0hEg8VyJhthDOmnHhyi/313kQASlkfEk7Z99x447qfNDpuGViZCDj2Za2OlxXHTy0O6S4OfsuqW3kBMgANmpNMuCJ6+lTnA3oQAAALoBnmF0Qn8BrfN3c7HukeAjWY1w0k39a0JufNAHJCTMy7X5ea7OoaLoxrIZ+a78mkWSuopt9Rrs6JZrmCoTu1Mu7RbQYLho83D6T4KhrkMQLPYVMLQQroU44EVCHYMwNd6qkydM6pvnoIJNb0uYRL+T7SzjXAkjm43qWS7tK4Ljc7/PeK2m64541RA0U8C0KjB1YH27J06PGy0BFHZ3QTo/FHdy+8zS9QCeSJ8v6PxLhMoj1BLNfUh4TcAAAACnAZ5jakJ/Aa54t3Tn7qzcomoOtHge31n6fMp7FHkfIWiIAOgVXGs8VShlvQ+b1/hXwO/dOPn3glMfX79gmS1k29sIizHtWMwtVNBUz3ki27PsFqJfVbw/1CHZvc1tKXzdx/lmMFWHpoDilFimDmRO16rh/1mO50j+aNPp8xAWw2S36ZpY1/EvqpPrabgTfd9dRDnvtdW+7ia9JaCnfz1qfPuh+ixIE3EAAAFCQZpoSahBbJlMCG///qeEAAADAGJ9lP5st/+ANtgTIU7jqSR3Wi6AG5e8YgeCxUJjx8KChMdyOBwC97LVCN9CKMeVZJR9e83qvxCOhHP4YgL70/i66uVdb0dfopsDhwnqjzMQ/pspGLfMl9oL3nhgabSHLwZDqyemDhlBl1G1KhgL3dTT8vQf85Ojmpq3IHe8tD1xQQ4IIH57qWjnu1hokVw0JNsSF1aAefNtQPpmEXNL/1VWvXVYmPY+ulXfg5JyOZWMwF4WhIy3WrXAMB0L7Q3HzPJGi7IrNN6mmgNvgchDI3WOZsRYM11oIE1zKk7nee4wjOPTT4EDUnXJ3NGRHUPdV+zbPE2gPdjLXc1djoNeYnrpoz5gd7emi9hX4FW44UBaOXwqiI2D8B7PMuTaM3k++bgVgrYVacvYt4YsFojwcQAAAMJBnoZFFSwr/wFR5Mh19wbrg+SxA2IRI5lJkLPVaBuPJsHKXJUOlicIUn2Sss+06oABIwTpzgm5k1yCReQz5T9HkdhRAExpL2ANeVLZUvBz728e4FjWZn9obYS2n826NUKgsjj3UbONjbwUkuj3Q0p0uWDQt4EQdQwMVocyJjCjDfT0UrQG5IZOicxrAvjqDctFDzY9FRLrvhyu71aHlesA9QSy8SeEfRWCBX4rrA7UZa66rzR36Zd5CYxOvFPzNKYEXQAAAK0BnqV0Qn8BrfN3c7HukeAjWY1w0k39a0Nnh1Vf94mXwlKexLR2/JWxIgBFXxwS5oi+Y7TDmE9AdjS/u2+KhM2da/+6Ow7EOJ3DJG9SPI6JznOosI3QZ/DHxVUKpLCJ4tVV2i5mEPw1WDTy9q53dIhsZRX+lltFP7srP0ARcG8yBpNUVcuDDxk/wXVYvAm972acJu60FtfX699FZJutDqIMm3uRQ2uFOcfZiyg1IQAAAKUBnqdqQn8Brni3dOfurNyiag60eB7fWfp8x1AEjSERMgCLWZKm9jk0gCbgrWQRXynldqUosMAKt4GQvS0U/eBYk0S/8ARlTjsc73JaTfaHhEKimIT9/wETaiBtIWHZj5d4jaVIx4hPs4saVDeD40hCgRIhkIjem8WTg9gYiD3qZYdDjMaZ+TaZgq/0OYkzL7xFQNeCGNCzpYVSgqsgEQTiabfTDKgAAAExQZqsSahBbJlMCG///qeEAAADAF/4TzRe5klb1fAAtOP1TriYJ2ObmfdO3qrj7/tXksGwyDPdLi3HGcAe18ivEYs4flC5ajCs8EWGz6o2C0dxIDcjQCkBnq3WDJ9vQAwNy37DOBLCTT7kgjfhKj/545vyKrXkSypsU97/bHasviEtRE56tugADHlOmCuZN9VMopCXy3S39WITtUhP6hth0k+rtyIltRXkreVs0N6r3BqNQ2oMxmHNHV8bxnwxHDAxIT79SfyFcej4uXn8zwtIsVVXZP7UUdjFu2mLdOImjcEh3CI9j1n5lGpGLF6mLtfpxRA1kTxJZwwwElgceYZ43cNink2Jd6dfcjRoRly1wWnL5YG59HgmFQ+nCXy4EIt3G9psTXP6fijzZ87QBwyGl4AAAADkQZ7KRRUsK/8BUeTIdfcG64PksQNiESOZSZCz1WgbjybBylyPtYU/QUIR0xGoF6gBa3pXhYmX6crUQEUuggfouOtY/H/o224DCz+Lv9c4kltbMcCY8SG/qZ7GycnIUByC4UzQNejndxFbVPBUW3M9vFB/PIe5TJ9uRnFZwpOSYBwc+n2yPXEF6u64mHzKJdYYldE8Wiqu2EdIiafF0UjcYE3zIznHLn/vDzBUlO1JNHHJSUDteWHhFZDZTzbxsm6dYFfAkTK2LRlLae9px16hq1xEHZ8v/VRYGh/y1HBMgzIEwGfBAAAAogGe6XRCfwGt83dzse6R4CNZjXDSTf1rQ2eZW9g6v/TBIgAhvN6oNbhcSaqK/cLeuAIyUIv4JkqRK7ksLIOc2yXJFYHFvaXOe142dbpquKbtIF3y3ynSFhfvtqRpP39K3G8YZX+SkAagdc4OBkm6NcPWyJiNFnkbVBFmCrSM6F6on9fYzAT0wAC1d5c8P9oXtIFMTlJe5arGTv2CdQvONzDKgAAAAKwBnutqQn8Brni3dOfurNyiag60eB7fWfp8yKH0bmM2uC75rgCNVFDIfA+Z2at/v62BXZId3cHnRzpbcSYqqwcAG9KGiG8XKj7kf3SWbkqepU3L96m2emF9PQoZHtRx/cmcqzG3w7GDm/NgBo/74wdtnWtHXFVnCybqO0rj6QaJjOSSrX3/IObZ5F1AQcTnawjcpDLD9X6rkwtYU2MnDM+sRnD6ckoa8hdCcYGZAAABSkGa8EmoQWyZTAhv//6nhAAAAwAo4KDk/EjAAdx3exqR+JJGZ5QRtXfx8WSHyRVqBSyQTkSkmP+KDrwQ5BiU8oCFMBbhPZ3ePKkIKKJ+k2/9296Xk8IkT0GyGYkvZeJ2iUifCr/CiVbOjescxlKnKnvCPopyCXvm/bdxicwyXs89sZrp8r4TLTxQlV44SSzZfJ6dyQ9jieyDRyODiED8Lw1ZpweXk80KuALpctP/zQDxk8PDBWaa+fXnl1/mjilk7k9tZFpmQ3U2hvKCZLLRMrPZbeZ39ACO1JwKA+fwgdNF+2qDo7nnUozF58Q7ZXCmqxK10xMb+xpNaUNCQMfBc6UVrZ/HLcMqovK9p6GTsd00lGDkuoHXRWny3UMp82FqM8bcohUeoqiPhLQ4F150gH1oMVgCV+2RXM2cj30VErFFrncXrHYkstTKgQAAALlBnw5FFSwr/wFR5Mh19wbrg+SxA2IRI5lJkLPVaBuPJ12af2Jy4+XviE+/gCmTpFZngdinU4F+l+r3ssQeFYZWmqbqHGJsC72bHLAmgO5dX/WxNe8tdw3S7y5eujFDn6u1QUD6uysPtfsiKTZB7PFiKx62aPyZ6ypuaiFxKq3/UIJ2SQu1MUW5M7OuNHYhqzbeq6NwNN86TvOlHFNJw95tCu88opI3Tr+SOc9ORsfuYs6ReCmpQV0BKwAAAKABny10Qn8BrfN3c7HukeAjWY1w0k39a0NpgSDoEtuM4D3wcX9qc+/Q4EDIBFWnLZolWC6djFBcf5KWUtSKE4Vlb/yzLfipcpEppDbys0Xt9XTta+C44hTZAOqeZt9NFwEbAG3+xjplV7SlAkuzXmDokJrLFjioHUUzmW5z+N8V9NJK9eEMFuTC1+JEcpYoN1vw8SLFhNrpm767J3MtVvGBAAAAlgGfL2pCfwGueLd05+6s3KJqDrR4Ht9Z+nz98UJL4btWRDHAQAhSJn3lKfBbCt0qPdtSPlJLjbZlEQqnqvTN46HuNXBrM2vwJ9dqOpO2Gub1jsua7LjNHSEzvb6/R0eLVTPabrpkQcyf/Vq4hGFLND9UEQ5B2XGJMUHRmPsQoQUxSkC3Apnn0V23lUOwsA5IhvAySaBiwAAAAO5BmzRJqEFsmUwIb//+p4QAAAMAJ/7wrBXbcAcy+FeWN8ULEwxNKpbtL+/fQgLIQG30ZtqHQcbpUwr7YRSnbqa/Mr1exrMLFr5mCka0XH+6iWmH/39OeH3BExmCvsskdLEml7tNsTR36f8wLux9QOrfTYqlwM4Ir/TepnsxHxrj927QK7fLkGSss2EqhOoBHvf7yhqQL7wSLoC6OL/SVqjxq987JrOpr7YoLrAddBSEQRTwod2ZGbzLe+SnsJlIR0lkRL4w5/Fk5L4f0MfWZt21eUlHcKpzg2N9yey4KmMrsCaMjgEZSfxXpeM7QRvQAAAAo0GfUkUVLCv/AVHkyHX3BuuD5LEDYhEjmUmQs9VoG48nXZp/Ymi1cIAhJLNIWRlp5yhZfibfvqp4hOHdX59GBQ0jlyTRPkUb9eJS1H1bsPpzyvkAAEbWxZqvPQN4fAD0SUl/eMQeTri+mwrzgTe52nCcp3L5TB6sQCLwVt6fSF9tA70HMbeQY0Wa/L2cxXvmgUeZ8vzAB0I4t8V+bZdSeX5OB80AAACwAZ9xdEJ/Aa3zd3Ox7pHgI1mNcNJN/WtDZ5lbzcpFuiwBP1C4AjJ5g6OEJJiOqR19Xf03KcyV8xKohUOsIG4NprN1c3yS4NWpNg3dbqJ2fw7xRfvQjO0OWZbpCs54GRb2ZWeneC1lHwiQaf9Yw0L40zfUbo+ceER9fYE2GOnGcPXu3N7jFO4pdrsqkCxl1cgKbQno7FMnvdbuqEIfMZuqCm29YmmhR/Fm3zLdatg/43oAAAB7AZ9zakJ/Aa54t3Tn7qzcomoOtHge31n6fMih87X8hqjpeLDB3s7WzsyWuxMS5pKZ4ygshdsABOQ4+okpkNNOyTFYJO7J13GIZhp4RBcpYTuZohSqdQcLfeunqhvnk+H0gnB/1dXGH3HDOS14sZ+B66j7Cxa/S7aS5QqYAAAA7UGbeEmoQWyZTAhv//6nhAAAAwAkpfNwBxtcKPZL0Mso6BPyGtNuBEkOuiLtJwRAXT1GkNJNglZUo7zLrUBVxAPyewHKFDNbW9vjW34Zzh1cebNjWLkNiSpuzMqkscx5O7yBpJMxT5aCgFeAoJYD/Nkjd9X4xGWAdB+RyANgL6VJsQ7Bz7ukTlaPDMIz7Uthm7m6E6eni2o46xBd8WGFEfpWBZvpR3X1UfVUJ8OYRhayJfxCzwOx/d74K4qHj3wBhEH97CUy2fseww66YBdegcqTKq/ADz2P8y40aTPoaaP2IdX21x1yagCkm6SXLwAAANBBn5ZFFSwr/wFR5Mh19wbrg+SxA2IRI5lJkLPVaBuPJ12af2JzLWwVK3weP6omYAsE+QMmBBQDENCGNYHs1kmYy67z9xapDpl56kfp4BimsjSPOtP7J8DIxwY8YYfe7R0HKtp+mBmzt8RuO3q7IQQEt0xgx011jfj0qY/hH5QAv5VYOGKtKVjwmT/TKSMnDTOCfinoluncOFmq/PODiBc1j0WNcxIv6zZBiLXRI/JEcv5fLRlcSNYBhkZAxmFILNRylVPzPUtHsMSELv/fYAbMAAAAygGftXRCfwGt83dzse6R4CNZjXDSTf1rQ2eZW9k78A1uuBgZMyAEYFXGGRGpykjwTeEqBePhyY50MEHPZfJgMZ0gjGJe26pC2xLuWuoh348jTw1XWQy/aYxmXdenIdn4bD9yd2UlhwJbfdDVa21dXLzXdBp9oDPgholgMQFWElyaEij4rvvTQMYMynNZmHEEjic6gmu7MZkxI1A3OvqAhVkBkQROgG2YTf2DgcDvbmIWS9KiP50SPfACYg/SivcR3phfAlHPeEKiHTEAAACiAZ+3akJ/Aa54t3Tn7qzcomoOtHge31n6fMih9HqSrMy4A5AnIAylKLN9tq/5fhytiayd/rykLeucwuML6SlAKl2wMzHO4H/Umh9Gr8mcEnRXS4B7R4/gBvZ/2wSjjCgmwrmDdIr5n4kbCiy6fVTND3NVafHjzItr5/Grm9bJ7gcs9YxYklEiF4RfmSby+V4UcNOO4HDZnrw+Sp3kCf+SZYVNAAAAdkGbuUmoQWyZTAhP//3xAAADAAViinwAhTiXMxlS+UmzJC4Fbd1htjx8eg0Q2bM8gHuwfEoFLR1kmlQvbr/XhA7qhEy3K4HNK7PSKUS1lingubKFlV+nXnxCrvGlY6KtcE/oK+eFjxsTVaomxQaZGTc74amtL2gAAAmRZYiCAAQ//veBvzLLZD+qyXH5530srM885DxyXYmuuNAAAAMAAAMAAUeHteuN3YNbSdAAABrAA6QfwXkYMdAj4+RwjoHARIxctxhx//wWapAE3soDP1tUCQ3CzSeWwJ8hFxhkcUhGh8xPif6bHq14YNscOMMC46FmmxjdqAs4cUpSI7FE9rc8NrElSG2jU5/3TwK955ubckEqw02SDLHYeNnYrvaNkuCyfKxUMrR/jnZZt2G13xnuuCdnp29+bgJY2GP5isv8DYuxYg3QA76kix3+iO/CXFeaQL/P8ZiUuCwi/Pvrrf18peb/irixtSGG/QfUpgH+S7+lNDSlU0CgjyMZD9R4wkzixDuzqskCesea72IG02vjjBuAi6wK7kLdhKeGeDMFCb/Ua7fSeEkR4vGV0ssTime1vKfYQmrgQtz8AZQM0Y5AG7UAScGwZz8RI7DzUYIvK2YO//DxlRbVHwLWazDKBj6/PU8begNGRM9/TDTwpW/FT8ZIZOhrrXAhuOn8JIO13FCMDdbIssSu5L3oM9OcBjRb3bR2eOC75kyxPqYQKBMv0GCnEJ3XWiFkitqL+BlaaE0kTj2BsIduKOKJHb7u5uYM9UxlwxV8DRIPZs6Szdowvt0BnZ9nqClfZ65BDX/MspMkmNlh8637IluKLu2GM2hg3gHznHR1sIowEEGzCcpC5KtgoNbO43lgAa9s5Mf6voziY1DBeyeeB7KmXQb//KpQjGpjiljcrRMaHbC3B+9Zk5ory6f0N4HuqH6p8f+HdHsufQ8pm9gjuCvum5LQKA5xk540pi/tMWzX/ziFC6O6apok/pJ7T6POKDigWfYizr3fy2jyWZvOJMwn7xT7gQvpeT5wTrQESI196dVJSgIiP4LtKf/rbc6/gMV70cz4aFg6HR/HfxYVv51iAEyFDD9AALTUBox+jV+0HAxdtrEEhVB83T+bce23MEY9WuTsjVYYwyw8DsVIFR/mqaL/ziC+mrIB+D8vgEAgJMZmlMT9vPjnD11+yrdfB64TMj4ZcFwEkEhPWt21JPt4FsfdlAT1fZulVZ1FpNEWrYdEYDnipssV+QHtfrND+2f55vF5AJiB9bvySmmHKpvu3kI+kjTSu2sUfDqPg0rwYbIm78h07rbC+VPpmIjnBs0VcivB5Q5Md1xZz19EmJH0KsZ+IA1Odmslwzce+IVVhMDul6mk/wrch/RQYiLUAMr39OFp4p1J4ii0oIWwGSuJ0fcM+/YWq2xjkit182Lg+2TW9mslpEtN9ntG/9ZjD8pSQs8PS0llDnY5VrDlRcbahbygCk/KQ7F8JIO0zwMzzWj8Ych9i17nL2NG46vkLqGiAAc02sK3T5J11eFnoQbbzdm7htTGunyruw4v0hzAzGVfKQVku7X1HcDLMy4NEJkOlU9zRK2KTFXCUIgAECAyttaaQ0ALX2lHgc3zlhYRUGOkiIT9w6zoqsK2BV/puH9el0o4YE4z17B8psfc+sGHEfLv5iXr5PmSoUrbRxY2WRx4+ZaYc9wXR7BgXAUWL5aSv3XvZPA8QPthZKztnw0TdE/h7rve4W1jhEq6oorL09zBrDcLBjtCagLrcuKvEprBNI5D0VP/7yLF2eWTY63THMA2radWqJP/rSIjy+tQ31KHxPbRnC2xZ6NAGGI/nuvUT5EubLW0TQc13N1saNB94tC5aab1IKMHHjQ2LkNFU5kt4btuXDUxlZ7eJJkeY6Zr5PU1/0AQCXK1RjG+l5LQXyLZcWNMkjNfyG884i41UMBWdOOiyrPKconiBgptPpOm3PiXWr34ildKgh85NA5dFZ00hI66qMuSZ+LTJB4bSW8t/6oAdhfZmnfmQSjvqWUX221yhpOrc3naENu50ATtgQv7z1/d2lgtE2S/yidXJ240p/cJwsPS9mFI7wmZac9ZdhuwK6JTtUqQkthMkmMEDH/iLm538t9rGQ0HPqpLO1gMx4ka22K8X/1Pboy7GKSw0ZN9EsG47YQhtGXBP1PYcalbWN5vmZwTRdKo/UmRAFi7ulcf6lmlBD5MRvpxpP0UcrGMo8xEoANZ5eAV2VhpxOXIiWBoOIxVR6VwFayf8b5fS791iUCVI98B6L3Te+Eom6ukmsGwIpTSJlcHmzNvIv3NkqxsYs92sSnlveBTBb1X7LflAi4FcU35Y0v2q4VDuE5znJAiPTZYLEB4pFwbslfHWHvDcgzK/sLrZvVl0RY1Z1ieh+m0cnTV28EklDxzRqxZoXIxneZBtYV/EdzCMIzL8yY9fSVITVMJfiP7aJfVr6mQxiP+lA3MJa1wj9BzaCh3srOoyZ9s/f/IOf2nApuue0m+QCxjnFtZDXprzmcdk1QUrKnaUT4vTwPv+JPo8Yj2bPSwAlcajaK7eINqU6DdHz/nfq6lxKIw9nT6GJcl8IeM/pSs++r9JPxECgjZjIiKbw5RAp4d0xZjm7Edd4JWiS+qWVs6S8ncIATG9uVci0TyjThedX329sgXE0rIrAlhpUfflqiF6xrV07BbJxwpPda5fL6EUzi0Gi0lYVZgGYOlCjlypArkRhHQzuVYIChw7mUl2ExTC3NrSYp6xGAJ+cfxm8zthq20SogFv+WTv9C+bEGAE8xQ0YG4EgQOnJPDUAPvc8COjRywDMgX79EWsfdj5kojjqo8XGA78DyEkxrsI+RhQmwOSIMcuSBya8+c7Xj1NeWVOTerD7LkCpFgUYs3iCuQpW5t7cM5muEOt/My8CGG1ELbBABV7MP6wEWgEy1LWBUnVRO9XB20UBIVo/j0qHohX18XieSAlUR84DqyoPy9Ln66BPl9us9i8wIvdiIJlpqbfrKawapMTcwcqXNJvhjUclvVgUowLMKpRML9R228Rb/U4TjnxrUxeqGYTB76ZyXxGuCF74iziFDrHnpqM0mbdgPnGkpR+pBvWd9M2DQGytTTjeybSdboyXKD9kD4tCa68r1eouVrFew4sdLwmNKwQe5mTGAC6GwkWZ2p/HvgZGKnKOOkPTLkhXqFfJgkz18MqTYIAlLED+3lC33v0NZ7CzIgjizcn0x8Td2ULmg+eFUkuiBmYAR0SRZaqfRJVZVS2Qz+xUVH02P4smBjd1Rahe/TppLOka0X9nx/WEpznhZWmuJV/8vJgZuENa6aAAFAJxxp9kbycp4IuyZKSfwJKFhjNtNrm9knJr7C2Af76rviTp8ky/KVuRDlR8QfvZRDMu7e8Lrg60TS6zjJuprD//46hSDNF8zMXbjU3hBtkwAASSBBQQAAAaZBmiRsQ3/+p4QAAAMAJt8i3UgYA5Z/5+J+rAgQ40DXiTVqLpl7Nsasbo3U3WiJc7rwbG+8EkzdPIHd115rRRsHuWT7k/HQP5TZGqaBNmVmfGZ5FS+uIHr7DKcjwFap7PxPUskuPvDf+ZVBOq7o0n37IYJ4ii+iDrufyztjQlrewPM9wUxSPPh7UXKLCMHBa1E8pjE69QsrhRYQyo4Fc5PiEF0kXQHMC4pY1xXhjoigFWL8qVYWHF6EuD9gXQffGq/PrLhbkP+fD5YZKvajG7UVQadc22qWBwFP045evPiwWo0bCFRHMhgRzgDtRvB7k/mHXkfF8gNGSBABHupr2lhYIlnacT9ptsr0GiJkIvKTywhDF/G3RU53xVh5Vp26sCimHkHcD6EGX401YCywzkuSiqX+8OUnEFVnkYaXjpRtgsQzncI/0MKMgidSZopp6VmSdDp7jTz91JLxndlxHsYq+Diq28MVTvnow4xD7cKNR97HN0eaOg0LXlMvIcttpacIUXmJFLt6RqWQ724F2IvMVTowusHquZQdMl/PapXXqg2ELBmAQAAAAM9BnkJ4hX8AAAMAH9QLAFAJqA3P5X3RZgMX+sy1v3MM5s38MzO2Y1NFX1Vp5bIey6+rVzw2w8+Rqk1HW7yvsa7AYfyOT00rR1D0jjQRCdylhoVsCqJrlbVR30L2SahcUFv4thIVnKOO+p9g6QK/QBBijb/tmocZf3T8WmzZgi0T1pLRuJWaBPgiF1S8ZjlkqHmVNZWNTgob3b6JWckq/W2hhpD3BgZzqzFSA/YwCNA579evKu4X04jGVyR502j9SqCOw1ISEJqsB5Heao14vtEAAACrAZ5hdEJ/AAADACoaO0rABCPHsQxyLYxeSPtWwqs0/WdiaH+SmB8qVsqIIzvpv8G+Lf3E2n9q9z1/3B9BEyU8jkCPA/yyhQrKsGyjGYF8/+97dtPA6pz9P4PsJajAChYdZ9QAfuOYpLcSMTeng+RgsXSNA9KrdbuJVfUIX26N67bKD4Zn0u9XbLZf4UlJWhC+NTNX6SjILYvmrBQFQGB2fQw8rotFQTcmIN6BAAAAfQGeY2pCfwAAAwAqDP2DW4MRmw4SACPeM7UG4pfj4ZirJOfv2Vs2Yv5ohcL+/owyQiGZIA/J/MWlehAlRBmVjN+jRhB9dAudB3MIssQTVHcA3iGORj6F+v5jYeiHMdfVNCBzDV7CTQoCdKQG2JfokeIUwbXSZByX7Dg9/y2gAAABDEGaaEmoQWiZTAhv//6nhAAAAwAjqBnnoA/mL+gatlLifeZynNRHvjdaS6+UuKH/j3XRF+I6r/svmRXFhdsFjNyMYf7FLg6hwdrr2Ab5TwmidOfKM3SQbxu+YTdTTqN+t78tYRwSCkehm9/gYBHu/N1JvBuzhZlsxqKuABWH8qYvrYikwo1nq0cyIbYxJWPUIKYAUl9aPyxITj5teesoTBuskvBhsCR1eACgV5dPf6MOr5r8SiwvMGSptJdaeuT+DQudlV/sZT2sB3Dlq8BoiO87B0aq3T2uQSnQYaDS1Gt4O6N7f8PfgnL2XRR8EF+tMdfH4fgE2re6yCAbaIJQFBl4oa4xngFA/cg8NlQAAACiQZ6GRREsK/8AAAMAHQYd3B4d92AEZHVfY8GD0YJwoGIzhpt6HTdZAyvVL8Z0FZiXAs8/4R+fOb8hke0iQdro1o0D7h2PstIDzUaNTD5MJYEtaYlucLFWVSHtcxc2EgdE110wpnPbdT5c2eCMcNHurye5kwxXTRjvxZJ03WXLM0W7PeLsSr1V93YEt8Nr0xFsZd4GzvrgkUIRDOAei5gk2eKbAAAAVQGepXRCfwAAAwAocrWNlRthi/x/KFRUCKwAgQe8WvJCENd+ONVtu3XoiywOoNAscleLcnAc87ZwLmFzEhCifA6S27yYHa/Nw4VNzwCss7iVDUtgU0AAAACcAZ6nakJ/AAADAChytY8dRPBnDYmACMCrjBEpF921aA34coDFAKaDiQ2Y/pYz42eoxTq7UlV0M5GhOfOlZugZVPNQ2t4sW+mtBWKTtkrUL+KAOWU0rrL6PIWGh8IReY3y7FknFQCMATL3MGtWByW1UEzzddqzhCK0QlT3GK+zXLIXiufITD1WZ3Tu2je1gwzPd1xfTL573irlCpExAAAAyUGarEmoQWyZTAhv//6nhAAAAwAj39aQPblhAv3fvVPvlVcQGfe6oShaAfzH8G/DKigdG9N/hUfIuG6GP41Bk7wAr/PRXGl++YXMdSIUPQxpWhadV3yyOF/5hBlAqPV+eHHBqxljwjhFNK6BD8RhKFL9EjjTck1hK0MgnOQQD+1DWNRZtswk2rGCiUJGpZt6mLRQklhu1Xh0LL1LtszvThrjT9uwI8mDFnWKatoOgU4x9SiwJuzf+RYibNcYR++zL3lNa3Pb3ZudQAAAAHdBnspFFSwr/wAAAwAexR3Xo1lq6gD+dTxubwJQbW4tNyGWID8Pu8SKWdPo1xYtgxhmYbmuQjNDs6IoY0j1iSlP71XwNsqVXktZ6W9UTrycU94HLDnOUUtEQxr5MJFuz3DC5JAft8hQ8T/ssdaNs9ZdoSYrH9AFOQAAAIEBnul0Qn8AAAMAKOjnQUC6NNFMAFh8Lxairx29vp17C05Vk0FLDEJkCSxZAQBSC6DQbAYXrQVLY7wRum+xiM2yKx9S/c+JgzuWFedvs1DdDBPELHnBvaRS7CnpDD6H4+XR4kJhvWybHsHyz1P0ooz8ikNp5RIHek9xJoU8jcE+ZkkAAAB9AZ7rakJ/AAADACj3GOanJToxuXtYzK0UACDiOPSMM4FBUVBB+Km5n23KPQ+T2MnIBbpNnj5qGhfSlJYWPm16IeALS+BHTLXb/fd1Wz50LboQP6BRt7l7HkTu54srb4QvHnPjSzjvIRvtjJi6aChozeCHctFFsggZdFIMJeEAAADmQZrwSahBbJlMCG///qeEAAADAA57BQngA/Gpcak9wfBDyd2cDzFVlH6apUyxgkR3p9PYl6eDd2ZGvN+j0gK4Y0AGJVxG+0LYRrrc/PgACECm0UQC0plZ1Z6eYtTWwYBgj5mFa58SORYxMKK/PHXPT+GSud7fwr4kZEKXQBCkS6+eJ4fzBnzRfpP76HZBuM6XmADDhqO1HyPdfMWMNENyrmPEL/2Dx7Tp9VbdCfiuMFjGTeXNd3zQdijh3u9NB8cO0Jy723WSSZCXYdVRRg6ZGqmpWgxQvPKiqvaiiyuAYWI+0OzM7v0AAACIQZ8ORRUsK/8AAAMAHxr0tL6UAK5i/n0vVninFFjb+QtegcUsPj/Q3xvY3JnzbvTzIidJ+6Lsb1oJdMqmb13APuMaXaRLeg3mT68ymliqJbiZOgMxYdz2VNJq4iSjhBlyES+KWdEtTCNiZWccxqCmRdxlZ/PlRqS6p469FBTOYfR4zBsw2lvVMAAAAIgBny10Qn8AAAMAKOjKHo8D5AE6Z7UUXd+QCep+E8epDzbn1oCJ7/7P289ftRrscd8TI/irk41f2dDGlwMo5EYXpEa3CbcLOYI9CW8VVnH7+mdLOoukECW1s9Kvjy0+SW3OrLh5F0fSgzyi75QLvHDn7TvADrVBCCj10yXgaoC6RF1CxqlydhCwAAAAVQGfL2pCfwAAAwAo9xbpdAC/0E6nRY3RjDYfsIElwAHioKLVO2p31qHvmM0mRaQ5WRl0wmvvmpgPVWXwFErxXxVBOf+VZGHqM5ewD8I8ugBYdvzcCgkAAADOQZs0SahBbJlMCG///qeEAAADACPdNuoWXxUa/ahJrcxsEAWY6DuqiCSDYUiwlqXzLh99K7HfGORl2+4TkUDEf85tZP2mTHqAAiB0kQO5rgx5Jyf9ZDnDhgSrGn3i29vjgZN5cH1ynRaeexx6LByEYEoJEeIPy//c83TiRiDFHuhzWFGGUv4ONXMXzSP7K7xGB9cxwBq1L2YWufcHy3GWHkvt0P9nFxL9BgkpvGppsw090OcG3nWCL1WcvoUWDLozrjxi6TvizyZMT2nZCjAAAACcQZ9SRRUsK/8AAAMAHxr3sdDJtSABYfE52v/LaSw0N7oaCnfEJ6OZo8lwCzGN2Ueaff5buSs4+gfxn4PpsI/ukC9dTib/Lo3UuoYKBjZ3ZGsA0eirrTr8y1N98fxSPwJho+OJ0B3/kqN5gEF1ZqT+letehnG16mZd30RYDQDLqnVCN7ZYSAG8Txiif79rc6Gq5jpbC4h067zmmeImAAAAewGfcXRCfwAAAwAo6OS/HgDmHTLKYuJh2JXPEYuD+ITWaPlfVlvvpxkptE2QEC4Nmr0porr14/z/rgUmWkgRg0kX0MAm/UeVYmZWcsqf4cX61bEok/x8roTzKX/bOG/20C3D2KmT1coMRpbCdToz4zyPs3j5mbWnLpKlTQAAAI0Bn3NqQn8AAAMAKPcA25+xmRScrONATABGR1PEMwPJyUbX8aLaq8t/TSeMLHOUojeC/P66hPY+9hKOMMIyIgXp+F8N1h/N/qn2SfvN2eaI3xrGmFB0j5kVGliKK524cFyseEb8EU04X/447oOYxTTLD/zeczY5QDUz/gBKeq392EUh4LMDYQEPGoHL+PkAAADXQZt4SahBbJlMCG///qeEAAADAA8+vddC61nsAB/SB3eDKk+VEq0i8tg9JEc8ht1er6UwicNa2VA9SfUnDP0SnyyUy1F/kEdyRIrqweadWjk4GJwgCOBvWJ9s7m35poPvR+Ib4iT2fP+I+6ZjQCzoqX4IN0HfBTGjT35o/v01Rbj9KzopFaLBCvd489gMrven1SpCiEa2An0/VLcmB0NtuBbcG5GFnSNx/NtqLZhnRnh1qfd0/SlRtV1yL2VRJ4FEBoorsLj6uv1IzNQnSNrPk5PSyMGlScEAAACDQZ+WRRUsK/8AAAMAHxr4Xld/Jc+sMBoALn6+zLUeWf+g/zZSQMHA6CSHeJ8w2efbxcSn4wN4zeGyfS8pWW4LKuvEpjdFUKQRCgAhjn1ZK/WBIATFAQiKtdSPkFT+CXeSVBEHVcWxx974HpIZkxySQFzuj17siddDU8dVCgrA+ctsiYAAAABcAZ+1dEJ/AAADACjo542TN8w8AIU4iGiB5yqmAA/jH1XwggHv0iPovGcaTb+Airp4GqvfnxNJdFu5lUKfTpWynzq1VZLVYC3DtUagKdNwWsi5XNvJYbBpcHNEOxcAAABuAZ+3akJ/AAADACj3GTGS26CFWACL+cL95RZkfBXdt2Off1r3RQMDCvN/PWw3BcYyairt/FV5AxJKueD6vDe4+dkpErnFOu/ceKf3BegTlBuHIuJSQ/PxacYd2eJu/vf/zbqotI0gjPNOvHuWeEEAAAEDQZu8SahBbJlMCG///qeEAAADAA8/qM7uVjggpzCnwLfAC5iO7zL1Aln+BL288wE7nqZrU99o4msTJF74yf8tJjHGtWvtfnexbkm/AcIJy5rOUx2p/qvPU9HBgv8suFhFxADxl8VMLp1mlvkop023RpEUxxiVOcX8atGj2fKH87Y1/dyxWE9o0ZU5GLubDRDGg3PdEssAH3Tq/cS/CcbH3Kfb//h+6qSHD6lPxPNASN0ZbsRd9Ko6Loq8WKL1Xu0ltICA4fmxtAWk+n8U8pE0IHXaZde7QFIu0CTg7TZ1dxZ1/nePWCiM1lCLCRJskNhNR1uAD6fHZg4bd0SRgSTjeETfoAAAAJxBn9pFFSwr/wAAAwAfGvhgt9/Jqfk2AFgHmh4AyO5g1PwF4Eh8cfWfBTPk+wFBt12z2OT6mc/1f8+kovWuqfACGy2wQkNjdfN1ZRknSZZGEoYf6RuNNcy9l/Oq1gtyGRp8imXHGqoTANL4jwbIQQi9MQWb1yXJxsKTgL7UojP4MIf+F6CLnjeJ/HX5CuqV8WAvXaUcO1g31+0LwVMAAABhAZ/5dEJ/AAADACjoyv0HbCUptr1qQALBH4d4JNGCgzTTl6LvwWtnWspazoA+9RK0VW+wWFDGgpCP2gHJsLbbxNXEAPPA+WIKhOXx9/eaL0Ug9rdyr9THVP1gQ+6nQjihDwAAAGYBn/tqQn8AAAMAKPcBm4B8a/pOu0x5KLtAEI4xFyk+x8ocz9X92ZZRklXcypyAjXVxHkWzr5OpYCR8f7NbWqFFcVeVu4+PjpaHiGm1oJDtBYJ9SWGLWuxp18q809nUzljZEt0YwoAAAADtQZvgSahBbJlMCG///qeEAAADAA7RNEIAJ2tb1zttV5j3UPtYnlFBpNuRo3QpBGM762WFaFK0tZZx4g2dQdy96z165eabE9DoS1sEP4DZ7vTvmZRBW6gpVEk0cp4WElG/UMf+NGbW4W+f96xmov0+9fKQBcJvpTU6ocJ8WWUGTJl9/i8qeAwbLxS9NWP1mcJr3FWQnRXSU4esSMLvLavN7yTEfwseHxdOo97vcAxftfiottYq17c3gR60dV9LUDxAWkvyLaVr3Vf1KSXbj4r73/XJenBCZ9dIIXt9doMD1bvkesZgMrlE7fT/axqhAAAAj0GeHkUVLCv/AAADAB8a+Cjv2It9RuEu49YAO0NLenPIpg6TMTXhS55K+fGvKRtzzTYkWyrMC/+l2zwfz/SfD+svBZJH5Gxn09FKZlyHAqLVctMxG2pi1nNvhd5p2ZwGxPtd2pA2ONYqt+uPielQa//6r+1KaiM9GWbKuvds5LFXTrxVstNQ0AlHbxHrfh0xAAAAhQGePXRCfwAAAwAo6Oc2yh//PtQyYAF1HTMJkrddT7/xZ+hbKC1kxcMj55lKq+4649TnO5RmWMD7zeD8feuhdxPL8zU3x8L1vy9BWj+JqUNLXzeKC6o7amjgzM65utboSuAmc44bIT089ZUDp5H9M9yu+Vvw/tLgAymzsW5dhV6tiZTtw9IAAAB4AZ4/akJ/AAADACj3GRN80HYYeAIj6IfKH6E8mZWc6MU4furObM49f5H5twLR6KulLTAQZOQlXWp4IpGmVN1lwwiTDwZjqn1zGvQNkLpIE7l37cyXvGkz4lsRw5W6/CCD3LC45UykK08Lw5dLPVQqGnewdaBeCjknAAABMUGaJEmoQWyZTAhv//6nhAAAAwAjpfOEp2dtSfPWUCTxdaEJL93cG6SouE825HRJ7flJAEKktiD4BniNpU3gsopfILCoFpHgeS+12ixyqtQrP6fLv+VC+Osxq/oLBmEDqzZtvvDvS+cZIqoxPnJu/yzzW25fYSHWzZnbysidVyzLMQz1ejCYyrHdOuX9v3UMk35xR8cO6r7q29reCbj8F1afO25RnQGd96kFqiNGjZtmqCAvShyahTdR7jBChxYoONtI1lvYzplxs259WA4sCjzLP0nQE6ahI4Rw9yfv3SpUwlQ9c8XVrRgnbzPLKTU+a6aZlVEJherHRgPPeJwurJ5wSEcw+ncG2/Bz9mZIguyDTdWrMrRdSb2oeNbodsrp52WbCwoiBH2yQp3wJ4V1W7iwAAAAdUGeQkUVLCv/AAADAB8a+GMdBcj5C/mUALA28TN17UO++II0hhuaYyFX3WqvfSCR7S5Bkm8WFwj9zaQgrKnifxXZ8Kjwhhv9GB8WSCx2Bp5GlctP9k8szw+xkEqYyB45OAH4+fBPRlWYLR2FGXu/2MGtMDsD5wAAAGwBnmF0Qn8AAAMAKOjlzlslSTkHAC/0A+bIAl2Z0M4lRCsYVFhu9ejoechVAONX+QjTzESuVt9EUfennOxSBtRxZGF9JXPH5Hha0eOi7xKUHhoJ361l/bFsXJLVUJqhlOJJL4g2arbMPpnLqYEAAABuAZ5jakJ/AAADACj3F50lOqkULdbFSAENpGQjSpBlPXP7Bq+r9U3wlZbFQlpOs+bgnks67V2QRt7WB46HrOLvTZix+6HMgG2uHsDWV4DRiUd8OCulG5m38LBWPoIyDblQ1G0KsXy3QLh6brm0gS8AAAE2QZpoSahBbJlMCG///qeEAAADACPdNuZO0FbocHteUlLP/dTgCIBGORwnqNKv4vMheSa2RzGBoj9RutgCqytEB9iogIymX6JyD58wxr7Iy/Qe5VY32tOUfyXrNAFmEo7VRhGFLQM4qi9Z3TEUNCeU7djMme3XAV0HdvWvgulFI3DfiIot0xK4GFdZME4opsm7TL9uIpMu7eqUrgBF4XqfkWqhPJQLYCTpKb2SStyAaaYJKfK/xijTSXpDOr2p8Uy+z6K7sxGgsCwciDi4PFfd93kFE2K8t2abDSCRfPwxh0cGPTCY8Y/pLk/OBR8Uz0G2P2zWESoa9fWsVMBTMXfxzZYFVtt7eO4VMi0/PLS3HjjaeoqNWlC27NAweIcGDTqWY64s7FQQlzMFe3vbD2wM8bku/U0uIAAAAK1BnoZFFSwr/wAAAwAfGvgo7xjI2G4Ao6kB0BDGYdgIzhZ1lR3/qFHZdRi6uxoveOBtZMrbysimLf4WQgxbrK795OiKwgzB4vF7nOSaRJpI2VVvymFcKLdQwB75P19VuhIUiKH0IosTofHh5gpfe7f0eqnATWrbzN5T25OeRxp1XOznw7zEuDvunsAOiZaW+3yxKTTaJsR8Y9AXdZ6T3vo1hCXVKJVAEV5rYvwZUQAAAIkBnqV0Qn8AAAMAKOjnNGf/eRmqrvuMGXij0AEaju9lAlEqgsCp2huR4QNx/KlbwGCxvkMWFroEE0OcvCb2kxL3VCBdNA628IQ6fe+tWaFZYjEUnuRZl16euesWjiynI3DqCK3mJp4IVpBlc5i6TvJvNPGMkIQ2+mm4CeT7CtVpjuvOK/npg/YIWAAAAIkBnqdqQn8AAAMAKPcZEVjGf1mk+6IArvwqCM6YBxJh4oA0R4lGqGNgsN9wsHjklR7th5OdBv7tqVvjD5rMDfkyzTTcHegQPoFDmeLpnqeC0dZLuEue6j9a6GCa9qDpfuJiqpGOUU1VelUiQ25oGDHrb5w8XyDL4n7ey92b9vQZiXaaOz0eQKU5uQAAAN1BmqxJqEFsmUwIb//+p4QAAAMAIt8jYLsiZ9nodYCbFZpGU3AwBExsXutv2ukClINacu+MyOZyDYwoRIKtT9kDnFbVTrol6N0uWEXU+zd9fO2+LuVNWkV8LrpzRfesdgl/U73QCUfpqGVPTiD+LQcckNV5tslhJBCSQvWhiynuea9lJlznFAheXy3S5eAJc0tAxuLjfz2uDbcuc9rg7gVE0QYpQ1HP68Bq8gvTvcCUzyXXRxWKsbROi+UI7//z/Cexcah42yrMWQ+lC5qalzJ0dLJxGr1Zvyg34/HJtAAAAIhBnspFFSwr/wAAAwAfGvhjGQ4JNMh1+vRbqz+YAOC13kkrfCQd35FHKqbsCiaGYODv6J6jMLjtvYZK5MI6xvkomH1U9/z8QSw3AVGqfH0iOD6IOmLf4uecjPLPHucBSgx8FsiVEExykElB2DlAmgh6IXuzMyFBPZPDqMCyJrC/+OUp4ELAyo1JAAAAdgGe6XRCfwAAAwAo6Oc17uNIuNeIAR0LwCobQ6GV7sILNJ98cLY+R8U1p2fm15+ZBqnKEiwlCnEZWsfkTFdLqWidCV63zKlFBQ1PAp1lWrFAD5jwgPRn/LmbU9fSKtlPJbTmM/DnUV2VvFfoEa5gwB3JHrcDOhcAAABnAZ7rakJ/AAADACj3GRN80DxI8AQY6lmx/B1Izo9g+tRVqVt2BB20xe+Uu8MLkgpRF0orQ7I6uwQfBsf5gIKZX/BLgGxYn8akEXCWJyKS9Wk2fKuaVRsGtkuHpU24unF1eXslOrkemQAAAQ5BmvBJqEFsmUwIb//+p4QAAAMADueypgky3wcFvUUgCPC8iR/Cqtbc5/CK3VkTekeX/stcOgxYy7H58eo+KP7sCLOn22Xc/GS6M2dX0iUIpmt/Z5tw5phsP1HJkme31bOfOAQZBbi7IRlUiDBxnLsncHOWjnbdBVvhJW3Aqt5MrOBsMLxpZTVcMb8Pqxw5gXGzVXSWuddktlpEdALcyeDPzkYXx+DwQPjx6ZGQyYQmg36m4LK4MjAvtQsuCi7/aynsC9NxqgmY5amszwflBefOepMtbz9/Nf3VeOsCQQZOkhy0Wff/b1njcAQEluxJ+SPM9eqet7eroQLedwMTJfi7mR4X1MYF1l5XNZztpOEAAABzQZ8ORRUsK/8AAAMAHxr4YyFcakADpHZ1V4gXU3/rIVGiW+nG5N1JcdZ1wXdP44qOaSVNKEGExx0Yf3Qfc1mMhnH3mG/ugww/SlRcMHzYpZl/Oyjw5fiM0I/HAAgUvxaXBp0rmOaswUclFkx5eUN5Bsh5uAAAAHMBny10Qn8AAAMAKOjn5JcAUAmqtDnNjRrRnPpWN3ZdZRrkS02ulqVH7sshjTj6J3+R8c9FUm/GVOB8DSDjZYRNRWdTVWYvP/i2LZ5azwuCXzF7J5Z9gmm5wZHe16Naicxv/GNXpS9NjLKBqzmKcE+zqCrgAAAAdQGfL2pCfwAAAwAo9xkTfoJLRG13eQAqxDrseQJ6VZGjXcQ6xt83W3kO48xO6yqmpehjOtp7mPex0z1FcsMNjKLGxLBoLJ4ckAXfnfBx0qOeryVVMUTMZ6+uYSZcBLudbBPobwedUGFNmjk0ZoWqmwGjtVONSQAAAQ5BmzRJqEFsmUwIb//+p4QAAAMADXnf5iQw/ggBWWfbNlwiZs0qBXPTe+BU9d/nlxcso6LL58eGfA1YK/eJqH/Pk47vrsVP9mwUDpMVElaTD/J/PwDsmPWt0YCjT/lS71o0GXluVTOi53CWIYi80htO6YuVuH+c95M8MKXq4faPief9DtTdGfpFCiF+2kT+3/348EmXmomIn83ncn9z04y5nvcQzOHNqco2FwkO7AUFT8j35En1GMHIhCOpRBDt+ckI0bqXm+faJM6cvFTilZZwGZllwulnFF66g8PRSm8dSKbk0O8MqC6PW65n8DhJJS3ncrFMQMBiwSPDSaZ4MhMt3VqI2Ju/KafqQZs7KqsAAACLQZ9SRRUsK/8AAAMAHxr4YyvjugAWCRb038DHl14U7aA9TcZoEkAJ5T6w3X3vJ5FNn9YqE9v57+5OA6X0RQuaqZ6QBMTb/FeJhPSOriQBwviJHn4LiXXDf6JhrZqoIDb/W2qFkIBnWgXXEfHyAlvqxE0hvO0DmpnilRoFZkKxWrkL2Qh8HuLhT3criAAAAGsBn3F0Qn8AAAMAKOjnNk1eCpq1iYHlusdAAud5TbhY4dozv9SpkCemDOuMy1kJ7+GW3hSoeKEedzBFq/A0r55U29K4tLwD3aWY6KObKcnINe3t6L4ESzEZ4hYTwBSV3hYGPhxlGp4rrz2jOQAAAGkBn3NqQn8AAAMAKPcZEttA32JMKgm4oAI7wa7e2q5QiN8AV+SIUcp4KpKnlxEpzxNlCPIBvQUUsRU04CVO3nsmJml5kF+KTxPmLBj5OvpWLn5D0AkoVK8nWy81kNUpBSf7P0IyuK3Pwd0AAADiQZt4SahBbJlMCG///qeEAAADAA4hGgUAVc6MXIBdwv5KL0LXDAhuOhk0qPTozEOztgU6S5myUVRjA/dLukjmmPQfPTtZrreI6rW+b4FuPXvM0MVadKl2fPJLOZaw7fjrcblfztMar98a1IragXkZQVltiHua6M0zbtHzVR5Y5GJ9wwX3eMTs8nUZMI3/6+Qth8HJuc8rkIU3IhU2NuoK9wpA2928SrhuiVlZgw3HKteZI0TvRjPx/jv7FRtPXHCgyCuyw5W2l7+qgFg8HJ9MmUGSr0qXVHgNG+qqoZwAsM+VJQAAAF5Bn5ZFFSwr/wAAAwAfGvOLeBV6OE3EvNr/qynpsjHAB+KiwFeeeCZDgMMQd/ep/nzoKyy7euQEau+HwUXPNO/QBjulmtJ6Hf31bnT92qz4FJ5eSsI/ulDAl2GJq8CAAAAAZwGftXRCfwAAAwAo6MTl+bY3RFQtUpfoAH7TZv2i1tpqhQxqglZHIr7RIrFdf7zRxsj+C//FaTkT7T1nWYpPaAqJ4RoB91On+sQeEWFzglh3cY/K70Pr2peD8yoNsj0LjNNkScD7dcQAAABRAZ+3akJ/AAADACj2/TJuRomABan6VTrnQwY8nOR9/IJIcLIWhQNrVQHVPFMjWvrSZyOMpAsFG5+r+Lx5WS5+OJR8YxakUcHb/7N11MX8ujNTAAAAl0GbvEmoQWyZTAhv//6nhAAAAwAPgXLkgBLGhTaF6dcZNwL/8Ix1duENL0WL0RQI7itQUuc7sPJrU2FF/Li+qR3lz61SZQCGieJEQSwM1qInrQdklnruE+tHomfREp9/7MmGY2QYJuEmnEZYNGNHSfj7T//4gmTyWYqtn33AdRFCbDJwud8slnv1kUXJdMgGjto2THG1lIsAAABUQZ/aRRUsK/8AAAMAHxr0vKF89bwAhuRozc68s8nJ5RElhW55txUTGQ+7WJiGgnltDYsYXg2rSo77qNxxed42CdweI3VFG7SpPt4fh/fOTjv4gKCAAAAAagGf+XRCfwAAAwAo6OS/HgKGdM2KEy922H3GHv3GKv3UG6XhypyJk3pKK4sK2PRx/VWtijUDSbSEt7apC1YRp7/37bM09f9cArptlki+AaE75UV50/6Ex2mYZh8/6A19+BMjSj5xiiM0UUEAAABmAZ/7akJ/AAADACj3AR6XTdwBSqSUjGfE2Vs8D9Uy8U1w3+BDrXYcdOrTxNfB+9pcH0P/UvuaGOv32DnDdJ8n0fKe5mybr4JYWKiQTzdDQE4rJL0hLDKESEa4Lyi+L4zpsKVDUqHpAAAA8EGb4EmoQWyZTAhv//6nhAAAAwAeTmY21IBNKtNiSMjPeyJe09Zq2TIQ0K+2vhAO80WESvg3eZ+Z/teEOfp/yE2gzNj/77RsnGFfUTbZbFuRNnhwaM1niWWCIn42V7Y6zlXqeRqvZScVgX6C4boSGxXCdgtpKLnrjvVUrSqz/zj0LeBLMkxzP1p6Md/QHObd0Mv4py8dKXOF3vut4bvMqJZ5rY3mWoGd3lWhpYcasASly1jeZCkBEWhcOssmpXo371dG8WWx0xepKCX2zPM4Fgr63XjdjXABBX7V9uP+RME58Rl5Wm+wrm/VwMJPJ9TqgQAAAD1Bnh5FFSwr/wAAAwAfGvi588ovGyRFddJDLkAIAyfqcC8FlCrZmNZwDwYOwTBZrWeeQALf6dA5T2qUpYZVAAAAQAGePXRCfwAAAwAo6OSIn53FsrozAJjg/uNqczgAL4HRRjo/a97M0bFhj7pyOl0F+SjQ40FuVOhXitupuAdEBlQAAAA0AZ4/akJ/AAADACj3Foi5Uhtn8zRVXwAt41RhpwPQ7zG8pEFDDuFA5GKJlpqbDwCpIDulYQAAALVBmiRJqEFsmUwIb//+p4QAAAMADXyQygAT1oElqR+L/ZSAHoYXmoRoNRjyVZvGTyqvuAs3NpNPNUgfQ0drnuwLpDAsdMRLO6v/hV2Jiw6Atz49wRdvw1h8BeqChVkJgM/uxmDgSOMmISrPqU0ZGifbQnJ4GzEJgpDZBlzCvx9lhVxuJAFFknKupSOTIGMnyWy6+bjhWXlKqerY7hBS4iF5qrePhpC0ev8urgCvHL8lmJuROrO/AAAAO0GeQkUVLCv/AAADAB8a+LmDXuWFPAdAB8A9YKfUe2m/n1PZ4usFd7JLRhHNyG67G9wkfzP+QT/9AUnBAAAALAGeYXRCfwAAAwAo6OpiZlZhT4HC1lOGon1lwABxM0zBhl6aL3SaYffJAwghAAAAOgGeY2pCfwAAAwAo9xvBVztrRqZl5Inx1M00cWIHfjfSUAADsgsnZJS0nGmz6whf6xNYoGj3TUOkFHwAAACeQZpoSahBbJlMCG///qeEAAADAA1+CFYADamKXaBhvGfFdI2gtUvZXbCNWDYNwDQNZNEExgKrHXtLcL1kysRtqshrTXK8ENUbSlC2P5Rv2+VdXuF8Ong9VxwuVZQWRA+YFDJH+cjQ3fwgFo/GvIQpc+9ZB/UdbzSDd5l7tjvh/s9942nTy1BoN5EEsY7rjz6ce/G/I9dTbmizXpgMPDwAAAB3QZ6GRRUsK/8AAAMAHxr2tgriXNgh3nugAmH/rY17ynYrUnsmjMP08+4ioUlc8kz0o5Bg8lh+dZ5xos4cmLYO3/c2jo2riNRB/zV7aJ8dgf7mLc6U/01SS7GYNcn9QeNCivuZd6+UhRQcqHgvVDf/VQkXjZl14EEAAAByAZ6ldEJ/AAADACjo5fYsD8o5AHMM4MjNBiAV6Dmf8S0UMGkbCAZqDvNoV/X+rxDqHzWuxR69feEzVi1vKilnQPNcEesb6J9GVPHamX2oAYnVDh9Km59sOcpdVc+4GHesmBys/3EfyX8nKuk6s4t5HfAgAAAAVQGep2pCfwAAAwAo9xe47ih6oDQAcrAM4cViSRpFKedJE1Z2LwB0+SJWTE8UoEr/2a/Ee55Uav5CIhmouZN1Y8iZkWNXfQ50sPuKiX0x3t0EV2nw7oEAAABSQZqsSahBbJlMCG///qeEAAADACWz4hSAI3hPgUZt0Qlm7xVU5wdUQx9kIu4IWanETFQVgYZAsM26Bl+w1pXPIV2590OgYMF3Uhuw/SJF1oTuzAAAAEhBnspFFSwr/wAAAwAfGvgo70Z17v+QAAJok+AxsjMeuqr8Tm7Omn/7/E6mpCI2SDmppthG/3SRYoMijZXcI6M6qB1iRO92ErEAAAA+AZ7pdEJ/AAADACjo5zfFQVzBtaExmUQAldt4XdQ7xsaIZjfduJOq/0jPfy2P5oEb2kCB8208je78G4AQ2YEAAAAzAZ7rakJ/AAADACj3GRRGCkAHK9yymLiYhxIGlI4DnVOTuB5NwS1om7oDj6VUKbVBghFxAAAAVUGa8EmoQWyZTAhv//6nhAAAAwAls9LtKkAVvWuhYRN+W9MwAE0rB1+8nVXmLDlkk0K3G5Z5yu9yEXW7kUJbYL81iaERIgzJE60pnZNaTe73SllEmLEAAAAlQZ8ORRUsK/8AAAMAHxr4vnWmBc7cy6FMVasGKgxsd8zVbL7CpgAAABsBny10Qn8AAAMAKOjnNrWLvbXnEXSB5EenDFgAAAAYAZ8vakJ/AAADACj3GRNwLt8UcPCAfAFxAAAAGkGbNEmoQWyZTAhv//6nhAAAAwAB2k8VxD0gAAAAHUGfUkUVLCv/AAADAB8a+GMglaIRSeUzBc29iAdMAAAAGAGfcXRCfwAAAwAo6Oc2tYu9tdQyhPAH+QAAABcBn3NqQn8AAAMAKPcZE3Au3xRJSZAGwQAAABhBm3hJqEFsmUwIb//+p4QAAAMAAAMA1IEAAAAcQZ+WRRUsK/8AAAMAHxr4YyCVohFJXeCwOizUgAAAABYBn7V0Qn8AAAMAKOjnNrWLvbVN5nmLAAAAFwGft2pCfwAAAwAo9xkTcC7fFElJkAbBAAAAF0GbvEmoQWyZTAhn//6eEAAAAwAAAwM+AAAAHEGf2kUVLCv/AAADAB8a+GMglaIRSV3gsDos1IAAAAAWAZ/5dEJ/AAADACjo5za1i721TeZ5iwAAABcBn/tqQn8AAAMAKPcZE3Au3xRJSZAGwAAAABZBm+BJqEFsmUwIV//+OEAAAAMAAAypAAAAHEGeHkUVLCv/AAADAB8a+GMglaIRSV3gsDos1IEAAAAWAZ49dEJ/AAADACjo5za1i721TeZ5iwAAABcBnj9qQn8AAAMAKPcZE3Au3xRJSZAGwQAAABdBmiFJqEFsmUwIT//98QAAAwAAAwAekAAAE15tb292AAAAbG12aGQAAAAAAAAAAAAAAAAAAAPoAAAtUAABAAABAAAAAAAAAAAAAAAAAQAAAAAAAAAAAAAAAAAAAAEAAAAAAAAAAAAAAAAAAEAAAAAAAAAAAAAAAAAAAAAAAAAAAAAAAAAAAAAAAAACAAASiHRyYWsAAABcdGtoZAAAAAMAAAAAAAAAAAAAAAEAAAAAAAAtUAAAAAAAAAAAAAAAAAAAAAAAAQAAAAAAAAAAAAAAAAAAAAEAAAAAAAAAAAAAAAAAAEAAAAACYAAAAZAAAAAAACRlZHRzAAAAHGVsc3QAAAAAAAAAAQAALVAAAAQAAAEAAAAAEgBtZGlhAAAAIG1kaGQAAAAAAAAAAAAAAAAAADwAAAK4AFXEAAAAAAAtaGRscgAAAAAAAAAAdmlkZQAAAAAAAAAAAAAAAFZpZGVvSGFuZGxlcgAAABGrbWluZgAAABR2bWhkAAAAAQAAAAAAAAAAAAAAJGRpbmYAAAAcZHJlZgAAAAAAAAABAAAADHVybCAAAAABAAARa3N0YmwAAACXc3RzZAAAAAAAAAABAAAAh2F2YzEAAAAAAAAAAQAAAAAAAAAAAAAAAAAAAAACYAGQAEgAAABIAAAAAAAAAAEAAAAAAAAAAAAAAAAAAAAAAAAAAAAAAAAAAAAAAAAAAAAY//8AAAAxYXZjQwFkAB7/4QAYZ2QAHqzZQJgzoQAAAwABAAADADwPFi2WAQAGaOvjyyLAAAAAGHN0dHMAAAAAAAAAAQAAAVwAAAIAAAAAGHN0c3MAAAAAAAAAAgAAAAEAAAD7AAAK6GN0dHMAAAAAAAABWwAAAAEAAAQAAAAAAQAACgAAAAABAAAEAAAAAAEAAAAAAAAAAQAAAgAAAAABAAAKAAAAAAEAAAQAAAAAAQAAAAAAAAABAAACAAAAAAEAAAoAAAAAAQAABAAAAAABAAAAAAAAAAEAAAIAAAAAAQAACgAAAAABAAAEAAAAAAEAAAAAAAAAAQAAAgAAAAABAAAKAAAAAAEAAAQAAAAAAQAAAAAAAAABAAACAAAAAAEAAAoAAAAAAQAABAAAAAABAAAAAAAAAAEAAAIAAAAAAQAACgAAAAABAAAEAAAAAAEAAAAAAAAAAQAAAgAAAAABAAAKAAAAAAEAAAQAAAAAAQAAAAAAAAABAAACAAAAAAEAAAoAAAAAAQAABAAAAAABAAAAAAAAAAEAAAIAAAAAAQAACgAAAAABAAAEAAAAAAEAAAAAAAAAAQAAAgAAAAABAAAKAAAAAAEAAAQAAAAAAQAAAAAAAAABAAACAAAAAAEAAAoAAAAAAQAABAAAAAABAAAAAAAAAAEAAAIAAAAAAQAACgAAAAABAAAEAAAAAAEAAAAAAAAAAQAAAgAAAAABAAAKAAAAAAEAAAQAAAAAAQAAAAAAAAABAAACAAAAAAEAAAoAAAAAAQAABAAAAAABAAAAAAAAAAEAAAIAAAAAAQAACgAAAAABAAAEAAAAAAEAAAAAAAAAAQAAAgAAAAABAAAGAAAAAAEAAAIAAAAAAQAACgAAAAABAAAEAAAAAAEAAAAAAAAAAQAAAgAAAAABAAAKAAAAAAEAAAQAAAAAAQAAAAAAAAABAAACAAAAAAEAAAoAAAAAAQAABAAAAAABAAAAAAAAAAEAAAIAAAAAAQAACgAAAAABAAAEAAAAAAEAAAAAAAAAAQAAAgAAAAABAAAKAAAAAAEAAAQAAAAAAQAAAAAAAAABAAACAAAAAAEAAAoAAAAAAQAABAAAAAABAAAAAAAAAAEAAAIAAAAAAQAACgAAAAABAAAEAAAAAAEAAAAAAAAAAQAAAgAAAAABAAAKAAAAAAEAAAQAAAAAAQAAAAAAAAABAAACAAAAAAEAAAoAAAAAAQAABAAAAAABAAAAAAAAAAEAAAIAAAAAAQAACgAAAAABAAAEAAAAAAEAAAAAAAAAAQAAAgAAAAABAAAKAAAAAAEAAAQAAAAAAQAAAAAAAAABAAACAAAAAAEAAAoAAAAAAQAABAAAAAABAAAAAAAAAAEAAAIAAAAAAQAACgAAAAABAAAEAAAAAAEAAAAAAAAAAQAAAgAAAAABAAAKAAAAAAEAAAQAAAAAAQAAAAAAAAABAAACAAAAAAEAAAYAAAAAAQAAAgAAAAABAAAKAAAAAAEAAAQAAAAAAQAAAAAAAAABAAACAAAAAAEAAAoAAAAAAQAABAAAAAABAAAAAAAAAAEAAAIAAAAAAQAACgAAAAABAAAEAAAAAAEAAAAAAAAAAQAAAgAAAAABAAAKAAAAAAEAAAQAAAAAAQAAAAAAAAABAAACAAAAAAEAAAoAAAAAAQAABAAAAAABAAAAAAAAAAEAAAIAAAAAAQAACgAAAAABAAAEAAAAAAEAAAAAAAAAAQAAAgAAAAABAAAKAAAAAAEAAAQAAAAAAQAAAAAAAAABAAACAAAAAAEAAAoAAAAAAQAABAAAAAABAAAAAAAAAAEAAAIAAAAAAQAACgAAAAABAAAEAAAAAAEAAAAAAAAAAQAAAgAAAAABAAAKAAAAAAEAAAQAAAAAAQAAAAAAAAABAAACAAAAAAEAAAoAAAAAAQAABAAAAAABAAAAAAAAAAEAAAIAAAAAAQAACgAAAAABAAAEAAAAAAEAAAAAAAAAAQAAAgAAAAABAAAKAAAAAAEAAAQAAAAAAQAAAAAAAAABAAACAAAAAAEAAAoAAAAAAQAABAAAAAABAAAAAAAAAAEAAAIAAAAAAQAACgAAAAABAAAEAAAAAAEAAAAAAAAAAQAAAgAAAAABAAAKAAAAAAEAAAQAAAAAAQAAAAAAAAABAAACAAAAAAEAAAoAAAAAAQAABAAAAAABAAAAAAAAAAEAAAIAAAAAAQAACgAAAAABAAAEAAAAAAEAAAAAAAAAAQAAAgAAAAABAAAKAAAAAAEAAAQAAAAAAQAAAAAAAAABAAACAAAAAAEAAAoAAAAAAQAABAAAAAABAAAAAAAAAAEAAAIAAAAAAQAACgAAAAABAAAEAAAAAAEAAAAAAAAAAQAAAgAAAAABAAAKAAAAAAEAAAQAAAAAAQAAAAAAAAABAAACAAAAAAEAAAoAAAAAAQAABAAAAAABAAAAAAAAAAEAAAIAAAAAAQAACgAAAAABAAAEAAAAAAEAAAAAAAAAAQAAAgAAAAABAAAKAAAAAAEAAAQAAAAAAQAAAAAAAAABAAACAAAAAAEAAAoAAAAAAQAABAAAAAABAAAAAAAAAAEAAAIAAAAAAQAACgAAAAABAAAEAAAAAAEAAAAAAAAAAQAAAgAAAAABAAAKAAAAAAEAAAQAAAAAAQAAAAAAAAABAAACAAAAAAEAAAoAAAAAAQAABAAAAAABAAAAAAAAAAEAAAIAAAAAAQAACgAAAAABAAAEAAAAAAEAAAAAAAAAAQAAAgAAAAABAAAKAAAAAAEAAAQAAAAAAQAAAAAAAAABAAACAAAAAAIAAAQAAAAAAQAACgAAAAABAAAEAAAAAAEAAAAAAAAAAQAAAgAAAAABAAAKAAAAAAEAAAQAAAAAAQAAAAAAAAABAAACAAAAAAEAAAoAAAAAAQAABAAAAAABAAAAAAAAAAEAAAIAAAAAAQAACgAAAAABAAAEAAAAAAEAAAAAAAAAAQAAAgAAAAABAAAKAAAAAAEAAAQAAAAAAQAAAAAAAAABAAACAAAAAAEAAAoAAAAAAQAABAAAAAABAAAAAAAAAAEAAAIAAAAAAQAACgAAAAABAAAEAAAAAAEAAAAAAAAAAQAAAgAAAAABAAAKAAAAAAEAAAQAAAAAAQAAAAAAAAABAAACAAAAAAEAAAoAAAAAAQAABAAAAAABAAAAAAAAAAEAAAIAAAAAAQAACgAAAAABAAAEAAAAAAEAAAAAAAAAAQAAAgAAAAABAAAKAAAAAAEAAAQAAAAAAQAAAAAAAAABAAACAAAAAAEAAAoAAAAAAQAABAAAAAABAAAAAAAAAAEAAAIAAAAAAQAACgAAAAABAAAEAAAAAAEAAAAAAAAAAQAAAgAAAAABAAAKAAAAAAEAAAQAAAAAAQAAAAAAAAABAAACAAAAAAEAAAoAAAAAAQAABAAAAAABAAAAAAAAAAEAAAIAAAAAAQAACgAAAAABAAAEAAAAAAEAAAAAAAAAAQAAAgAAAAABAAAKAAAAAAEAAAQAAAAAAQAAAAAAAAABAAACAAAAAAEAAAoAAAAAAQAABAAAAAABAAAAAAAAAAEAAAIAAAAAAQAACgAAAAABAAAEAAAAAAEAAAAAAAAAAQAAAgAAAAABAAAKAAAAAAEAAAQAAAAAAQAAAAAAAAABAAACAAAAAAEAAAoAAAAAAQAABAAAAAABAAAAAAAAAAEAAAIAAAAAAQAACgAAAAABAAAEAAAAAAEAAAAAAAAAAQAAAgAAAAABAAAKAAAAAAEAAAQAAAAAAQAAAAAAAAABAAACAAAAAAEAAAoAAAAAAQAABAAAAAABAAAAAAAAAAEAAAIAAAAAAQAABAAAAAAcc3RzYwAAAAAAAAABAAAAAQAAAVwAAAABAAAFhHN0c3oAAAAAAAAAAAAAAVwAAAnoAAABHwAAAE0AAABAAAAAOgAAAJIAAAA3AAAAKgAAACAAAACdAAAAQwAAACgAAABCAAAApQAAAEwAAAAwAAAAPQAAAL4AAABcAAAANQAAAEAAAADQAAAAZwAAAEYAAAA8AAAAxwAAAGsAAAA3AAAATgAAAVkAAABoAAAAVQAAAFsAAAEYAAAAqgAAAEIAAACFAAABUwAAANkAAACfAAAA0QAAAUwAAADbAAAAsgAAANAAAAFVAAAAwQAAAKQAAADuAAABSAAAAKsAAADEAAAAtgAAASMAAADSAAAAuwAAAM8AAAFCAAAAswAAAOQAAADHAAABSQAAAMMAAACdAAAA4QAAANIAAADJAAAA3QAAAJMAAACXAAAAlAAAANUAAACsAAAAjAAAAGwAAAD3AAAAqAAAAHkAAABhAAAA4AAAAJkAAAB2AAAAhAAAAQwAAACdAAAAiwAAAJwAAADGAAAAlAAAAJgAAACUAAABAAAAAJIAAAChAAAAnQAAANYAAACOAAAAgQAAAK0AAAD0AAAAqQAAAKcAAACFAAAA2wAAAKcAAACQAAAAlQAAAPkAAACuAAAAlwAAAIoAAAD1AAAA+gAAAMkAAACbAAAA9QAAAIsAAACpAAAAjQAAAUkAAACLAAAAlwAAAKMAAAEaAAAAkgAAATMAAAC4AAAAlAAAAKcAAAEsAAAAxgAAAMIAAADCAAABhgAAAO8AAADTAAAAsAAAAVEAAAC4AAAAxAAAANwAAAFaAAAAyAAAALUAAADBAAABKgAAAPoAAACyAAAAtwAAAS4AAADVAAAAugAAAMoAAAFJAAAA6wAAAKMAAADYAAABPAAAANwAAADuAAAAzwAAARwAAAC9AAAAugAAALEAAAGAAAAA3QAAANQAAADUAAABHAAAAL4AAADaAAAA1wAAAPcAAADZAAAAsgAAAKYAAAEKAAAA9AAAALgAAACsAAABQAAAANIAAAC4AAAAwgAAAT4AAACkAAAApgAAALAAAADsAAAAwAAAAMoAAADGAAABLwAAAMEAAADLAAAAtQAAANgAAACoAAAAsQAAAMUAAADjAAAApgAAAHUAAACUAAABCgAAALIAAAC7AAAAwAAAAVAAAACoAAAAqQAAAHYAAAEDAAAAoQAAAHEAAACAAAABMQAAALcAAACFAAAAfgAAAW8AAADlAAAAjwAAAM0AAAFsAAAA2gAAAL4AAACrAAABRgAAAMYAAACxAAAAqQAAATUAAADoAAAApgAAALAAAAFOAAAAvQAAAKQAAACaAAAA8gAAAKcAAAC0AAAAfwAAAPEAAADUAAAAzgAAAKYAAAB6AAAJlQAAAaoAAADTAAAArwAAAIEAAAEQAAAApgAAAFkAAACgAAAAzQAAAHsAAACFAAAAgQAAAOoAAACMAAAAjAAAAFkAAADSAAAAoAAAAH8AAACRAAAA2wAAAIcAAABgAAAAcgAAAQcAAACgAAAAZQAAAGoAAADxAAAAkwAAAIkAAAB8AAABNQAAAHkAAABwAAAAcgAAAToAAACxAAAAjQAAAI0AAADhAAAAjAAAAHoAAABrAAABEgAAAHcAAAB3AAAAeQAAARIAAACPAAAAbwAAAG0AAADmAAAAYgAAAGsAAABVAAAAmwAAAFgAAABuAAAAagAAAPQAAABBAAAARAAAADgAAAC5AAAAPwAAADAAAAA+AAAAogAAAHsAAAB2AAAAWQAAAFYAAABMAAAAQgAAADcAAABZAAAAKQAAAB8AAAAcAAAAHgAAACEAAAAcAAAAGwAAABwAAAAgAAAAGgAAABsAAAAbAAAAIAAAABoAAAAbAAAAGgAAACAAAAAaAAAAGwAAABsAAAAUc3RjbwAAAAAAAAABAAAAMAAAAGJ1ZHRhAAAAWm1ldGEAAAAAAAAAIWhkbHIAAAAAAAAAAG1kaXJhcHBsAAAAAAAAAAAAAAAALWlsc3QAAAAlqXRvbwAAAB1kYXRhAAAAAQAAAABMYXZmNTguMjkuMTAw\" type=\"video/mp4\">\n",
       "    Your browser does not support the video tag.\n",
       "    </video>"
      ],
      "text/plain": [
       "<IPython.core.display.HTML object>"
      ]
     },
     "execution_count": 23,
     "metadata": {},
     "output_type": "execute_result"
    }
   ],
   "source": [
    "filename = \"./videos/lunar_lander.mp4\"\n",
    "\n",
    "utils.create_video(filename, env, q_network)\n",
    "utils.embed_mp4(filename)"
   ]
  },
  {
   "cell_type": "markdown",
   "metadata": {},
   "source": [
    "<a name=\"11\"></a>\n",
    "## 11 - Congratulations!\n",
    "\n",
    "You have successfully used Deep Q-Learning with Experience Replay to train an agent to land a lunar lander safely on a landing pad on the surface of the moon. Congratulations!"
   ]
  },
  {
   "cell_type": "markdown",
   "metadata": {},
   "source": [
    "<a name=\"12\"></a>\n",
    "## 12 - References\n",
    "\n",
    "If you would like to learn more about Deep Q-Learning, we recommend you check out the following papers.\n",
    "\n",
    "\n",
    "* Mnih, V., Kavukcuoglu, K., Silver, D. et al. Human-level control through deep reinforcement learning. Nature 518, 529–533 (2015).\n",
    "\n",
    "\n",
    "* Lillicrap, T. P., Hunt, J. J., Pritzel, A., et al. Continuous Control with Deep Reinforcement Learning. ICLR (2016).\n",
    "\n",
    "\n",
    "* Mnih, V., Kavukcuoglu, K., Silver, D. et al. Playing Atari with Deep Reinforcement Learning. arXiv e-prints.  arXiv:1312.5602 (2013)."
   ]
  },
  {
   "cell_type": "markdown",
   "metadata": {},
   "source": [
    "<details>\n",
    "  <summary><font size=\"2\" color=\"darkgreen\"><b>Please click here if you want to experiment with any of the non-graded code.</b></font></summary>\n",
    "    <p><i><b>Important Note: Please only do this when you've already passed the assignment to avoid problems with the autograder.</b></i>\n",
    "    <ol>\n",
    "        <li> On the notebook’s menu, click “View” > “Cell Toolbar” > “Edit Metadata”</li>\n",
    "        <li> Hit the “Edit Metadata” button next to the code cell which you want to lock/unlock</li>\n",
    "        <li> Set the attribute value for “editable” to:\n",
    "            <ul>\n",
    "                <li> “true” if you want to unlock it </li>\n",
    "                <li> “false” if you want to lock it </li>\n",
    "            </ul>\n",
    "        </li>\n",
    "        <li> On the notebook’s menu, click “View” > “Cell Toolbar” > “None” </li>\n",
    "    </ol>\n",
    "    <p> Here's a short demo of how to do the steps above: \n",
    "        <br>\n",
    "        <img src=\"https://lh3.google.com/u/0/d/14Xy_Mb17CZVgzVAgq7NCjMVBvSae3xO1\" align=\"center\" alt=\"unlock_cells.gif\">\n",
    "</details>"
   ]
  }
 ],
 "metadata": {
  "accelerator": "GPU",
  "colab": {
   "collapsed_sections": [],
   "name": "TensorFlow - Lunar Lander.ipynb",
   "provenance": []
  },
  "kernelspec": {
   "display_name": "Python 3",
   "language": "python",
   "name": "python3"
  },
  "language_info": {
   "codemirror_mode": {
    "name": "ipython",
    "version": 3
   },
   "file_extension": ".py",
   "mimetype": "text/x-python",
   "name": "python",
   "nbconvert_exporter": "python",
   "pygments_lexer": "ipython3",
   "version": "3.7.6"
  }
 },
 "nbformat": 4,
 "nbformat_minor": 1
}
